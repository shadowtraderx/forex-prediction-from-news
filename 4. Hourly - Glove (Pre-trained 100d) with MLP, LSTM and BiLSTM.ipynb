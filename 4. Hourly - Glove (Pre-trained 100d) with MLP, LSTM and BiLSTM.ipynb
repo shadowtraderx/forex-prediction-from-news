{
 "cells": [
  {
   "cell_type": "code",
   "execution_count": 1,
   "id": "c33d8f16",
   "metadata": {},
   "outputs": [],
   "source": [
    "import numpy as np\n",
    "import pandas as pd\n",
    "from datetime import datetime, timedelta"
   ]
  },
  {
   "cell_type": "code",
   "execution_count": 35,
   "id": "3ecf2c1d",
   "metadata": {},
   "outputs": [],
   "source": [
    "def groupby_Date_Hr(df,delta):\n",
    "    \n",
    "    df['time_gmt_datetime'] = pd.Series(index=df.index)\n",
    "    \n",
    "    for i in range(df.shape[0]):\n",
    "        x = df['time_gmt_date'].iloc[i]\n",
    "        x = datetime.strptime(x,\"%Y-%m-%d\")\n",
    "        x = x+timedelta(hours=df['time_gmt_hr'].iloc[i])\n",
    "        df['time_gmt_datetime'].iloc[i] = x\n",
    "    \n",
    "    dates = list(set(df['time_gmt_datetime'].to_list()))\n",
    "    \n",
    "    rows = []\n",
    "    \n",
    "    for dt in dates:\n",
    "        \n",
    "        dt_ = dt-timedelta(hours=delta)\n",
    "        df_datetime = df.loc[(df['time_gmt_datetime'] > dt_) & (df['time_gmt_datetime'] <= dt)]\n",
    "        \n",
    "        text = \"\"\n",
    "        for i in range(df_datetime.shape[0]):\n",
    "            text = text+\" \"+df_datetime['title'].iloc[i]\n",
    "            \n",
    "        rows.append([dt, text])\n",
    "    \n",
    "    df_ = pd.DataFrame(rows)\n",
    "    df_.columns=[\"time_gmt_date_hr\",\"combined_text\"]\n",
    "    df_.sort_values(by='time_gmt_date_hr', ascending=True, inplace=True)\n",
    "    \n",
    "    return df_\n",
    "\n",
    "def encode_price_direction(df):\n",
    "    \n",
    "    for i in range(df.shape[0]):\n",
    "        \n",
    "        val = df['price_direction'].iloc[i]\n",
    "        \n",
    "        if val == 'up':\n",
    "            df['price_direction'].iloc[i] = 1\n",
    "        else: \n",
    "            df['price_direction'].iloc[i] = 0\n",
    "            \n",
    "    return df\n",
    "\n",
    "def align_datetime(df, delta):\n",
    "    \n",
    "    for i in range(df.shape[0]):\n",
    "        x = df['date'].iloc[i]\n",
    "        x = datetime.strptime(x,\"%Y-%m-%d %H:%M:%S\")\n",
    "        x = x-timedelta(hours=delta) \n",
    "        df['date'].iloc[i] = x\n",
    "    \n",
    "    df.rename(columns={\"date\": \"time_gmt_date_hr\"}, inplace=True)\n",
    "\n",
    "    return df"
   ]
  },
  {
   "cell_type": "code",
   "execution_count": 4,
   "id": "281a5ebd",
   "metadata": {},
   "outputs": [],
   "source": [
    "import matplotlib.pyplot as plt\n",
    "import seaborn as sns\n",
    "from tensorflow.keras.preprocessing.text import Tokenizer\n",
    "from tensorflow.keras.preprocessing.sequence import pad_sequences\n",
    "from tensorflow.keras.models import Sequential\n",
    "from tensorflow.keras.layers import Dense, Embedding, LSTM, Bidirectional, Flatten\n",
    "from sklearn.model_selection import train_test_split\n",
    "from tensorflow.keras.callbacks import EarlyStopping\n",
    "\n",
    "def plotLossCurve(estimator):\n",
    "    # Plot model loss over epochs\n",
    "    plt.plot(estimator.history['loss'])\n",
    "    plt.plot(estimator.history['val_loss'])\n",
    "    plt.title('model loss')\n",
    "    plt.ylabel('loss')\n",
    "    plt.xlabel('epoch')\n",
    "    plt.legend(['train', 'valid'], loc='upper left')\n",
    "    plt.show()\n",
    "    \n",
    "def mlp_pretrained_glove_embedding(X_train,X_test,y_train,y_test,epochs):\n",
    "    \n",
    "    embeddings_index = {}\n",
    "    f = open('Model/glove.6B.100d.txt')\n",
    "    for line in f:\n",
    "        values = line.split()\n",
    "        word = values[0]\n",
    "        coefs = np.asarray(values[1:], dtype='float32')\n",
    "        embeddings_index[word] = coefs\n",
    "    f.close()\n",
    "    \n",
    "    vocab_size = 5000\n",
    "    oov_token = \"<OOV>\"\n",
    "    max_length = 100\n",
    "    padding_type = \"post\"\n",
    "    trunction_type=\"post\"\n",
    "\n",
    "    tokenizer = Tokenizer(num_words = vocab_size, oov_token=oov_token)\n",
    "    tokenizer.fit_on_texts(X_train)\n",
    "    \n",
    "    word_index = tokenizer.word_index\n",
    "    X_train_sequences = tokenizer.texts_to_sequences(X_train)\n",
    "    \n",
    "    X_train_padded = pad_sequences(X_train_sequences,maxlen=max_length, padding=padding_type, \n",
    "                       truncating=trunction_type)\n",
    "    \n",
    "    X_test_sequences = tokenizer.texts_to_sequences(X_test)\n",
    "    X_test_padded = pad_sequences(X_test_sequences,maxlen=max_length, \n",
    "                               padding=padding_type, truncating=trunction_type)\n",
    "    \n",
    "    embedding_matrix = np.zeros((len(word_index) + 1, max_length))\n",
    "    \n",
    "    for word, i in word_index.items():\n",
    "        embedding_vector = embeddings_index.get(word)\n",
    "        if embedding_vector is not None:\n",
    "            # words not found in embedding index will be all-zeros.\n",
    "            embedding_matrix[i] = embedding_vector\n",
    "            \n",
    "    model = Sequential()\n",
    "    model.add(Embedding(len(word_index) + 1,\n",
    "                                max_length,\n",
    "                                weights=[embedding_matrix],\n",
    "                                input_length=max_length,\n",
    "                                trainable=False))\n",
    "    model.add(Flatten())\n",
    "    model.add(Dense(1, activation='sigmoid'))\n",
    "    model.compile(optimizer='adam', loss='binary_crossentropy', metrics=['AUC'])\n",
    "\n",
    "    estimator = model.fit(X_train_padded, y_train, validation_split=0.2, epochs=epochs, verbose=1)\n",
    "\n",
    "    plotLossCurve(estimator)\n",
    "\n",
    "    loss, auc = model.evaluate(X_test_padded,y_test)\n",
    "    print('Test AUC is {} '.format(auc))\n",
    "    \n",
    "def lstm_pretrained_glove_embedding(X_train,X_test,y_train,y_test, epochs):\n",
    "\n",
    "    embeddings_index = {}\n",
    "    f = open('Model/glove.6B.100d.txt')\n",
    "    for line in f:\n",
    "        values = line.split()\n",
    "        word = values[0]\n",
    "        coefs = np.asarray(values[1:], dtype='float32')\n",
    "        embeddings_index[word] = coefs\n",
    "    f.close()\n",
    "    \n",
    "    vocab_size = 5000\n",
    "    oov_token = \"<OOV>\"\n",
    "    max_length = 100\n",
    "    padding_type = \"post\"\n",
    "    trunction_type=\"post\"\n",
    "\n",
    "    tokenizer = Tokenizer(num_words = vocab_size, oov_token=oov_token)\n",
    "    tokenizer.fit_on_texts(X_train)\n",
    "    \n",
    "    word_index = tokenizer.word_index\n",
    "    X_train_sequences = tokenizer.texts_to_sequences(X_train)\n",
    "    \n",
    "    X_train_padded = pad_sequences(X_train_sequences,maxlen=max_length, padding=padding_type, \n",
    "                       truncating=trunction_type)\n",
    "    \n",
    "    X_test_sequences = tokenizer.texts_to_sequences(X_test)\n",
    "    X_test_padded = pad_sequences(X_test_sequences,maxlen=max_length, \n",
    "                               padding=padding_type, truncating=trunction_type)\n",
    "    \n",
    "    embedding_matrix = np.zeros((len(word_index) + 1, max_length))\n",
    "    \n",
    "    for word, i in word_index.items():\n",
    "        embedding_vector = embeddings_index.get(word)\n",
    "        if embedding_vector is not None:\n",
    "            # words not found in embedding index will be all-zeros.\n",
    "            embedding_matrix[i] = embedding_vector\n",
    "\n",
    "    early_stopping = EarlyStopping(\n",
    "    min_delta=0.001, # minimium amount of change to count as an improvement\n",
    "    patience=20, # how many epochs to wait before stopping\n",
    "    restore_best_weights=True,)\n",
    "\n",
    "    embedding_dim = 16\n",
    "    input_length = 100\n",
    "\n",
    "    embedding_layer = Embedding(len(word_index) + 1,\n",
    "                                max_length,\n",
    "                                weights=[embedding_matrix],\n",
    "                                input_length=max_length,\n",
    "                                trainable=False)\n",
    "\n",
    "    model = Sequential([\n",
    "      embedding_layer,\n",
    "      LSTM(embedding_dim,),\n",
    "      Dense(1, activation='sigmoid')\n",
    "    ])\n",
    "    model.compile(optimizer='adam', loss='binary_crossentropy', metrics=['AUC'])\n",
    "\n",
    "    estimator = model.fit(X_train_padded, y_train, validation_split=0.2, epochs=epochs, verbose=1, callbacks=[early_stopping])\n",
    "\n",
    "    plotLossCurve(estimator)\n",
    "\n",
    "    loss, auc = model.evaluate(X_test_padded,y_test)\n",
    "    print('Test AUC is {} '.format(auc))\n",
    "\n",
    "    \n",
    "def bilstm_pretrained_glove_embedding(X_train,X_test,y_train,y_test, epochs):\n",
    "\n",
    "    embeddings_index = {}\n",
    "    f = open('Model/glove.6B.100d.txt')\n",
    "    for line in f:\n",
    "        values = line.split()\n",
    "        word = values[0]\n",
    "        coefs = np.asarray(values[1:], dtype='float32')\n",
    "        embeddings_index[word] = coefs\n",
    "    f.close()\n",
    "    \n",
    "    vocab_size = 5000\n",
    "    oov_token = \"<OOV>\"\n",
    "    max_length = 100\n",
    "    padding_type = \"post\"\n",
    "    trunction_type=\"post\"\n",
    "\n",
    "    tokenizer = Tokenizer(num_words = vocab_size, oov_token=oov_token)\n",
    "    tokenizer.fit_on_texts(X_train)\n",
    "    \n",
    "    word_index = tokenizer.word_index\n",
    "    X_train_sequences = tokenizer.texts_to_sequences(X_train)\n",
    "    \n",
    "    X_train_padded = pad_sequences(X_train_sequences,maxlen=max_length, padding=padding_type, \n",
    "                       truncating=trunction_type)\n",
    "    \n",
    "    X_test_sequences = tokenizer.texts_to_sequences(X_test)\n",
    "    X_test_padded = pad_sequences(X_test_sequences,maxlen=max_length, \n",
    "                               padding=padding_type, truncating=trunction_type)\n",
    "    \n",
    "    embedding_matrix = np.zeros((len(word_index) + 1, max_length))\n",
    "    \n",
    "    for word, i in word_index.items():\n",
    "        embedding_vector = embeddings_index.get(word)\n",
    "        if embedding_vector is not None:\n",
    "            # words not found in embedding index will be all-zeros.\n",
    "            embedding_matrix[i] = embedding_vector\n",
    "\n",
    "    early_stopping = EarlyStopping(\n",
    "    min_delta=0.001, # minimium amount of change to count as an improvement\n",
    "    patience=20, # how many epochs to wait before stopping\n",
    "    restore_best_weights=True,)\n",
    "\n",
    "    embedding_dim = 16\n",
    "    input_length = 100\n",
    "\n",
    "    embedding_layer = Embedding(len(word_index) + 1,\n",
    "                                max_length,\n",
    "                                weights=[embedding_matrix],\n",
    "                                input_length=max_length,\n",
    "                                trainable=False)\n",
    "\n",
    "    model = Sequential([\n",
    "      embedding_layer,\n",
    "      Bidirectional(LSTM(embedding_dim,)),\n",
    "      Dense(1, activation='sigmoid')\n",
    "    ])\n",
    "    model.compile(optimizer='adam', loss='binary_crossentropy', metrics=['AUC'])\n",
    "\n",
    "    estimator = model.fit(X_train_padded, y_train, validation_split=0.2, epochs=epochs, verbose=1, callbacks=[early_stopping])\n",
    "\n",
    "    plotLossCurve(estimator)\n",
    "\n",
    "    loss, auc = model.evaluate(X_test_padded,y_test)\n",
    "    print('Test AUC is {} '.format(auc))"
   ]
  },
  {
   "cell_type": "markdown",
   "id": "bed98297",
   "metadata": {},
   "source": [
    "# Delta = 1 Hr"
   ]
  },
  {
   "cell_type": "code",
   "execution_count": 5,
   "id": "d723cb9d",
   "metadata": {},
   "outputs": [
    {
     "name": "stderr",
     "output_type": "stream",
     "text": [
      "<ipython-input-2-a3b996bdb93f>:3: DeprecationWarning: The default dtype for empty Series will be 'object' instead of 'float64' in a future version. Specify a dtype explicitly to silence this warning.\n",
      "  df['time_gmt_datetime'] = pd.Series(index=df.index)\n",
      "/Users/sheetalpandrekar/opt/miniconda3/envs/forextrade/lib/python3.9/site-packages/pandas/core/indexing.py:1637: SettingWithCopyWarning: \n",
      "A value is trying to be set on a copy of a slice from a DataFrame\n",
      "\n",
      "See the caveats in the documentation: https://pandas.pydata.org/pandas-docs/stable/user_guide/indexing.html#returning-a-view-versus-a-copy\n",
      "  self._setitem_single_block(indexer, value, name)\n"
     ]
    },
    {
     "data": {
      "text/html": [
       "<div>\n",
       "<style scoped>\n",
       "    .dataframe tbody tr th:only-of-type {\n",
       "        vertical-align: middle;\n",
       "    }\n",
       "\n",
       "    .dataframe tbody tr th {\n",
       "        vertical-align: top;\n",
       "    }\n",
       "\n",
       "    .dataframe thead th {\n",
       "        text-align: right;\n",
       "    }\n",
       "</style>\n",
       "<table border=\"1\" class=\"dataframe\">\n",
       "  <thead>\n",
       "    <tr style=\"text-align: right;\">\n",
       "      <th></th>\n",
       "      <th>time_gmt_date_hr</th>\n",
       "      <th>combined_text</th>\n",
       "    </tr>\n",
       "  </thead>\n",
       "  <tbody>\n",
       "    <tr>\n",
       "      <th>6451</th>\n",
       "      <td>2015-12-28 00:00:00</td>\n",
       "      <td>japan output retail sales slump dampen recove...</td>\n",
       "    </tr>\n",
       "    <tr>\n",
       "      <th>3743</th>\n",
       "      <td>2015-12-28 04:00:00</td>\n",
       "      <td>japan business lobby head won t commit to hig...</td>\n",
       "    </tr>\n",
       "    <tr>\n",
       "      <th>556</th>\n",
       "      <td>2015-12-28 07:00:00</td>\n",
       "      <td>south korea japan agree to irreversibly end c...</td>\n",
       "    </tr>\n",
       "    <tr>\n",
       "      <th>3793</th>\n",
       "      <td>2015-12-28 08:00:00</td>\n",
       "      <td>japan firms cold on abe s calls for wage hike...</td>\n",
       "    </tr>\n",
       "    <tr>\n",
       "      <th>554</th>\n",
       "      <td>2015-12-28 10:00:00</td>\n",
       "      <td>for japan and south korea comfort women bronz...</td>\n",
       "    </tr>\n",
       "  </tbody>\n",
       "</table>\n",
       "</div>"
      ],
      "text/plain": [
       "        time_gmt_date_hr                                      combined_text\n",
       "6451 2015-12-28 00:00:00   japan output retail sales slump dampen recove...\n",
       "3743 2015-12-28 04:00:00   japan business lobby head won t commit to hig...\n",
       "556  2015-12-28 07:00:00   south korea japan agree to irreversibly end c...\n",
       "3793 2015-12-28 08:00:00   japan firms cold on abe s calls for wage hike...\n",
       "554  2015-12-28 10:00:00   for japan and south korea comfort women bronz..."
      ]
     },
     "execution_count": 5,
     "metadata": {},
     "output_type": "execute_result"
    }
   ],
   "source": [
    "df_news = pd.read_csv('Data/news_data.csv')\n",
    "df_combined_news = groupby_Date_Hr(df_news, delta=1)\n",
    "df_combined_news.head(5)"
   ]
  },
  {
   "cell_type": "code",
   "execution_count": 6,
   "id": "1ba397e4",
   "metadata": {},
   "outputs": [
    {
     "name": "stderr",
     "output_type": "stream",
     "text": [
      "/Users/sheetalpandrekar/opt/miniconda3/envs/forextrade/lib/python3.9/site-packages/pandas/core/indexing.py:1637: SettingWithCopyWarning: \n",
      "A value is trying to be set on a copy of a slice from a DataFrame\n",
      "\n",
      "See the caveats in the documentation: https://pandas.pydata.org/pandas-docs/stable/user_guide/indexing.html#returning-a-view-versus-a-copy\n",
      "  self._setitem_single_block(indexer, value, name)\n"
     ]
    },
    {
     "data": {
      "text/html": [
       "<div>\n",
       "<style scoped>\n",
       "    .dataframe tbody tr th:only-of-type {\n",
       "        vertical-align: middle;\n",
       "    }\n",
       "\n",
       "    .dataframe tbody tr th {\n",
       "        vertical-align: top;\n",
       "    }\n",
       "\n",
       "    .dataframe thead th {\n",
       "        text-align: right;\n",
       "    }\n",
       "</style>\n",
       "<table border=\"1\" class=\"dataframe\">\n",
       "  <thead>\n",
       "    <tr style=\"text-align: right;\">\n",
       "      <th></th>\n",
       "      <th>date</th>\n",
       "      <th>price</th>\n",
       "      <th>price_direction</th>\n",
       "    </tr>\n",
       "  </thead>\n",
       "  <tbody>\n",
       "    <tr>\n",
       "      <th>0</th>\n",
       "      <td>2016-01-01 00:00:00</td>\n",
       "      <td>120.2665</td>\n",
       "      <td>1</td>\n",
       "    </tr>\n",
       "    <tr>\n",
       "      <th>1</th>\n",
       "      <td>2016-01-01 01:00:00</td>\n",
       "      <td>120.2665</td>\n",
       "      <td>1</td>\n",
       "    </tr>\n",
       "    <tr>\n",
       "      <th>2</th>\n",
       "      <td>2016-01-01 02:00:00</td>\n",
       "      <td>120.2665</td>\n",
       "      <td>1</td>\n",
       "    </tr>\n",
       "    <tr>\n",
       "      <th>3</th>\n",
       "      <td>2016-01-01 03:00:00</td>\n",
       "      <td>120.2665</td>\n",
       "      <td>1</td>\n",
       "    </tr>\n",
       "    <tr>\n",
       "      <th>4</th>\n",
       "      <td>2016-01-01 04:00:00</td>\n",
       "      <td>120.2665</td>\n",
       "      <td>1</td>\n",
       "    </tr>\n",
       "  </tbody>\n",
       "</table>\n",
       "</div>"
      ],
      "text/plain": [
       "                  date     price price_direction\n",
       "0  2016-01-01 00:00:00  120.2665               1\n",
       "1  2016-01-01 01:00:00  120.2665               1\n",
       "2  2016-01-01 02:00:00  120.2665               1\n",
       "3  2016-01-01 03:00:00  120.2665               1\n",
       "4  2016-01-01 04:00:00  120.2665               1"
      ]
     },
     "execution_count": 6,
     "metadata": {},
     "output_type": "execute_result"
    }
   ],
   "source": [
    "df_usdjpy = pd.read_csv('Data/usdjpy_hourly.csv')\n",
    "df_usdjpy = encode_price_direction(df_usdjpy)\n",
    "df_usdjpy.head()"
   ]
  },
  {
   "cell_type": "code",
   "execution_count": 7,
   "id": "95ec47de",
   "metadata": {},
   "outputs": [
    {
     "name": "stderr",
     "output_type": "stream",
     "text": [
      "/Users/sheetalpandrekar/opt/miniconda3/envs/forextrade/lib/python3.9/site-packages/pandas/core/indexing.py:1637: SettingWithCopyWarning: \n",
      "A value is trying to be set on a copy of a slice from a DataFrame\n",
      "\n",
      "See the caveats in the documentation: https://pandas.pydata.org/pandas-docs/stable/user_guide/indexing.html#returning-a-view-versus-a-copy\n",
      "  self._setitem_single_block(indexer, value, name)\n"
     ]
    },
    {
     "data": {
      "text/html": [
       "<div>\n",
       "<style scoped>\n",
       "    .dataframe tbody tr th:only-of-type {\n",
       "        vertical-align: middle;\n",
       "    }\n",
       "\n",
       "    .dataframe tbody tr th {\n",
       "        vertical-align: top;\n",
       "    }\n",
       "\n",
       "    .dataframe thead th {\n",
       "        text-align: right;\n",
       "    }\n",
       "</style>\n",
       "<table border=\"1\" class=\"dataframe\">\n",
       "  <thead>\n",
       "    <tr style=\"text-align: right;\">\n",
       "      <th></th>\n",
       "      <th>time_gmt_date_hr</th>\n",
       "      <th>price</th>\n",
       "      <th>price_direction</th>\n",
       "    </tr>\n",
       "  </thead>\n",
       "  <tbody>\n",
       "    <tr>\n",
       "      <th>0</th>\n",
       "      <td>2015-12-31 23:00:00</td>\n",
       "      <td>120.2665</td>\n",
       "      <td>1</td>\n",
       "    </tr>\n",
       "    <tr>\n",
       "      <th>1</th>\n",
       "      <td>2016-01-01 00:00:00</td>\n",
       "      <td>120.2665</td>\n",
       "      <td>1</td>\n",
       "    </tr>\n",
       "    <tr>\n",
       "      <th>2</th>\n",
       "      <td>2016-01-01 01:00:00</td>\n",
       "      <td>120.2665</td>\n",
       "      <td>1</td>\n",
       "    </tr>\n",
       "    <tr>\n",
       "      <th>3</th>\n",
       "      <td>2016-01-01 02:00:00</td>\n",
       "      <td>120.2665</td>\n",
       "      <td>1</td>\n",
       "    </tr>\n",
       "    <tr>\n",
       "      <th>4</th>\n",
       "      <td>2016-01-01 03:00:00</td>\n",
       "      <td>120.2665</td>\n",
       "      <td>1</td>\n",
       "    </tr>\n",
       "  </tbody>\n",
       "</table>\n",
       "</div>"
      ],
      "text/plain": [
       "      time_gmt_date_hr     price price_direction\n",
       "0  2015-12-31 23:00:00  120.2665               1\n",
       "1  2016-01-01 00:00:00  120.2665               1\n",
       "2  2016-01-01 01:00:00  120.2665               1\n",
       "3  2016-01-01 02:00:00  120.2665               1\n",
       "4  2016-01-01 03:00:00  120.2665               1"
      ]
     },
     "execution_count": 7,
     "metadata": {},
     "output_type": "execute_result"
    }
   ],
   "source": [
    "df_usdjpy_ = align_datetime(df_usdjpy, delta = 1)\n",
    "df_usdjpy_.head()"
   ]
  },
  {
   "cell_type": "code",
   "execution_count": 8,
   "id": "3ba01911",
   "metadata": {},
   "outputs": [
    {
     "data": {
      "text/html": [
       "<div>\n",
       "<style scoped>\n",
       "    .dataframe tbody tr th:only-of-type {\n",
       "        vertical-align: middle;\n",
       "    }\n",
       "\n",
       "    .dataframe tbody tr th {\n",
       "        vertical-align: top;\n",
       "    }\n",
       "\n",
       "    .dataframe thead th {\n",
       "        text-align: right;\n",
       "    }\n",
       "</style>\n",
       "<table border=\"1\" class=\"dataframe\">\n",
       "  <thead>\n",
       "    <tr style=\"text-align: right;\">\n",
       "      <th></th>\n",
       "      <th>time_gmt_date_hr</th>\n",
       "      <th>combined_text</th>\n",
       "      <th>price</th>\n",
       "      <th>price_direction</th>\n",
       "    </tr>\n",
       "  </thead>\n",
       "  <tbody>\n",
       "    <tr>\n",
       "      <th>0</th>\n",
       "      <td>2016-01-01 20:00:00</td>\n",
       "      <td>airbus to sell three a380 superjumbo jets to ...</td>\n",
       "      <td>120.2665</td>\n",
       "      <td>1</td>\n",
       "    </tr>\n",
       "    <tr>\n",
       "      <th>1</th>\n",
       "      <td>2016-01-01 21:00:00</td>\n",
       "      <td>airbus to sell three a380 superjumbo jets to ...</td>\n",
       "      <td>120.2665</td>\n",
       "      <td>1</td>\n",
       "    </tr>\n",
       "    <tr>\n",
       "      <th>2</th>\n",
       "      <td>2016-01-03 21:00:00</td>\n",
       "      <td>japan central bank turns activist investor to...</td>\n",
       "      <td>114.0480</td>\n",
       "      <td>1</td>\n",
       "    </tr>\n",
       "    <tr>\n",
       "      <th>3</th>\n",
       "      <td>2016-01-05 18:00:00</td>\n",
       "      <td>automakers not silicon valley lead in driverl...</td>\n",
       "      <td>106.3350</td>\n",
       "      <td>1</td>\n",
       "    </tr>\n",
       "    <tr>\n",
       "      <th>4</th>\n",
       "      <td>2016-01-06 04:00:00</td>\n",
       "      <td>japan says to make firm response to north kor...</td>\n",
       "      <td>109.9575</td>\n",
       "      <td>0</td>\n",
       "    </tr>\n",
       "  </tbody>\n",
       "</table>\n",
       "</div>"
      ],
      "text/plain": [
       "     time_gmt_date_hr                                      combined_text  \\\n",
       "0 2016-01-01 20:00:00   airbus to sell three a380 superjumbo jets to ...   \n",
       "1 2016-01-01 21:00:00   airbus to sell three a380 superjumbo jets to ...   \n",
       "2 2016-01-03 21:00:00   japan central bank turns activist investor to...   \n",
       "3 2016-01-05 18:00:00   automakers not silicon valley lead in driverl...   \n",
       "4 2016-01-06 04:00:00   japan says to make firm response to north kor...   \n",
       "\n",
       "      price price_direction  \n",
       "0  120.2665               1  \n",
       "1  120.2665               1  \n",
       "2  114.0480               1  \n",
       "3  106.3350               1  \n",
       "4  109.9575               0  "
      ]
     },
     "execution_count": 8,
     "metadata": {},
     "output_type": "execute_result"
    }
   ],
   "source": [
    "df_combined_news['time_gmt_date_hr'] = pd.to_datetime(df_combined_news['time_gmt_date_hr'])\n",
    "df_usdjpy_['time_gmt_date_hr'] = pd.to_datetime(df_usdjpy_['time_gmt_date_hr'])\n",
    "df_merged = df_combined_news.merge(df_usdjpy_, on =['time_gmt_date_hr'])\n",
    "df_merged.head()"
   ]
  },
  {
   "cell_type": "code",
   "execution_count": 9,
   "id": "7fdd9136",
   "metadata": {},
   "outputs": [
    {
     "data": {
      "text/plain": [
       "(6357, 4)"
      ]
     },
     "execution_count": 9,
     "metadata": {},
     "output_type": "execute_result"
    }
   ],
   "source": [
    "df_merged.shape"
   ]
  },
  {
   "cell_type": "code",
   "execution_count": 10,
   "id": "cbcc1d0c",
   "metadata": {},
   "outputs": [],
   "source": [
    "X = df_merged['combined_text']\n",
    "y = df_merged[['price_direction']]\n",
    "\n",
    "X_train, X_test , y_train, y_test = train_test_split(X, y , test_size = 0.20)\n",
    "y_train = np.asarray(y_train).astype(np.float32)\n",
    "y_test = np.asarray(y_test).astype(np.float32)"
   ]
  },
  {
   "cell_type": "code",
   "execution_count": 12,
   "id": "d9c8c258",
   "metadata": {
    "scrolled": true
   },
   "outputs": [
    {
     "name": "stdout",
     "output_type": "stream",
     "text": [
      "Epoch 1/20\n",
      "128/128 [==============================] - 33s 25ms/step - loss: 0.6929 - auc: 0.5061 - val_loss: 0.6897 - val_auc: 0.5077\n",
      "Epoch 2/20\n",
      "128/128 [==============================] - 0s 4ms/step - loss: 0.6443 - auc: 0.6435 - val_loss: 0.6928 - val_auc: 0.5161\n",
      "Epoch 3/20\n",
      "128/128 [==============================] - 0s 3ms/step - loss: 0.6158 - auc: 0.7086 - val_loss: 0.7034 - val_auc: 0.5142\n",
      "Epoch 4/20\n",
      "128/128 [==============================] - 0s 3ms/step - loss: 0.5959 - auc: 0.7412 - val_loss: 0.7085 - val_auc: 0.5145\n",
      "Epoch 5/20\n",
      "128/128 [==============================] - 0s 3ms/step - loss: 0.5825 - auc: 0.7550 - val_loss: 0.7280 - val_auc: 0.5122\n",
      "Epoch 6/20\n",
      "128/128 [==============================] - 0s 3ms/step - loss: 0.5686 - auc: 0.7742 - val_loss: 0.7276 - val_auc: 0.5080\n",
      "Epoch 7/20\n",
      "128/128 [==============================] - 0s 3ms/step - loss: 0.5573 - auc: 0.7861 - val_loss: 0.7373 - val_auc: 0.5079\n",
      "Epoch 8/20\n",
      "128/128 [==============================] - 1s 5ms/step - loss: 0.5456 - auc: 0.8006 - val_loss: 0.7411 - val_auc: 0.5118\n",
      "Epoch 9/20\n",
      "128/128 [==============================] - 0s 3ms/step - loss: 0.5389 - auc: 0.8048 - val_loss: 0.7537 - val_auc: 0.5119\n",
      "Epoch 10/20\n",
      "128/128 [==============================] - 0s 3ms/step - loss: 0.5316 - auc: 0.8121 - val_loss: 0.7548 - val_auc: 0.5136\n",
      "Epoch 11/20\n",
      "128/128 [==============================] - 0s 4ms/step - loss: 0.5224 - auc: 0.8214 - val_loss: 0.7813 - val_auc: 0.5076\n",
      "Epoch 12/20\n",
      "128/128 [==============================] - 0s 2ms/step - loss: 0.5207 - auc: 0.8186 - val_loss: 0.7741 - val_auc: 0.5057\n",
      "Epoch 13/20\n",
      "128/128 [==============================] - 0s 3ms/step - loss: 0.5118 - auc: 0.8283 - val_loss: 0.7916 - val_auc: 0.5027\n",
      "Epoch 14/20\n",
      "128/128 [==============================] - 0s 3ms/step - loss: 0.5062 - auc: 0.8328 - val_loss: 0.7891 - val_auc: 0.5040\n",
      "Epoch 15/20\n",
      "128/128 [==============================] - 0s 3ms/step - loss: 0.5013 - auc: 0.8366 - val_loss: 0.7993 - val_auc: 0.5035\n",
      "Epoch 16/20\n",
      "128/128 [==============================] - 0s 3ms/step - loss: 0.4961 - auc: 0.8425 - val_loss: 0.8037 - val_auc: 0.5022\n",
      "Epoch 17/20\n",
      "128/128 [==============================] - 0s 3ms/step - loss: 0.4933 - auc: 0.8420 - val_loss: 0.8088 - val_auc: 0.5027\n",
      "Epoch 18/20\n",
      "128/128 [==============================] - 0s 3ms/step - loss: 0.4898 - auc: 0.8437 - val_loss: 0.8171 - val_auc: 0.5031\n",
      "Epoch 19/20\n",
      "128/128 [==============================] - 0s 3ms/step - loss: 0.4876 - auc: 0.8450 - val_loss: 0.8316 - val_auc: 0.5023\n",
      "Epoch 20/20\n",
      "128/128 [==============================] - 0s 3ms/step - loss: 0.4827 - auc: 0.8498 - val_loss: 0.8403 - val_auc: 0.5025\n"
     ]
    },
    {
     "data": {
      "image/png": "[encoded data removed]",
      "text/plain": [
       "<Figure size 432x288 with 1 Axes>"
      ]
     },
     "metadata": {
      "needs_background": "light"
     },
     "output_type": "display_data"
    },
    {
     "name": "stdout",
     "output_type": "stream",
     "text": [
      "40/40 [==============================] - 0s 3ms/step - loss: 0.8652 - auc: 0.4724\n",
      "Test AUC is 0.47244590520858765 \n"
     ]
    }
   ],
   "source": [
    "epochs = 20\n",
    "mlp_pretrained_glove_embedding(X_train,X_test,y_train,y_test, epochs)"
   ]
  },
  {
   "cell_type": "code",
   "execution_count": 15,
   "id": "131be0fd",
   "metadata": {
    "scrolled": true
   },
   "outputs": [
    {
     "name": "stdout",
     "output_type": "stream",
     "text": [
      "Epoch 1/100\n",
      "128/128 [==============================] - 9s 50ms/step - loss: 0.6807 - auc: 0.5048 - val_loss: 0.6819 - val_auc: 0.4957\n",
      "Epoch 2/100\n",
      "128/128 [==============================] - 5s 41ms/step - loss: 0.6795 - auc: 0.4995 - val_loss: 0.6804 - val_auc: 0.4996\n",
      "Epoch 3/100\n",
      "128/128 [==============================] - 5s 41ms/step - loss: 0.6794 - auc: 0.5008 - val_loss: 0.6804 - val_auc: 0.5003\n",
      "Epoch 4/100\n",
      "128/128 [==============================] - 6s 44ms/step - loss: 0.6790 - auc: 0.4955 - val_loss: 0.6806 - val_auc: 0.5000\n",
      "Epoch 5/100\n",
      "128/128 [==============================] - 5s 41ms/step - loss: 0.6794 - auc: 0.4931 - val_loss: 0.6804 - val_auc: 0.5003\n",
      "Epoch 6/100\n",
      "128/128 [==============================] - 5s 41ms/step - loss: 0.6795 - auc: 0.4946 - val_loss: 0.6803 - val_auc: 0.5000\n",
      "Epoch 7/100\n",
      "128/128 [==============================] - 5s 42ms/step - loss: 0.6792 - auc: 0.4931 - val_loss: 0.6804 - val_auc: 0.5000\n",
      "Epoch 8/100\n",
      "128/128 [==============================] - 5s 40ms/step - loss: 0.6790 - auc: 0.4830 - val_loss: 0.6803 - val_auc: 0.5000\n",
      "Epoch 9/100\n",
      "128/128 [==============================] - 5s 40ms/step - loss: 0.6790 - auc: 0.4978 - val_loss: 0.6803 - val_auc: 0.5003\n",
      "Epoch 10/100\n",
      "128/128 [==============================] - 5s 42ms/step - loss: 0.6797 - auc: 0.4867 - val_loss: 0.6803 - val_auc: 0.5012\n",
      "Epoch 11/100\n",
      "128/128 [==============================] - 5s 43ms/step - loss: 0.6792 - auc: 0.4962 - val_loss: 0.6803 - val_auc: 0.5012\n",
      "Epoch 12/100\n",
      "128/128 [==============================] - 5s 42ms/step - loss: 0.6787 - auc: 0.4979 - val_loss: 0.6808 - val_auc: 0.5003\n",
      "Epoch 13/100\n",
      "128/128 [==============================] - 7s 53ms/step - loss: 0.6791 - auc: 0.4907 - val_loss: 0.6804 - val_auc: 0.5003\n",
      "Epoch 14/100\n",
      "128/128 [==============================] - 6s 47ms/step - loss: 0.6788 - auc: 0.4987 - val_loss: 0.6808 - val_auc: 0.4930\n",
      "Epoch 15/100\n",
      "128/128 [==============================] - 6s 50ms/step - loss: 0.6792 - auc: 0.4943 - val_loss: 0.6803 - val_auc: 0.4998\n",
      "Epoch 16/100\n",
      "128/128 [==============================] - 6s 45ms/step - loss: 0.6788 - auc: 0.4983 - val_loss: 0.6807 - val_auc: 0.5015\n",
      "Epoch 17/100\n",
      "128/128 [==============================] - 6s 46ms/step - loss: 0.6789 - auc: 0.4949 - val_loss: 0.6803 - val_auc: 0.5015\n",
      "Epoch 18/100\n",
      "128/128 [==============================] - 6s 46ms/step - loss: 0.6790 - auc: 0.4840 - val_loss: 0.6802 - val_auc: 0.5003\n",
      "Epoch 19/100\n",
      "128/128 [==============================] - 6s 46ms/step - loss: 0.6788 - auc: 0.4967 - val_loss: 0.6802 - val_auc: 0.5003\n",
      "Epoch 20/100\n",
      "128/128 [==============================] - 6s 47ms/step - loss: 0.6789 - auc: 0.4819 - val_loss: 0.6800 - val_auc: 0.5015\n",
      "Epoch 21/100\n",
      "128/128 [==============================] - 6s 48ms/step - loss: 0.6788 - auc: 0.4867 - val_loss: 0.6801 - val_auc: 0.5006\n",
      "Epoch 22/100\n",
      "128/128 [==============================] - 6s 47ms/step - loss: 0.6788 - auc: 0.4972 - val_loss: 0.6807 - val_auc: 0.4998\n"
     ]
    },
    {
     "data": {
      "image/png": "[encoded data removed]",
      "text/plain": [
       "<Figure size 432x288 with 1 Axes>"
      ]
     },
     "metadata": {
      "needs_background": "light"
     },
     "output_type": "display_data"
    },
    {
     "name": "stdout",
     "output_type": "stream",
     "text": [
      "40/40 [==============================] - 0s 11ms/step - loss: 0.6797 - auc: 0.5025\n",
      "Test AUC is 0.5025109052658081 \n"
     ]
    }
   ],
   "source": [
    "epochs = 100\n",
    "lstm_pretrained_glove_embedding(X_train,X_test,y_train,y_test, epochs)"
   ]
  },
  {
   "cell_type": "code",
   "execution_count": 16,
   "id": "80d918d9",
   "metadata": {
    "scrolled": true
   },
   "outputs": [
    {
     "name": "stdout",
     "output_type": "stream",
     "text": [
      "Epoch 1/50\n",
      "128/128 [==============================] - 12s 61ms/step - loss: 0.6813 - auc: 0.5067 - val_loss: 0.6817 - val_auc: 0.5168\n",
      "Epoch 2/50\n",
      "128/128 [==============================] - 7s 54ms/step - loss: 0.6773 - auc: 0.5371 - val_loss: 0.6806 - val_auc: 0.5198\n",
      "Epoch 3/50\n",
      "128/128 [==============================] - 7s 54ms/step - loss: 0.6746 - auc: 0.5545 - val_loss: 0.6809 - val_auc: 0.5253\n",
      "Epoch 4/50\n",
      "128/128 [==============================] - 7s 54ms/step - loss: 0.6717 - auc: 0.5714 - val_loss: 0.6823 - val_auc: 0.5163\n",
      "Epoch 5/50\n",
      "128/128 [==============================] - 7s 51ms/step - loss: 0.6688 - auc: 0.5831 - val_loss: 0.6834 - val_auc: 0.5187\n",
      "Epoch 6/50\n",
      "128/128 [==============================] - 7s 53ms/step - loss: 0.6646 - auc: 0.5977 - val_loss: 0.6859 - val_auc: 0.5074\n",
      "Epoch 7/50\n",
      "128/128 [==============================] - 7s 55ms/step - loss: 0.6604 - auc: 0.6136 - val_loss: 0.6874 - val_auc: 0.5122\n",
      "Epoch 8/50\n",
      "128/128 [==============================] - 7s 54ms/step - loss: 0.6529 - auc: 0.6368 - val_loss: 0.6974 - val_auc: 0.5140\n",
      "Epoch 9/50\n",
      "128/128 [==============================] - 7s 55ms/step - loss: 0.6475 - auc: 0.6464 - val_loss: 0.6962 - val_auc: 0.5137\n",
      "Epoch 10/50\n",
      "128/128 [==============================] - 7s 54ms/step - loss: 0.6383 - auc: 0.6661 - val_loss: 0.7019 - val_auc: 0.5148\n",
      "Epoch 11/50\n",
      "128/128 [==============================] - 7s 53ms/step - loss: 0.6283 - auc: 0.6845 - val_loss: 0.7150 - val_auc: 0.5026\n",
      "Epoch 12/50\n",
      "128/128 [==============================] - 7s 57ms/step - loss: 0.6162 - auc: 0.7068 - val_loss: 0.7226 - val_auc: 0.4989\n",
      "Epoch 13/50\n",
      "128/128 [==============================] - 7s 57ms/step - loss: 0.6037 - auc: 0.7283 - val_loss: 0.7324 - val_auc: 0.5093\n",
      "Epoch 14/50\n",
      "128/128 [==============================] - 7s 58ms/step - loss: 0.5918 - auc: 0.7428 - val_loss: 0.7423 - val_auc: 0.5112\n",
      "Epoch 15/50\n",
      "128/128 [==============================] - 7s 52ms/step - loss: 0.5785 - auc: 0.7578 - val_loss: 0.7390 - val_auc: 0.5146\n",
      "Epoch 16/50\n",
      "128/128 [==============================] - 7s 51ms/step - loss: 0.5594 - auc: 0.7843 - val_loss: 0.7672 - val_auc: 0.5032\n",
      "Epoch 17/50\n",
      "128/128 [==============================] - 7s 53ms/step - loss: 0.5404 - auc: 0.8017 - val_loss: 0.7713 - val_auc: 0.5127\n",
      "Epoch 18/50\n",
      "128/128 [==============================] - 8s 61ms/step - loss: 0.5221 - auc: 0.8216 - val_loss: 0.7949 - val_auc: 0.5158\n",
      "Epoch 19/50\n",
      "128/128 [==============================] - 8s 61ms/step - loss: 0.5035 - auc: 0.8350 - val_loss: 0.8094 - val_auc: 0.5226\n",
      "Epoch 20/50\n",
      "128/128 [==============================] - 8s 62ms/step - loss: 0.4858 - auc: 0.8506 - val_loss: 0.8115 - val_auc: 0.5289\n",
      "Epoch 21/50\n",
      "128/128 [==============================] - 8s 61ms/step - loss: 0.4634 - auc: 0.8661 - val_loss: 0.8465 - val_auc: 0.5214\n",
      "Epoch 22/50\n",
      "128/128 [==============================] - 9s 67ms/step - loss: 0.4473 - auc: 0.8762 - val_loss: 0.8641 - val_auc: 0.5220\n"
     ]
    },
    {
     "data": {
      "image/png": "[encoded data removed]",
      "text/plain": [
       "<Figure size 432x288 with 1 Axes>"
      ]
     },
     "metadata": {
      "needs_background": "light"
     },
     "output_type": "display_data"
    },
    {
     "name": "stdout",
     "output_type": "stream",
     "text": [
      "40/40 [==============================] - 1s 15ms/step - loss: 0.6808 - auc: 0.4999\n",
      "Test AUC is 0.4999225437641144 \n"
     ]
    }
   ],
   "source": [
    "epochs = 50\n",
    "bilstm_pretrained_glove_embedding(X_train,X_test,y_train,y_test, epochs)"
   ]
  },
  {
   "cell_type": "markdown",
   "id": "c6c48cfa",
   "metadata": {},
   "source": [
    "# Delta = 2 Hr"
   ]
  },
  {
   "cell_type": "code",
   "execution_count": 36,
   "id": "974cd630",
   "metadata": {},
   "outputs": [
    {
     "name": "stderr",
     "output_type": "stream",
     "text": [
      "<ipython-input-35-03c321cc2c8b>:3: DeprecationWarning: The default dtype for empty Series will be 'object' instead of 'float64' in a future version. Specify a dtype explicitly to silence this warning.\n",
      "  df['time_gmt_datetime'] = pd.Series(index=df.index)\n"
     ]
    },
    {
     "data": {
      "text/html": [
       "<div>\n",
       "<style scoped>\n",
       "    .dataframe tbody tr th:only-of-type {\n",
       "        vertical-align: middle;\n",
       "    }\n",
       "\n",
       "    .dataframe tbody tr th {\n",
       "        vertical-align: top;\n",
       "    }\n",
       "\n",
       "    .dataframe thead th {\n",
       "        text-align: right;\n",
       "    }\n",
       "</style>\n",
       "<table border=\"1\" class=\"dataframe\">\n",
       "  <thead>\n",
       "    <tr style=\"text-align: right;\">\n",
       "      <th></th>\n",
       "      <th>time_gmt_date_hr</th>\n",
       "      <th>combined_text</th>\n",
       "    </tr>\n",
       "  </thead>\n",
       "  <tbody>\n",
       "    <tr>\n",
       "      <th>6451</th>\n",
       "      <td>2015-12-28 00:00:00</td>\n",
       "      <td>japan output retail sales slump dampen recove...</td>\n",
       "    </tr>\n",
       "    <tr>\n",
       "      <th>3743</th>\n",
       "      <td>2015-12-28 04:00:00</td>\n",
       "      <td>japan business lobby head won t commit to hig...</td>\n",
       "    </tr>\n",
       "    <tr>\n",
       "      <th>556</th>\n",
       "      <td>2015-12-28 07:00:00</td>\n",
       "      <td>south korea japan agree to irreversibly end c...</td>\n",
       "    </tr>\n",
       "    <tr>\n",
       "      <th>3793</th>\n",
       "      <td>2015-12-28 08:00:00</td>\n",
       "      <td>south korea japan agree to irreversibly end c...</td>\n",
       "    </tr>\n",
       "    <tr>\n",
       "      <th>554</th>\n",
       "      <td>2015-12-28 10:00:00</td>\n",
       "      <td>for japan and south korea comfort women bronz...</td>\n",
       "    </tr>\n",
       "  </tbody>\n",
       "</table>\n",
       "</div>"
      ],
      "text/plain": [
       "        time_gmt_date_hr                                      combined_text\n",
       "6451 2015-12-28 00:00:00   japan output retail sales slump dampen recove...\n",
       "3743 2015-12-28 04:00:00   japan business lobby head won t commit to hig...\n",
       "556  2015-12-28 07:00:00   south korea japan agree to irreversibly end c...\n",
       "3793 2015-12-28 08:00:00   south korea japan agree to irreversibly end c...\n",
       "554  2015-12-28 10:00:00   for japan and south korea comfort women bronz..."
      ]
     },
     "execution_count": 36,
     "metadata": {},
     "output_type": "execute_result"
    }
   ],
   "source": [
    "df_news = pd.read_csv('Data/news_data.csv')\n",
    "df_combined_news = groupby_Date_Hr(df_news, 2)\n",
    "df_combined_news.head(5)"
   ]
  },
  {
   "cell_type": "code",
   "execution_count": 37,
   "id": "7725c21b",
   "metadata": {},
   "outputs": [
    {
     "name": "stderr",
     "output_type": "stream",
     "text": [
      "/Users/sheetalpandrekar/opt/miniconda3/envs/forextrade/lib/python3.9/site-packages/pandas/core/indexing.py:1637: SettingWithCopyWarning: \n",
      "A value is trying to be set on a copy of a slice from a DataFrame\n",
      "\n",
      "See the caveats in the documentation: https://pandas.pydata.org/pandas-docs/stable/user_guide/indexing.html#returning-a-view-versus-a-copy\n",
      "  self._setitem_single_block(indexer, value, name)\n"
     ]
    },
    {
     "data": {
      "text/html": [
       "<div>\n",
       "<style scoped>\n",
       "    .dataframe tbody tr th:only-of-type {\n",
       "        vertical-align: middle;\n",
       "    }\n",
       "\n",
       "    .dataframe tbody tr th {\n",
       "        vertical-align: top;\n",
       "    }\n",
       "\n",
       "    .dataframe thead th {\n",
       "        text-align: right;\n",
       "    }\n",
       "</style>\n",
       "<table border=\"1\" class=\"dataframe\">\n",
       "  <thead>\n",
       "    <tr style=\"text-align: right;\">\n",
       "      <th></th>\n",
       "      <th>date</th>\n",
       "      <th>price</th>\n",
       "      <th>price_direction</th>\n",
       "    </tr>\n",
       "  </thead>\n",
       "  <tbody>\n",
       "    <tr>\n",
       "      <th>0</th>\n",
       "      <td>2016-01-01 00:00:00</td>\n",
       "      <td>120.2665</td>\n",
       "      <td>1</td>\n",
       "    </tr>\n",
       "    <tr>\n",
       "      <th>1</th>\n",
       "      <td>2016-01-01 01:00:00</td>\n",
       "      <td>120.2665</td>\n",
       "      <td>1</td>\n",
       "    </tr>\n",
       "    <tr>\n",
       "      <th>2</th>\n",
       "      <td>2016-01-01 02:00:00</td>\n",
       "      <td>120.2665</td>\n",
       "      <td>1</td>\n",
       "    </tr>\n",
       "    <tr>\n",
       "      <th>3</th>\n",
       "      <td>2016-01-01 03:00:00</td>\n",
       "      <td>120.2665</td>\n",
       "      <td>1</td>\n",
       "    </tr>\n",
       "    <tr>\n",
       "      <th>4</th>\n",
       "      <td>2016-01-01 04:00:00</td>\n",
       "      <td>120.2665</td>\n",
       "      <td>1</td>\n",
       "    </tr>\n",
       "  </tbody>\n",
       "</table>\n",
       "</div>"
      ],
      "text/plain": [
       "                  date     price price_direction\n",
       "0  2016-01-01 00:00:00  120.2665               1\n",
       "1  2016-01-01 01:00:00  120.2665               1\n",
       "2  2016-01-01 02:00:00  120.2665               1\n",
       "3  2016-01-01 03:00:00  120.2665               1\n",
       "4  2016-01-01 04:00:00  120.2665               1"
      ]
     },
     "execution_count": 37,
     "metadata": {},
     "output_type": "execute_result"
    }
   ],
   "source": [
    "df_usdjpy = pd.read_csv('Data/usdjpy_hourly.csv')\n",
    "df_usdjpy = encode_price_direction(df_usdjpy)\n",
    "df_usdjpy.head()"
   ]
  },
  {
   "cell_type": "code",
   "execution_count": 38,
   "id": "ca4e2cf9",
   "metadata": {},
   "outputs": [
    {
     "name": "stderr",
     "output_type": "stream",
     "text": [
      "/Users/sheetalpandrekar/opt/miniconda3/envs/forextrade/lib/python3.9/site-packages/pandas/core/indexing.py:1637: SettingWithCopyWarning: \n",
      "A value is trying to be set on a copy of a slice from a DataFrame\n",
      "\n",
      "See the caveats in the documentation: https://pandas.pydata.org/pandas-docs/stable/user_guide/indexing.html#returning-a-view-versus-a-copy\n",
      "  self._setitem_single_block(indexer, value, name)\n"
     ]
    },
    {
     "data": {
      "text/html": [
       "<div>\n",
       "<style scoped>\n",
       "    .dataframe tbody tr th:only-of-type {\n",
       "        vertical-align: middle;\n",
       "    }\n",
       "\n",
       "    .dataframe tbody tr th {\n",
       "        vertical-align: top;\n",
       "    }\n",
       "\n",
       "    .dataframe thead th {\n",
       "        text-align: right;\n",
       "    }\n",
       "</style>\n",
       "<table border=\"1\" class=\"dataframe\">\n",
       "  <thead>\n",
       "    <tr style=\"text-align: right;\">\n",
       "      <th></th>\n",
       "      <th>time_gmt_date_hr</th>\n",
       "      <th>price</th>\n",
       "      <th>price_direction</th>\n",
       "    </tr>\n",
       "  </thead>\n",
       "  <tbody>\n",
       "    <tr>\n",
       "      <th>0</th>\n",
       "      <td>2015-12-31 22:00:00</td>\n",
       "      <td>120.2665</td>\n",
       "      <td>1</td>\n",
       "    </tr>\n",
       "    <tr>\n",
       "      <th>1</th>\n",
       "      <td>2015-12-31 23:00:00</td>\n",
       "      <td>120.2665</td>\n",
       "      <td>1</td>\n",
       "    </tr>\n",
       "    <tr>\n",
       "      <th>2</th>\n",
       "      <td>2016-01-01 00:00:00</td>\n",
       "      <td>120.2665</td>\n",
       "      <td>1</td>\n",
       "    </tr>\n",
       "    <tr>\n",
       "      <th>3</th>\n",
       "      <td>2016-01-01 01:00:00</td>\n",
       "      <td>120.2665</td>\n",
       "      <td>1</td>\n",
       "    </tr>\n",
       "    <tr>\n",
       "      <th>4</th>\n",
       "      <td>2016-01-01 02:00:00</td>\n",
       "      <td>120.2665</td>\n",
       "      <td>1</td>\n",
       "    </tr>\n",
       "  </tbody>\n",
       "</table>\n",
       "</div>"
      ],
      "text/plain": [
       "      time_gmt_date_hr     price price_direction\n",
       "0  2015-12-31 22:00:00  120.2665               1\n",
       "1  2015-12-31 23:00:00  120.2665               1\n",
       "2  2016-01-01 00:00:00  120.2665               1\n",
       "3  2016-01-01 01:00:00  120.2665               1\n",
       "4  2016-01-01 02:00:00  120.2665               1"
      ]
     },
     "execution_count": 38,
     "metadata": {},
     "output_type": "execute_result"
    }
   ],
   "source": [
    "df_usdjpy_ = align_datetime(df_usdjpy, delta = 2)\n",
    "df_usdjpy_.head()"
   ]
  },
  {
   "cell_type": "code",
   "execution_count": 39,
   "id": "25143c1d",
   "metadata": {},
   "outputs": [
    {
     "data": {
      "text/html": [
       "<div>\n",
       "<style scoped>\n",
       "    .dataframe tbody tr th:only-of-type {\n",
       "        vertical-align: middle;\n",
       "    }\n",
       "\n",
       "    .dataframe tbody tr th {\n",
       "        vertical-align: top;\n",
       "    }\n",
       "\n",
       "    .dataframe thead th {\n",
       "        text-align: right;\n",
       "    }\n",
       "</style>\n",
       "<table border=\"1\" class=\"dataframe\">\n",
       "  <thead>\n",
       "    <tr style=\"text-align: right;\">\n",
       "      <th></th>\n",
       "      <th>time_gmt_date_hr</th>\n",
       "      <th>combined_text</th>\n",
       "      <th>price</th>\n",
       "      <th>price_direction</th>\n",
       "    </tr>\n",
       "  </thead>\n",
       "  <tbody>\n",
       "    <tr>\n",
       "      <th>0</th>\n",
       "      <td>2016-01-01 20:00:00</td>\n",
       "      <td>airbus to sell three a380 superjumbo jets to ...</td>\n",
       "      <td>120.2665</td>\n",
       "      <td>1</td>\n",
       "    </tr>\n",
       "    <tr>\n",
       "      <th>1</th>\n",
       "      <td>2016-01-01 21:00:00</td>\n",
       "      <td>airbus to sell three a380 superjumbo jets to ...</td>\n",
       "      <td>120.2665</td>\n",
       "      <td>1</td>\n",
       "    </tr>\n",
       "    <tr>\n",
       "      <th>2</th>\n",
       "      <td>2016-01-03 21:00:00</td>\n",
       "      <td>japan central bank turns activist investor to...</td>\n",
       "      <td>113.9180</td>\n",
       "      <td>0</td>\n",
       "    </tr>\n",
       "    <tr>\n",
       "      <th>3</th>\n",
       "      <td>2016-01-05 18:00:00</td>\n",
       "      <td>automakers not silicon valley lead in driverl...</td>\n",
       "      <td>106.3350</td>\n",
       "      <td>1</td>\n",
       "    </tr>\n",
       "    <tr>\n",
       "      <th>4</th>\n",
       "      <td>2016-01-06 04:00:00</td>\n",
       "      <td>japan says to make firm response to north kor...</td>\n",
       "      <td>110.0615</td>\n",
       "      <td>1</td>\n",
       "    </tr>\n",
       "  </tbody>\n",
       "</table>\n",
       "</div>"
      ],
      "text/plain": [
       "     time_gmt_date_hr                                      combined_text  \\\n",
       "0 2016-01-01 20:00:00   airbus to sell three a380 superjumbo jets to ...   \n",
       "1 2016-01-01 21:00:00   airbus to sell three a380 superjumbo jets to ...   \n",
       "2 2016-01-03 21:00:00   japan central bank turns activist investor to...   \n",
       "3 2016-01-05 18:00:00   automakers not silicon valley lead in driverl...   \n",
       "4 2016-01-06 04:00:00   japan says to make firm response to north kor...   \n",
       "\n",
       "      price price_direction  \n",
       "0  120.2665               1  \n",
       "1  120.2665               1  \n",
       "2  113.9180               0  \n",
       "3  106.3350               1  \n",
       "4  110.0615               1  "
      ]
     },
     "execution_count": 39,
     "metadata": {},
     "output_type": "execute_result"
    }
   ],
   "source": [
    "df_combined_news['time_gmt_date_hr'] = pd.to_datetime(df_combined_news['time_gmt_date_hr'])\n",
    "df_usdjpy_['time_gmt_date_hr'] = pd.to_datetime(df_usdjpy_['time_gmt_date_hr'])\n",
    "df_merged = df_combined_news.merge(df_usdjpy_, on =['time_gmt_date_hr'])\n",
    "df_merged.head()"
   ]
  },
  {
   "cell_type": "code",
   "execution_count": 40,
   "id": "d6c61edc",
   "metadata": {},
   "outputs": [],
   "source": [
    "X = df_merged['combined_text']\n",
    "y = df_merged[['price_direction']]\n",
    "\n",
    "X_train, X_test , y_train, y_test = train_test_split(X, y , test_size = 0.20)\n",
    "y_train = np.asarray(y_train).astype(np.float32)\n",
    "y_test = np.asarray(y_test).astype(np.float32)"
   ]
  },
  {
   "cell_type": "code",
   "execution_count": 41,
   "id": "9cbfc6ad",
   "metadata": {
    "scrolled": true
   },
   "outputs": [
    {
     "name": "stdout",
     "output_type": "stream",
     "text": [
      "Epoch 1/20\n",
      "128/128 [==============================] - 2s 6ms/step - loss: 0.6989 - auc: 0.5030 - val_loss: 0.6849 - val_auc: 0.5276\n",
      "Epoch 2/20\n",
      "128/128 [==============================] - 0s 3ms/step - loss: 0.6342 - auc: 0.6616 - val_loss: 0.6934 - val_auc: 0.5266\n",
      "Epoch 3/20\n",
      "128/128 [==============================] - 0s 3ms/step - loss: 0.5996 - auc: 0.7261 - val_loss: 0.7056 - val_auc: 0.5195\n",
      "Epoch 4/20\n",
      "128/128 [==============================] - 0s 3ms/step - loss: 0.5786 - auc: 0.7529 - val_loss: 0.7194 - val_auc: 0.5179\n",
      "Epoch 5/20\n",
      "128/128 [==============================] - 0s 3ms/step - loss: 0.5546 - auc: 0.7878 - val_loss: 0.7260 - val_auc: 0.5149\n",
      "Epoch 6/20\n",
      "128/128 [==============================] - 0s 4ms/step - loss: 0.5402 - auc: 0.8014 - val_loss: 0.7409 - val_auc: 0.5142\n",
      "Epoch 7/20\n",
      "128/128 [==============================] - 0s 2ms/step - loss: 0.5258 - auc: 0.8191 - val_loss: 0.7522 - val_auc: 0.5132\n",
      "Epoch 8/20\n",
      "128/128 [==============================] - 0s 3ms/step - loss: 0.5143 - auc: 0.8290 - val_loss: 0.7601 - val_auc: 0.5154\n",
      "Epoch 9/20\n",
      "128/128 [==============================] - 0s 3ms/step - loss: 0.5041 - auc: 0.8382 - val_loss: 0.7707 - val_auc: 0.5158\n",
      "Epoch 10/20\n",
      "128/128 [==============================] - 0s 2ms/step - loss: 0.4936 - auc: 0.8465 - val_loss: 0.7802 - val_auc: 0.5118\n",
      "Epoch 11/20\n",
      "128/128 [==============================] - 0s 4ms/step - loss: 0.4872 - auc: 0.8501 - val_loss: 0.7935 - val_auc: 0.5111\n",
      "Epoch 12/20\n",
      "128/128 [==============================] - 1s 4ms/step - loss: 0.4778 - auc: 0.8582 - val_loss: 0.8133 - val_auc: 0.5091\n",
      "Epoch 13/20\n",
      "128/128 [==============================] - 0s 3ms/step - loss: 0.4713 - auc: 0.8624 - val_loss: 0.8129 - val_auc: 0.5103\n",
      "Epoch 14/20\n",
      "128/128 [==============================] - 0s 3ms/step - loss: 0.4639 - auc: 0.8677 - val_loss: 0.8221 - val_auc: 0.5089\n",
      "Epoch 15/20\n",
      "128/128 [==============================] - 0s 3ms/step - loss: 0.4586 - auc: 0.8720 - val_loss: 0.8320 - val_auc: 0.5122\n",
      "Epoch 16/20\n",
      "128/128 [==============================] - 0s 3ms/step - loss: 0.4508 - auc: 0.8773 - val_loss: 0.8532 - val_auc: 0.5083\n",
      "Epoch 17/20\n",
      "128/128 [==============================] - 0s 2ms/step - loss: 0.4477 - auc: 0.8771 - val_loss: 0.8526 - val_auc: 0.5082\n",
      "Epoch 18/20\n",
      "128/128 [==============================] - 0s 2ms/step - loss: 0.4413 - auc: 0.8837 - val_loss: 0.8679 - val_auc: 0.5059\n",
      "Epoch 19/20\n",
      "128/128 [==============================] - 0s 2ms/step - loss: 0.4366 - auc: 0.8861 - val_loss: 0.8751 - val_auc: 0.5083\n",
      "Epoch 20/20\n",
      "128/128 [==============================] - 0s 2ms/step - loss: 0.4307 - auc: 0.8893 - val_loss: 0.8871 - val_auc: 0.5069\n"
     ]
    },
    {
     "data": {
      "image/png": "[encoded data removed]",
      "text/plain": [
       "<Figure size 432x288 with 1 Axes>"
      ]
     },
     "metadata": {
      "needs_background": "light"
     },
     "output_type": "display_data"
    },
    {
     "name": "stdout",
     "output_type": "stream",
     "text": [
      "40/40 [==============================] - 0s 1ms/step - loss: 0.9046 - auc: 0.4606\n",
      "Test AUC is 0.4606453776359558 \n"
     ]
    }
   ],
   "source": [
    "epochs = 20\n",
    "mlp_pretrained_glove_embedding(X_train,X_test,y_train,y_test, epochs)"
   ]
  },
  {
   "cell_type": "code",
   "execution_count": 43,
   "id": "41049cd5",
   "metadata": {
    "scrolled": true
   },
   "outputs": [
    {
     "name": "stdout",
     "output_type": "stream",
     "text": [
      "Epoch 1/100\n",
      "128/128 [==============================] - 10s 52ms/step - loss: 0.6791 - auc: 0.5002 - val_loss: 0.6783 - val_auc: 0.4996\n",
      "Epoch 2/100\n",
      "128/128 [==============================] - 5s 42ms/step - loss: 0.6766 - auc: 0.5057 - val_loss: 0.6795 - val_auc: 0.4996\n",
      "Epoch 3/100\n",
      "128/128 [==============================] - 5s 43ms/step - loss: 0.6770 - auc: 0.4913 - val_loss: 0.6783 - val_auc: 0.4988\n",
      "Epoch 4/100\n",
      "128/128 [==============================] - 6s 44ms/step - loss: 0.6763 - auc: 0.4991 - val_loss: 0.6801 - val_auc: 0.4996\n",
      "Epoch 5/100\n",
      "128/128 [==============================] - 6s 46ms/step - loss: 0.6768 - auc: 0.4884 - val_loss: 0.6787 - val_auc: 0.4996\n",
      "Epoch 6/100\n",
      "128/128 [==============================] - 6s 43ms/step - loss: 0.6764 - auc: 0.4908 - val_loss: 0.6783 - val_auc: 0.4985\n",
      "Epoch 7/100\n",
      "128/128 [==============================] - 6s 43ms/step - loss: 0.6765 - auc: 0.4939 - val_loss: 0.6784 - val_auc: 0.4997\n",
      "Epoch 8/100\n",
      "128/128 [==============================] - 6s 48ms/step - loss: 0.6763 - auc: 0.4876 - val_loss: 0.6783 - val_auc: 0.4996\n",
      "Epoch 9/100\n",
      "128/128 [==============================] - 6s 51ms/step - loss: 0.6763 - auc: 0.4978 - val_loss: 0.6783 - val_auc: 0.4997\n",
      "Epoch 10/100\n",
      "128/128 [==============================] - 6s 48ms/step - loss: 0.6764 - auc: 0.4927 - val_loss: 0.6783 - val_auc: 0.4985\n",
      "Epoch 11/100\n",
      "128/128 [==============================] - 7s 53ms/step - loss: 0.6761 - auc: 0.5032 - val_loss: 0.6789 - val_auc: 0.4997\n",
      "Epoch 12/100\n",
      "128/128 [==============================] - 6s 47ms/step - loss: 0.6764 - auc: 0.5006 - val_loss: 0.6784 - val_auc: 0.4996\n",
      "Epoch 13/100\n",
      "128/128 [==============================] - 7s 51ms/step - loss: 0.6767 - auc: 0.4927 - val_loss: 0.6783 - val_auc: 0.4997\n",
      "Epoch 14/100\n",
      "128/128 [==============================] - 7s 52ms/step - loss: 0.6763 - auc: 0.4900 - val_loss: 0.6783 - val_auc: 0.4997\n",
      "Epoch 15/100\n",
      "128/128 [==============================] - 6s 48ms/step - loss: 0.6765 - auc: 0.4959 - val_loss: 0.6783 - val_auc: 0.4996\n",
      "Epoch 16/100\n",
      "128/128 [==============================] - 6s 51ms/step - loss: 0.6764 - auc: 0.4892 - val_loss: 0.6783 - val_auc: 0.4985\n",
      "Epoch 17/100\n",
      "128/128 [==============================] - 6s 49ms/step - loss: 0.6763 - auc: 0.4994 - val_loss: 0.6783 - val_auc: 0.4985\n",
      "Epoch 18/100\n",
      "128/128 [==============================] - 7s 52ms/step - loss: 0.6761 - auc: 0.4945 - val_loss: 0.6783 - val_auc: 0.4985\n",
      "Epoch 19/100\n",
      "128/128 [==============================] - 6s 49ms/step - loss: 0.6762 - auc: 0.4945 - val_loss: 0.6787 - val_auc: 0.4985\n",
      "Epoch 20/100\n",
      "128/128 [==============================] - 6s 44ms/step - loss: 0.6762 - auc: 0.4914 - val_loss: 0.6783 - val_auc: 0.4985\n",
      "Epoch 21/100\n",
      "128/128 [==============================] - 5s 42ms/step - loss: 0.6762 - auc: 0.4912 - val_loss: 0.6786 - val_auc: 0.4985\n"
     ]
    },
    {
     "data": {
      "image/png": "[encoded data removed]",
      "text/plain": [
       "<Figure size 432x288 with 1 Axes>"
      ]
     },
     "metadata": {
      "needs_background": "light"
     },
     "output_type": "display_data"
    },
    {
     "name": "stdout",
     "output_type": "stream",
     "text": [
      "40/40 [==============================] - 0s 11ms/step - loss: 0.6731 - auc: 0.5023\n",
      "Test AUC is 0.5022854804992676 \n"
     ]
    }
   ],
   "source": [
    "epochs = 100\n",
    "lstm_pretrained_glove_embedding(X_train,X_test,y_train,y_test, epochs)"
   ]
  },
  {
   "cell_type": "code",
   "execution_count": 44,
   "id": "18feb2ea",
   "metadata": {
    "scrolled": true
   },
   "outputs": [
    {
     "name": "stdout",
     "output_type": "stream",
     "text": [
      "Epoch 1/50\n",
      "128/128 [==============================] - 15s 76ms/step - loss: 0.6799 - auc: 0.4909 - val_loss: 0.6797 - val_auc: 0.5007\n",
      "Epoch 2/50\n",
      "128/128 [==============================] - 8s 59ms/step - loss: 0.6749 - auc: 0.5312 - val_loss: 0.6812 - val_auc: 0.5045\n",
      "Epoch 3/50\n",
      "128/128 [==============================] - 9s 71ms/step - loss: 0.6721 - auc: 0.5524 - val_loss: 0.6809 - val_auc: 0.5095\n",
      "Epoch 4/50\n",
      "128/128 [==============================] - 8s 61ms/step - loss: 0.6689 - auc: 0.5697 - val_loss: 0.6806 - val_auc: 0.5113\n",
      "Epoch 5/50\n",
      "128/128 [==============================] - 8s 62ms/step - loss: 0.6663 - auc: 0.5817 - val_loss: 0.6825 - val_auc: 0.5187\n",
      "Epoch 6/50\n",
      "128/128 [==============================] - 8s 64ms/step - loss: 0.6623 - auc: 0.5975 - val_loss: 0.6820 - val_auc: 0.5224\n",
      "Epoch 7/50\n",
      "128/128 [==============================] - 8s 60ms/step - loss: 0.6567 - auc: 0.6154 - val_loss: 0.6843 - val_auc: 0.5227\n",
      "Epoch 8/50\n",
      "128/128 [==============================] - 8s 63ms/step - loss: 0.6500 - auc: 0.6325 - val_loss: 0.6872 - val_auc: 0.5163\n",
      "Epoch 9/50\n",
      "128/128 [==============================] - 8s 61ms/step - loss: 0.6424 - auc: 0.6530 - val_loss: 0.6954 - val_auc: 0.5144\n",
      "Epoch 10/50\n",
      "128/128 [==============================] - 8s 64ms/step - loss: 0.6328 - auc: 0.6748 - val_loss: 0.7077 - val_auc: 0.5140\n",
      "Epoch 11/50\n",
      "128/128 [==============================] - 8s 65ms/step - loss: 0.6254 - auc: 0.6869 - val_loss: 0.7043 - val_auc: 0.5151\n",
      "Epoch 12/50\n",
      "128/128 [==============================] - 8s 60ms/step - loss: 0.6121 - auc: 0.7100 - val_loss: 0.7029 - val_auc: 0.5227\n",
      "Epoch 13/50\n",
      "128/128 [==============================] - 8s 62ms/step - loss: 0.6014 - auc: 0.7247 - val_loss: 0.7189 - val_auc: 0.5185\n",
      "Epoch 14/50\n",
      "128/128 [==============================] - 6s 46ms/step - loss: 0.5929 - auc: 0.7358 - val_loss: 0.7254 - val_auc: 0.5178\n",
      "Epoch 15/50\n",
      "128/128 [==============================] - 6s 46ms/step - loss: 0.5765 - auc: 0.7620 - val_loss: 0.7483 - val_auc: 0.5125\n",
      "Epoch 16/50\n",
      "128/128 [==============================] - 6s 46ms/step - loss: 0.5599 - auc: 0.7807 - val_loss: 0.7440 - val_auc: 0.5232\n",
      "Epoch 17/50\n",
      "128/128 [==============================] - 6s 46ms/step - loss: 0.5439 - auc: 0.7979 - val_loss: 0.7586 - val_auc: 0.5358\n",
      "Epoch 18/50\n",
      "128/128 [==============================] - 6s 46ms/step - loss: 0.5319 - auc: 0.8080 - val_loss: 0.8148 - val_auc: 0.5101\n",
      "Epoch 19/50\n",
      "128/128 [==============================] - 6s 51ms/step - loss: 0.5199 - auc: 0.8190 - val_loss: 0.7902 - val_auc: 0.5172\n",
      "Epoch 20/50\n",
      "128/128 [==============================] - 7s 51ms/step - loss: 0.5024 - auc: 0.8330 - val_loss: 0.8019 - val_auc: 0.5215\n",
      "Epoch 21/50\n",
      "128/128 [==============================] - 6s 50ms/step - loss: 0.4832 - auc: 0.8498 - val_loss: 0.8345 - val_auc: 0.5179\n"
     ]
    },
    {
     "data": {
      "image/png": "[encoded data removed]",
      "text/plain": [
       "<Figure size 432x288 with 1 Axes>"
      ]
     },
     "metadata": {
      "needs_background": "light"
     },
     "output_type": "display_data"
    },
    {
     "name": "stdout",
     "output_type": "stream",
     "text": [
      "40/40 [==============================] - 1s 13ms/step - loss: 0.6749 - auc: 0.5047\n",
      "Test AUC is 0.5046713352203369 \n"
     ]
    }
   ],
   "source": [
    "epochs = 50\n",
    "bilstm_pretrained_glove_embedding(X_train,X_test,y_train,y_test, epochs)"
   ]
  },
  {
   "cell_type": "markdown",
   "id": "61254606",
   "metadata": {},
   "source": [
    "# Delta = 5 hrs"
   ]
  },
  {
   "cell_type": "code",
   "execution_count": 45,
   "id": "c5aa6adf",
   "metadata": {},
   "outputs": [
    {
     "name": "stderr",
     "output_type": "stream",
     "text": [
      "<ipython-input-35-03c321cc2c8b>:3: DeprecationWarning: The default dtype for empty Series will be 'object' instead of 'float64' in a future version. Specify a dtype explicitly to silence this warning.\n",
      "  df['time_gmt_datetime'] = pd.Series(index=df.index)\n",
      "/Users/sheetalpandrekar/opt/miniconda3/envs/forextrade/lib/python3.9/site-packages/pandas/core/indexing.py:1637: SettingWithCopyWarning: \n",
      "A value is trying to be set on a copy of a slice from a DataFrame\n",
      "\n",
      "See the caveats in the documentation: https://pandas.pydata.org/pandas-docs/stable/user_guide/indexing.html#returning-a-view-versus-a-copy\n",
      "  self._setitem_single_block(indexer, value, name)\n"
     ]
    },
    {
     "data": {
      "text/html": [
       "<div>\n",
       "<style scoped>\n",
       "    .dataframe tbody tr th:only-of-type {\n",
       "        vertical-align: middle;\n",
       "    }\n",
       "\n",
       "    .dataframe tbody tr th {\n",
       "        vertical-align: top;\n",
       "    }\n",
       "\n",
       "    .dataframe thead th {\n",
       "        text-align: right;\n",
       "    }\n",
       "</style>\n",
       "<table border=\"1\" class=\"dataframe\">\n",
       "  <thead>\n",
       "    <tr style=\"text-align: right;\">\n",
       "      <th></th>\n",
       "      <th>time_gmt_date_hr</th>\n",
       "      <th>combined_text</th>\n",
       "    </tr>\n",
       "  </thead>\n",
       "  <tbody>\n",
       "    <tr>\n",
       "      <th>6451</th>\n",
       "      <td>2015-12-28 00:00:00</td>\n",
       "      <td>japan output retail sales slump dampen recove...</td>\n",
       "    </tr>\n",
       "    <tr>\n",
       "      <th>3743</th>\n",
       "      <td>2015-12-28 04:00:00</td>\n",
       "      <td>japan business lobby head won t commit to hig...</td>\n",
       "    </tr>\n",
       "    <tr>\n",
       "      <th>556</th>\n",
       "      <td>2015-12-28 07:00:00</td>\n",
       "      <td>south korea japan agree to irreversibly end c...</td>\n",
       "    </tr>\n",
       "    <tr>\n",
       "      <th>3793</th>\n",
       "      <td>2015-12-28 08:00:00</td>\n",
       "      <td>south korea japan agree to irreversibly end c...</td>\n",
       "    </tr>\n",
       "    <tr>\n",
       "      <th>554</th>\n",
       "      <td>2015-12-28 10:00:00</td>\n",
       "      <td>south korea japan agree to irreversibly end c...</td>\n",
       "    </tr>\n",
       "  </tbody>\n",
       "</table>\n",
       "</div>"
      ],
      "text/plain": [
       "        time_gmt_date_hr                                      combined_text\n",
       "6451 2015-12-28 00:00:00   japan output retail sales slump dampen recove...\n",
       "3743 2015-12-28 04:00:00   japan business lobby head won t commit to hig...\n",
       "556  2015-12-28 07:00:00   south korea japan agree to irreversibly end c...\n",
       "3793 2015-12-28 08:00:00   south korea japan agree to irreversibly end c...\n",
       "554  2015-12-28 10:00:00   south korea japan agree to irreversibly end c..."
      ]
     },
     "execution_count": 45,
     "metadata": {},
     "output_type": "execute_result"
    }
   ],
   "source": [
    "df_news = pd.read_csv('Data/news_data.csv')\n",
    "df_combined_news = groupby_Date_Hr(df_news, 5)\n",
    "df_combined_news.head(5)"
   ]
  },
  {
   "cell_type": "code",
   "execution_count": 46,
   "id": "4e0f2696",
   "metadata": {},
   "outputs": [
    {
     "name": "stderr",
     "output_type": "stream",
     "text": [
      "/Users/sheetalpandrekar/opt/miniconda3/envs/forextrade/lib/python3.9/site-packages/pandas/core/indexing.py:1637: SettingWithCopyWarning: \n",
      "A value is trying to be set on a copy of a slice from a DataFrame\n",
      "\n",
      "See the caveats in the documentation: https://pandas.pydata.org/pandas-docs/stable/user_guide/indexing.html#returning-a-view-versus-a-copy\n",
      "  self._setitem_single_block(indexer, value, name)\n"
     ]
    },
    {
     "data": {
      "text/html": [
       "<div>\n",
       "<style scoped>\n",
       "    .dataframe tbody tr th:only-of-type {\n",
       "        vertical-align: middle;\n",
       "    }\n",
       "\n",
       "    .dataframe tbody tr th {\n",
       "        vertical-align: top;\n",
       "    }\n",
       "\n",
       "    .dataframe thead th {\n",
       "        text-align: right;\n",
       "    }\n",
       "</style>\n",
       "<table border=\"1\" class=\"dataframe\">\n",
       "  <thead>\n",
       "    <tr style=\"text-align: right;\">\n",
       "      <th></th>\n",
       "      <th>date</th>\n",
       "      <th>price</th>\n",
       "      <th>price_direction</th>\n",
       "    </tr>\n",
       "  </thead>\n",
       "  <tbody>\n",
       "    <tr>\n",
       "      <th>0</th>\n",
       "      <td>2016-01-01 00:00:00</td>\n",
       "      <td>120.2665</td>\n",
       "      <td>1</td>\n",
       "    </tr>\n",
       "    <tr>\n",
       "      <th>1</th>\n",
       "      <td>2016-01-01 01:00:00</td>\n",
       "      <td>120.2665</td>\n",
       "      <td>1</td>\n",
       "    </tr>\n",
       "    <tr>\n",
       "      <th>2</th>\n",
       "      <td>2016-01-01 02:00:00</td>\n",
       "      <td>120.2665</td>\n",
       "      <td>1</td>\n",
       "    </tr>\n",
       "    <tr>\n",
       "      <th>3</th>\n",
       "      <td>2016-01-01 03:00:00</td>\n",
       "      <td>120.2665</td>\n",
       "      <td>1</td>\n",
       "    </tr>\n",
       "    <tr>\n",
       "      <th>4</th>\n",
       "      <td>2016-01-01 04:00:00</td>\n",
       "      <td>120.2665</td>\n",
       "      <td>1</td>\n",
       "    </tr>\n",
       "  </tbody>\n",
       "</table>\n",
       "</div>"
      ],
      "text/plain": [
       "                  date     price price_direction\n",
       "0  2016-01-01 00:00:00  120.2665               1\n",
       "1  2016-01-01 01:00:00  120.2665               1\n",
       "2  2016-01-01 02:00:00  120.2665               1\n",
       "3  2016-01-01 03:00:00  120.2665               1\n",
       "4  2016-01-01 04:00:00  120.2665               1"
      ]
     },
     "execution_count": 46,
     "metadata": {},
     "output_type": "execute_result"
    }
   ],
   "source": [
    "df_usdjpy = pd.read_csv('Data/usdjpy_hourly.csv')\n",
    "df_usdjpy = encode_price_direction(df_usdjpy)\n",
    "df_usdjpy.head()"
   ]
  },
  {
   "cell_type": "code",
   "execution_count": 47,
   "id": "28bc5fa2",
   "metadata": {},
   "outputs": [
    {
     "name": "stderr",
     "output_type": "stream",
     "text": [
      "/Users/sheetalpandrekar/opt/miniconda3/envs/forextrade/lib/python3.9/site-packages/pandas/core/indexing.py:1637: SettingWithCopyWarning: \n",
      "A value is trying to be set on a copy of a slice from a DataFrame\n",
      "\n",
      "See the caveats in the documentation: https://pandas.pydata.org/pandas-docs/stable/user_guide/indexing.html#returning-a-view-versus-a-copy\n",
      "  self._setitem_single_block(indexer, value, name)\n"
     ]
    },
    {
     "data": {
      "text/html": [
       "<div>\n",
       "<style scoped>\n",
       "    .dataframe tbody tr th:only-of-type {\n",
       "        vertical-align: middle;\n",
       "    }\n",
       "\n",
       "    .dataframe tbody tr th {\n",
       "        vertical-align: top;\n",
       "    }\n",
       "\n",
       "    .dataframe thead th {\n",
       "        text-align: right;\n",
       "    }\n",
       "</style>\n",
       "<table border=\"1\" class=\"dataframe\">\n",
       "  <thead>\n",
       "    <tr style=\"text-align: right;\">\n",
       "      <th></th>\n",
       "      <th>time_gmt_date_hr</th>\n",
       "      <th>price</th>\n",
       "      <th>price_direction</th>\n",
       "    </tr>\n",
       "  </thead>\n",
       "  <tbody>\n",
       "    <tr>\n",
       "      <th>0</th>\n",
       "      <td>2015-12-31 19:00:00</td>\n",
       "      <td>120.2665</td>\n",
       "      <td>1</td>\n",
       "    </tr>\n",
       "    <tr>\n",
       "      <th>1</th>\n",
       "      <td>2015-12-31 20:00:00</td>\n",
       "      <td>120.2665</td>\n",
       "      <td>1</td>\n",
       "    </tr>\n",
       "    <tr>\n",
       "      <th>2</th>\n",
       "      <td>2015-12-31 21:00:00</td>\n",
       "      <td>120.2665</td>\n",
       "      <td>1</td>\n",
       "    </tr>\n",
       "    <tr>\n",
       "      <th>3</th>\n",
       "      <td>2015-12-31 22:00:00</td>\n",
       "      <td>120.2665</td>\n",
       "      <td>1</td>\n",
       "    </tr>\n",
       "    <tr>\n",
       "      <th>4</th>\n",
       "      <td>2015-12-31 23:00:00</td>\n",
       "      <td>120.2665</td>\n",
       "      <td>1</td>\n",
       "    </tr>\n",
       "  </tbody>\n",
       "</table>\n",
       "</div>"
      ],
      "text/plain": [
       "      time_gmt_date_hr     price price_direction\n",
       "0  2015-12-31 19:00:00  120.2665               1\n",
       "1  2015-12-31 20:00:00  120.2665               1\n",
       "2  2015-12-31 21:00:00  120.2665               1\n",
       "3  2015-12-31 22:00:00  120.2665               1\n",
       "4  2015-12-31 23:00:00  120.2665               1"
      ]
     },
     "execution_count": 47,
     "metadata": {},
     "output_type": "execute_result"
    }
   ],
   "source": [
    "df_usdjpy_ = align_datetime(df_usdjpy, delta = 5)\n",
    "df_usdjpy_.head()"
   ]
  },
  {
   "cell_type": "code",
   "execution_count": 48,
   "id": "0b5a21d4",
   "metadata": {},
   "outputs": [
    {
     "data": {
      "text/html": [
       "<div>\n",
       "<style scoped>\n",
       "    .dataframe tbody tr th:only-of-type {\n",
       "        vertical-align: middle;\n",
       "    }\n",
       "\n",
       "    .dataframe tbody tr th {\n",
       "        vertical-align: top;\n",
       "    }\n",
       "\n",
       "    .dataframe thead th {\n",
       "        text-align: right;\n",
       "    }\n",
       "</style>\n",
       "<table border=\"1\" class=\"dataframe\">\n",
       "  <thead>\n",
       "    <tr style=\"text-align: right;\">\n",
       "      <th></th>\n",
       "      <th>time_gmt_date_hr</th>\n",
       "      <th>combined_text</th>\n",
       "      <th>price</th>\n",
       "      <th>price_direction</th>\n",
       "    </tr>\n",
       "  </thead>\n",
       "  <tbody>\n",
       "    <tr>\n",
       "      <th>0</th>\n",
       "      <td>2016-01-01 20:00:00</td>\n",
       "      <td>airbus to sell three a380 superjumbo jets to ...</td>\n",
       "      <td>121.2785</td>\n",
       "      <td>1</td>\n",
       "    </tr>\n",
       "    <tr>\n",
       "      <th>1</th>\n",
       "      <td>2016-01-01 21:00:00</td>\n",
       "      <td>airbus to sell three a380 superjumbo jets to ...</td>\n",
       "      <td>121.2760</td>\n",
       "      <td>0</td>\n",
       "    </tr>\n",
       "    <tr>\n",
       "      <th>2</th>\n",
       "      <td>2016-01-03 21:00:00</td>\n",
       "      <td>japan central bank turns activist investor to...</td>\n",
       "      <td>112.2090</td>\n",
       "      <td>1</td>\n",
       "    </tr>\n",
       "    <tr>\n",
       "      <th>3</th>\n",
       "      <td>2016-01-05 18:00:00</td>\n",
       "      <td>automakers not silicon valley lead in driverl...</td>\n",
       "      <td>106.4375</td>\n",
       "      <td>0</td>\n",
       "    </tr>\n",
       "    <tr>\n",
       "      <th>4</th>\n",
       "      <td>2016-01-06 04:00:00</td>\n",
       "      <td>japan says to make firm response to north kor...</td>\n",
       "      <td>109.6410</td>\n",
       "      <td>0</td>\n",
       "    </tr>\n",
       "  </tbody>\n",
       "</table>\n",
       "</div>"
      ],
      "text/plain": [
       "     time_gmt_date_hr                                      combined_text  \\\n",
       "0 2016-01-01 20:00:00   airbus to sell three a380 superjumbo jets to ...   \n",
       "1 2016-01-01 21:00:00   airbus to sell three a380 superjumbo jets to ...   \n",
       "2 2016-01-03 21:00:00   japan central bank turns activist investor to...   \n",
       "3 2016-01-05 18:00:00   automakers not silicon valley lead in driverl...   \n",
       "4 2016-01-06 04:00:00   japan says to make firm response to north kor...   \n",
       "\n",
       "      price price_direction  \n",
       "0  121.2785               1  \n",
       "1  121.2760               0  \n",
       "2  112.2090               1  \n",
       "3  106.4375               0  \n",
       "4  109.6410               0  "
      ]
     },
     "execution_count": 48,
     "metadata": {},
     "output_type": "execute_result"
    }
   ],
   "source": [
    "df_combined_news['time_gmt_date_hr'] = pd.to_datetime(df_combined_news['time_gmt_date_hr'])\n",
    "df_usdjpy_['time_gmt_date_hr'] = pd.to_datetime(df_usdjpy_['time_gmt_date_hr'])\n",
    "df_merged = df_combined_news.merge(df_usdjpy_, on =['time_gmt_date_hr'])\n",
    "df_merged.head()"
   ]
  },
  {
   "cell_type": "code",
   "execution_count": 49,
   "id": "267c217d",
   "metadata": {},
   "outputs": [],
   "source": [
    "X = df_merged['combined_text']\n",
    "y = df_merged[['price_direction']]\n",
    "\n",
    "X_train, X_test , y_train, y_test = train_test_split(X, y , test_size = 0.20)\n",
    "y_train = np.asarray(y_train).astype(np.float32)\n",
    "y_test = np.asarray(y_test).astype(np.float32)"
   ]
  },
  {
   "cell_type": "code",
   "execution_count": 50,
   "id": "5da832e6",
   "metadata": {
    "scrolled": true
   },
   "outputs": [
    {
     "name": "stdout",
     "output_type": "stream",
     "text": [
      "Epoch 1/20\n",
      "128/128 [==============================] - 1s 5ms/step - loss: 0.6991 - auc: 0.5040 - val_loss: 0.7059 - val_auc: 0.5373\n",
      "Epoch 2/20\n",
      "128/128 [==============================] - 0s 2ms/step - loss: 0.5952 - auc: 0.7135 - val_loss: 0.7206 - val_auc: 0.5277\n",
      "Epoch 3/20\n",
      "128/128 [==============================] - 0s 3ms/step - loss: 0.5514 - auc: 0.7799 - val_loss: 0.7618 - val_auc: 0.5299\n",
      "Epoch 4/20\n",
      "128/128 [==============================] - 0s 3ms/step - loss: 0.5136 - auc: 0.8230 - val_loss: 0.7350 - val_auc: 0.5349\n",
      "Epoch 5/20\n",
      "128/128 [==============================] - 0s 2ms/step - loss: 0.4873 - auc: 0.8519 - val_loss: 0.7972 - val_auc: 0.5253\n",
      "Epoch 6/20\n",
      "128/128 [==============================] - 0s 2ms/step - loss: 0.4647 - auc: 0.8707 - val_loss: 0.7690 - val_auc: 0.5388\n",
      "Epoch 7/20\n",
      "128/128 [==============================] - 0s 2ms/step - loss: 0.4462 - auc: 0.8839 - val_loss: 0.7897 - val_auc: 0.5371\n",
      "Epoch 8/20\n",
      "128/128 [==============================] - 0s 2ms/step - loss: 0.4307 - auc: 0.8949 - val_loss: 0.8007 - val_auc: 0.5341\n",
      "Epoch 9/20\n",
      "128/128 [==============================] - 0s 3ms/step - loss: 0.4136 - auc: 0.9077 - val_loss: 0.8077 - val_auc: 0.5354\n",
      "Epoch 10/20\n",
      "128/128 [==============================] - 0s 2ms/step - loss: 0.4049 - auc: 0.9097 - val_loss: 0.8208 - val_auc: 0.5339\n",
      "Epoch 11/20\n",
      "128/128 [==============================] - 0s 3ms/step - loss: 0.3907 - auc: 0.9202 - val_loss: 0.8375 - val_auc: 0.5355\n",
      "Epoch 12/20\n",
      "128/128 [==============================] - 0s 3ms/step - loss: 0.3807 - auc: 0.9242 - val_loss: 0.8707 - val_auc: 0.5324\n",
      "Epoch 13/20\n",
      "128/128 [==============================] - 0s 3ms/step - loss: 0.3719 - auc: 0.9280 - val_loss: 0.8763 - val_auc: 0.5310\n",
      "Epoch 14/20\n",
      "128/128 [==============================] - 0s 3ms/step - loss: 0.3624 - auc: 0.9318 - val_loss: 0.8734 - val_auc: 0.5305\n",
      "Epoch 15/20\n",
      "128/128 [==============================] - 0s 2ms/step - loss: 0.3555 - auc: 0.9347 - val_loss: 0.8934 - val_auc: 0.5307\n",
      "Epoch 16/20\n",
      "128/128 [==============================] - 0s 3ms/step - loss: 0.3488 - auc: 0.9380 - val_loss: 0.9047 - val_auc: 0.5351\n",
      "Epoch 17/20\n",
      "128/128 [==============================] - 0s 3ms/step - loss: 0.3403 - auc: 0.9415 - val_loss: 0.9265 - val_auc: 0.5330\n",
      "Epoch 18/20\n",
      "128/128 [==============================] - 0s 3ms/step - loss: 0.3330 - auc: 0.9449 - val_loss: 0.9204 - val_auc: 0.5337\n",
      "Epoch 19/20\n",
      "128/128 [==============================] - 0s 3ms/step - loss: 0.3274 - auc: 0.9471 - val_loss: 0.9413 - val_auc: 0.5341\n",
      "Epoch 20/20\n",
      "128/128 [==============================] - 0s 3ms/step - loss: 0.3229 - auc: 0.9478 - val_loss: 0.9676 - val_auc: 0.5318\n"
     ]
    },
    {
     "data": {
      "image/png": "[encoded data removed]",
      "text/plain": [
       "<Figure size 432x288 with 1 Axes>"
      ]
     },
     "metadata": {
      "needs_background": "light"
     },
     "output_type": "display_data"
    },
    {
     "name": "stdout",
     "output_type": "stream",
     "text": [
      "40/40 [==============================] - 0s 2ms/step - loss: 0.9756 - auc: 0.4991\n",
      "Test AUC is 0.4990692734718323 \n"
     ]
    }
   ],
   "source": [
    "epochs = 20\n",
    "mlp_pretrained_glove_embedding(X_train,X_test,y_train,y_test, epochs)"
   ]
  },
  {
   "cell_type": "code",
   "execution_count": 51,
   "id": "7d8e646e",
   "metadata": {
    "scrolled": true
   },
   "outputs": [
    {
     "name": "stdout",
     "output_type": "stream",
     "text": [
      "Epoch 1/100\n",
      "128/128 [==============================] - 9s 47ms/step - loss: 0.6761 - auc: 0.4892 - val_loss: 0.6829 - val_auc: 0.5093\n",
      "Epoch 2/100\n",
      "128/128 [==============================] - 5s 40ms/step - loss: 0.6709 - auc: 0.4916 - val_loss: 0.6834 - val_auc: 0.5143\n",
      "Epoch 3/100\n",
      "128/128 [==============================] - 5s 39ms/step - loss: 0.6705 - auc: 0.4991 - val_loss: 0.6832 - val_auc: 0.5069\n",
      "Epoch 4/100\n",
      "128/128 [==============================] - 5s 39ms/step - loss: 0.6696 - auc: 0.4987 - val_loss: 0.6841 - val_auc: 0.5135\n",
      "Epoch 5/100\n",
      "128/128 [==============================] - 5s 38ms/step - loss: 0.6692 - auc: 0.5056 - val_loss: 0.6823 - val_auc: 0.5235\n",
      "Epoch 6/100\n",
      "128/128 [==============================] - 5s 41ms/step - loss: 0.6687 - auc: 0.5118 - val_loss: 0.6837 - val_auc: 0.5207\n",
      "Epoch 7/100\n",
      "128/128 [==============================] - 5s 40ms/step - loss: 0.6676 - auc: 0.5106 - val_loss: 0.6829 - val_auc: 0.5282\n",
      "Epoch 8/100\n",
      "128/128 [==============================] - 5s 41ms/step - loss: 0.6665 - auc: 0.5307 - val_loss: 0.6810 - val_auc: 0.5189\n",
      "Epoch 9/100\n",
      "128/128 [==============================] - 6s 48ms/step - loss: 0.6649 - auc: 0.5412 - val_loss: 0.6855 - val_auc: 0.5595\n",
      "Epoch 10/100\n",
      "128/128 [==============================] - 6s 45ms/step - loss: 0.6638 - auc: 0.5404 - val_loss: 0.6835 - val_auc: 0.5619\n",
      "Epoch 11/100\n",
      "128/128 [==============================] - 5s 42ms/step - loss: 0.6617 - auc: 0.5577 - val_loss: 0.6874 - val_auc: 0.5424\n",
      "Epoch 12/100\n",
      "128/128 [==============================] - 6s 47ms/step - loss: 0.6613 - auc: 0.5532 - val_loss: 0.6806 - val_auc: 0.5531\n",
      "Epoch 13/100\n",
      "128/128 [==============================] - 6s 44ms/step - loss: 0.6591 - auc: 0.5599 - val_loss: 0.6852 - val_auc: 0.5331\n",
      "Epoch 14/100\n",
      "128/128 [==============================] - 6s 45ms/step - loss: 0.6582 - auc: 0.5682 - val_loss: 0.6871 - val_auc: 0.5662\n",
      "Epoch 15/100\n",
      "128/128 [==============================] - 6s 44ms/step - loss: 0.6556 - auc: 0.5825 - val_loss: 0.6822 - val_auc: 0.5542\n",
      "Epoch 16/100\n",
      "128/128 [==============================] - 5s 43ms/step - loss: 0.6519 - auc: 0.5942 - val_loss: 0.6820 - val_auc: 0.5531\n",
      "Epoch 17/100\n",
      "128/128 [==============================] - 5s 42ms/step - loss: 0.6513 - auc: 0.5952 - val_loss: 0.6812 - val_auc: 0.5569\n",
      "Epoch 18/100\n",
      "128/128 [==============================] - 6s 46ms/step - loss: 0.6475 - auc: 0.6069 - val_loss: 0.6915 - val_auc: 0.5601\n",
      "Epoch 19/100\n",
      "128/128 [==============================] - 6s 43ms/step - loss: 0.6500 - auc: 0.6000 - val_loss: 0.6909 - val_auc: 0.5343\n",
      "Epoch 20/100\n",
      "128/128 [==============================] - 6s 49ms/step - loss: 0.6420 - auc: 0.6228 - val_loss: 0.6943 - val_auc: 0.5444\n",
      "Epoch 21/100\n",
      "128/128 [==============================] - 5s 40ms/step - loss: 0.6462 - auc: 0.6088 - val_loss: 0.6879 - val_auc: 0.5719\n",
      "Epoch 22/100\n",
      "128/128 [==============================] - 5s 41ms/step - loss: 0.6429 - auc: 0.6234 - val_loss: 0.6844 - val_auc: 0.5624\n",
      "Epoch 23/100\n",
      "128/128 [==============================] - 5s 42ms/step - loss: 0.6371 - auc: 0.6340 - val_loss: 0.6886 - val_auc: 0.5494\n",
      "Epoch 24/100\n",
      "128/128 [==============================] - 5s 42ms/step - loss: 0.6314 - auc: 0.6461 - val_loss: 0.6881 - val_auc: 0.5614\n",
      "Epoch 25/100\n",
      "128/128 [==============================] - 5s 42ms/step - loss: 0.6310 - auc: 0.6444 - val_loss: 0.6949 - val_auc: 0.5634\n",
      "Epoch 26/100\n",
      "128/128 [==============================] - 5s 42ms/step - loss: 0.6449 - auc: 0.6187 - val_loss: 0.6849 - val_auc: 0.5115\n",
      "Epoch 27/100\n",
      "128/128 [==============================] - 6s 44ms/step - loss: 0.6457 - auc: 0.6171 - val_loss: 0.6983 - val_auc: 0.5518\n",
      "Epoch 28/100\n",
      "128/128 [==============================] - 6s 43ms/step - loss: 0.6263 - auc: 0.6550 - val_loss: 0.7107 - val_auc: 0.5496\n"
     ]
    },
    {
     "data": {
      "image/png": "[encoded data removed]",
      "text/plain": [
       "<Figure size 432x288 with 1 Axes>"
      ]
     },
     "metadata": {
      "needs_background": "light"
     },
     "output_type": "display_data"
    },
    {
     "name": "stdout",
     "output_type": "stream",
     "text": [
      "40/40 [==============================] - 0s 10ms/step - loss: 0.6732 - auc: 0.5198\n",
      "Test AUC is 0.519814133644104 \n"
     ]
    }
   ],
   "source": [
    "epochs = 100\n",
    "lstm_pretrained_glove_embedding(X_train,X_test,y_train,y_test, epochs)"
   ]
  },
  {
   "cell_type": "code",
   "execution_count": 52,
   "id": "42dfa7a7",
   "metadata": {},
   "outputs": [
    {
     "name": "stdout",
     "output_type": "stream",
     "text": [
      "Epoch 1/50\n",
      "128/128 [==============================] - 12s 64ms/step - loss: 0.6713 - auc: 0.5178 - val_loss: 0.6856 - val_auc: 0.4994\n",
      "Epoch 2/50\n",
      "128/128 [==============================] - 6s 51ms/step - loss: 0.6663 - auc: 0.5549 - val_loss: 0.6881 - val_auc: 0.5050\n",
      "Epoch 3/50\n",
      "128/128 [==============================] - 6s 50ms/step - loss: 0.6624 - auc: 0.5760 - val_loss: 0.6890 - val_auc: 0.5097\n",
      "Epoch 4/50\n",
      "128/128 [==============================] - 6s 49ms/step - loss: 0.6582 - auc: 0.5960 - val_loss: 0.6967 - val_auc: 0.5160\n",
      "Epoch 5/50\n",
      "128/128 [==============================] - 6s 49ms/step - loss: 0.6534 - auc: 0.6105 - val_loss: 0.6889 - val_auc: 0.5165\n",
      "Epoch 6/50\n",
      "128/128 [==============================] - 6s 49ms/step - loss: 0.6473 - auc: 0.6298 - val_loss: 0.6897 - val_auc: 0.5171\n",
      "Epoch 7/50\n",
      "128/128 [==============================] - 6s 50ms/step - loss: 0.6381 - auc: 0.6514 - val_loss: 0.6976 - val_auc: 0.5266\n",
      "Epoch 8/50\n",
      "128/128 [==============================] - 7s 52ms/step - loss: 0.6292 - auc: 0.6700 - val_loss: 0.7050 - val_auc: 0.5286\n",
      "Epoch 9/50\n",
      "128/128 [==============================] - 6s 49ms/step - loss: 0.6184 - auc: 0.6887 - val_loss: 0.7130 - val_auc: 0.5351\n",
      "Epoch 10/50\n",
      "128/128 [==============================] - 6s 48ms/step - loss: 0.6110 - auc: 0.7049 - val_loss: 0.7163 - val_auc: 0.5236\n",
      "Epoch 11/50\n",
      "128/128 [==============================] - 6s 48ms/step - loss: 0.5954 - auc: 0.7284 - val_loss: 0.7175 - val_auc: 0.5136\n",
      "Epoch 12/50\n",
      "128/128 [==============================] - 6s 47ms/step - loss: 0.5871 - auc: 0.7391 - val_loss: 0.7372 - val_auc: 0.5166\n",
      "Epoch 13/50\n",
      "128/128 [==============================] - 6s 49ms/step - loss: 0.5678 - auc: 0.7623 - val_loss: 0.7505 - val_auc: 0.5193\n",
      "Epoch 14/50\n",
      "128/128 [==============================] - 6s 47ms/step - loss: 0.5545 - auc: 0.7768 - val_loss: 0.7683 - val_auc: 0.5112\n",
      "Epoch 15/50\n",
      "128/128 [==============================] - 6s 48ms/step - loss: 0.5353 - auc: 0.7982 - val_loss: 0.7782 - val_auc: 0.5139\n",
      "Epoch 16/50\n",
      "128/128 [==============================] - 6s 49ms/step - loss: 0.5180 - auc: 0.8145 - val_loss: 0.7851 - val_auc: 0.5168\n",
      "Epoch 17/50\n",
      "128/128 [==============================] - 6s 50ms/step - loss: 0.5031 - auc: 0.8287 - val_loss: 0.7945 - val_auc: 0.5209\n",
      "Epoch 18/50\n",
      "128/128 [==============================] - 6s 49ms/step - loss: 0.4827 - auc: 0.8437 - val_loss: 0.8353 - val_auc: 0.5145\n",
      "Epoch 19/50\n",
      "128/128 [==============================] - 6s 50ms/step - loss: 0.4637 - auc: 0.8601 - val_loss: 0.8576 - val_auc: 0.5157\n",
      "Epoch 20/50\n",
      "128/128 [==============================] - 7s 52ms/step - loss: 0.4466 - auc: 0.8700 - val_loss: 0.8663 - val_auc: 0.5050\n",
      "Epoch 21/50\n",
      "128/128 [==============================] - 7s 51ms/step - loss: 0.4329 - auc: 0.8791 - val_loss: 0.8740 - val_auc: 0.5115\n"
     ]
    },
    {
     "data": {
      "image/png": "[encoded data removed]",
      "text/plain": [
       "<Figure size 432x288 with 1 Axes>"
      ]
     },
     "metadata": {
      "needs_background": "light"
     },
     "output_type": "display_data"
    },
    {
     "name": "stdout",
     "output_type": "stream",
     "text": [
      "40/40 [==============================] - 1s 13ms/step - loss: 0.6722 - auc: 0.5172\n",
      "Test AUC is 0.5171997547149658 \n"
     ]
    }
   ],
   "source": [
    "epochs = 50\n",
    "bilstm_pretrained_glove_embedding(X_train,X_test,y_train,y_test, epochs)"
   ]
  },
  {
   "cell_type": "code",
   "execution_count": null,
   "id": "258b9584",
   "metadata": {},
   "outputs": [],
   "source": []
  }
 ],
 "metadata": {
  "kernelspec": {
   "display_name": "Python 3",
   "language": "python",
   "name": "python3"
  },
  "language_info": {
   "codemirror_mode": {
    "name": "ipython",
    "version": 3
   },
   "file_extension": ".py",
   "mimetype": "text/x-python",
   "name": "python",
   "nbconvert_exporter": "python",
   "pygments_lexer": "ipython3",
   "version": "3.9.4"
  }
 },
 "nbformat": 4,
 "nbformat_minor": 5
}
