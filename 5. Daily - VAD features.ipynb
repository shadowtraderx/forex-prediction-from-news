{
 "cells": [
  {
   "cell_type": "code",
   "execution_count": 14,
   "id": "8ab83ca3",
   "metadata": {},
   "outputs": [],
   "source": [
    "import numpy as np\n",
    "import pandas as pd\n",
    "from datetime import datetime, timedelta\n",
    "import spacy\n",
    "\n",
    "# Need to load the model to get the vectors\n",
    "nlp = spacy.load('en_core_web_md')"
   ]
  },
  {
   "cell_type": "code",
   "execution_count": 15,
   "id": "2901c1cf",
   "metadata": {},
   "outputs": [],
   "source": [
    "def groupbyDate(df):\n",
    "    \n",
    "    dates = list(set(df['time_gmt_date'].to_list()))\n",
    "    \n",
    "    rows = []\n",
    "    \n",
    "    for dt in dates:\n",
    "        \n",
    "        df_date = df[df['time_gmt_date']==dt]\n",
    "        text = \"\"\n",
    "        \n",
    "        for i in range(df_date.shape[0]):\n",
    "            text = text+\" \"+df_date['title'].iloc[i]\n",
    "            \n",
    "        rows.append([dt, text])\n",
    "    \n",
    "    df_ = pd.DataFrame(rows)\n",
    "    df_.columns=[\"date\",\"combined_text\"]\n",
    "    df_.sort_values(by='date', ascending=True, inplace=True)\n",
    "    \n",
    "    return df_\n",
    "\n",
    "def encode_price_direction(df):\n",
    "    \n",
    "    for i in range(df.shape[0]):\n",
    "        \n",
    "        val = df['price_direction'].iloc[i]\n",
    "        \n",
    "        if val == 'up':\n",
    "            df['price_direction'].iloc[i] = 1\n",
    "        else: \n",
    "            df['price_direction'].iloc[i] = 0\n",
    "            \n",
    "    return df\n",
    "\n",
    "def align_date(df):\n",
    "    \n",
    "    for i in range(df.shape[0]):\n",
    "        x = df['date'].iloc[i]\n",
    "        x = datetime.strptime(x,\"%Y-%m-%d\")\n",
    "        x = x-timedelta(hours=24) \n",
    "        df['date'].iloc[i] = x\n",
    "    return df"
   ]
  },
  {
   "cell_type": "code",
   "execution_count": 59,
   "id": "4a9191df",
   "metadata": {},
   "outputs": [],
   "source": [
    "import matplotlib.pyplot as plt\n",
    "import seaborn as sns\n",
    "from sklearn import metrics\n",
    "    \n",
    "def plotLossCurve(estimator):\n",
    "    # Plot model loss over epochs\n",
    "    plt.plot(estimator.history['loss'])\n",
    "    plt.plot(estimator.history['val_loss'])\n",
    "    plt.title('model loss')\n",
    "    plt.ylabel('loss')\n",
    "    plt.xlabel('epoch')\n",
    "    plt.legend(['train', 'valid'], loc='upper left')\n",
    "    plt.show()\n",
    "\n",
    "def get_vad_features(df):\n",
    "    \n",
    "    from tensorflow.keras.models import load_model\n",
    "\n",
    "    # load model\n",
    "    model = load_model('Model/model-glove-embedding-uscaled.h5')\n",
    "    print(\"Loaded model from disk\")\n",
    "    \n",
    "    import pickle\n",
    "\n",
    "    # loading\n",
    "    with open('Model/tokenizer.pickle', 'rb') as handle:\n",
    "        tokenizer = pickle.load(handle)\n",
    "    \n",
    "    \n",
    "    from tensorflow.keras.preprocessing.sequence import pad_sequences\n",
    "\n",
    "    max_length =  200 #Maximum length of each row\n",
    "    padding_type = \"post\"\n",
    "    trunction_type=\"post\"\n",
    "\n",
    "    X_test_sequences = tokenizer.texts_to_sequences(df['combined_text'])\n",
    "    X_test_padded = pad_sequences(X_test_sequences,maxlen=max_length,\n",
    "                                   padding=padding_type, truncating=trunction_type)\n",
    "    \n",
    "    vad = model.predict(X_test_padded)\n",
    "    \n",
    "    return vad\n",
    "\n",
    "def logistic_regression(X_train,X_test,y_train,y_test):\n",
    "    from sklearn.linear_model import LogisticRegression\n",
    "    \n",
    "    logisticRegr = LogisticRegression()\n",
    "    logisticRegr.fit(X_train, y_train)\n",
    "    \n",
    "    pred = logisticRegr.predict(X_test)\n",
    "    \n",
    "    p = logisticRegr.predict_proba(X_test)\n",
    "    \n",
    "    pred = p[:,1]\n",
    "    fpr, tpr, thresholds = metrics.roc_curve(y_test, pred, pos_label=1)\n",
    "    \n",
    "    auc = metrics.auc(fpr, tpr)\n",
    "    \n",
    "    print('Test AUC is {} '.format(auc))\n",
    "    \n",
    "def randomforest_classifier(X_train,X_test,y_train,y_test):\n",
    "    \n",
    "    from sklearn.ensemble import RandomForestClassifier\n",
    "    \n",
    "    clf = RandomForestClassifier(max_depth=2, random_state=0)\n",
    "    clf.fit(X_train, y_train.ravel())\n",
    "    p = clf.predict_proba(X_test)\n",
    "    pred = p[:,1]\n",
    "    fpr, tpr, thresholds = metrics.roc_curve(y_test, pred, pos_label=1)\n",
    "    auc = metrics.auc(fpr, tpr)\n",
    "    \n",
    "    print('Test AUC is {} '.format(auc))"
   ]
  },
  {
   "cell_type": "code",
   "execution_count": 16,
   "id": "fb9eca23",
   "metadata": {},
   "outputs": [
    {
     "data": {
      "text/html": [
       "<div>\n",
       "<style scoped>\n",
       "    .dataframe tbody tr th:only-of-type {\n",
       "        vertical-align: middle;\n",
       "    }\n",
       "\n",
       "    .dataframe tbody tr th {\n",
       "        vertical-align: top;\n",
       "    }\n",
       "\n",
       "    .dataframe thead th {\n",
       "        text-align: right;\n",
       "    }\n",
       "</style>\n",
       "<table border=\"1\" class=\"dataframe\">\n",
       "  <thead>\n",
       "    <tr style=\"text-align: right;\">\n",
       "      <th></th>\n",
       "      <th>date</th>\n",
       "      <th>combined_text</th>\n",
       "    </tr>\n",
       "  </thead>\n",
       "  <tbody>\n",
       "    <tr>\n",
       "      <th>401</th>\n",
       "      <td>2015-12-28</td>\n",
       "      <td>carl icahn trumps bridgestone s offer for pep...</td>\n",
       "    </tr>\n",
       "    <tr>\n",
       "      <th>1318</th>\n",
       "      <td>2015-12-29</td>\n",
       "      <td>china to wait and see if japan sincere on com...</td>\n",
       "    </tr>\n",
       "    <tr>\n",
       "      <th>984</th>\n",
       "      <td>2015-12-30</td>\n",
       "      <td>south korean comfort women protest against ac...</td>\n",
       "    </tr>\n",
       "    <tr>\n",
       "      <th>1336</th>\n",
       "      <td>2015-12-31</td>\n",
       "      <td>vw scandal could kill u s diesel car market c...</td>\n",
       "    </tr>\n",
       "    <tr>\n",
       "      <th>171</th>\n",
       "      <td>2016-01-01</td>\n",
       "      <td>airbus to sell three a380 superjumbo jets to ...</td>\n",
       "    </tr>\n",
       "  </tbody>\n",
       "</table>\n",
       "</div>"
      ],
      "text/plain": [
       "            date                                      combined_text\n",
       "401   2015-12-28   carl icahn trumps bridgestone s offer for pep...\n",
       "1318  2015-12-29   china to wait and see if japan sincere on com...\n",
       "984   2015-12-30   south korean comfort women protest against ac...\n",
       "1336  2015-12-31   vw scandal could kill u s diesel car market c...\n",
       "171   2016-01-01   airbus to sell three a380 superjumbo jets to ..."
      ]
     },
     "execution_count": 16,
     "metadata": {},
     "output_type": "execute_result"
    }
   ],
   "source": [
    "df_news = pd.read_csv('Data/news_data.csv')\n",
    "df_combined_news = groupbyDate(df_news)\n",
    "df_combined_news.head()"
   ]
  },
  {
   "cell_type": "code",
   "execution_count": 17,
   "id": "4018fb7e",
   "metadata": {},
   "outputs": [
    {
     "name": "stderr",
     "output_type": "stream",
     "text": [
      "/Users/sheetalpandrekar/opt/miniconda3/envs/forextrade/lib/python3.9/site-packages/pandas/core/indexing.py:1637: SettingWithCopyWarning: \n",
      "A value is trying to be set on a copy of a slice from a DataFrame\n",
      "\n",
      "See the caveats in the documentation: https://pandas.pydata.org/pandas-docs/stable/user_guide/indexing.html#returning-a-view-versus-a-copy\n",
      "  self._setitem_single_block(indexer, value, name)\n"
     ]
    },
    {
     "data": {
      "text/html": [
       "<div>\n",
       "<style scoped>\n",
       "    .dataframe tbody tr th:only-of-type {\n",
       "        vertical-align: middle;\n",
       "    }\n",
       "\n",
       "    .dataframe tbody tr th {\n",
       "        vertical-align: top;\n",
       "    }\n",
       "\n",
       "    .dataframe thead th {\n",
       "        text-align: right;\n",
       "    }\n",
       "</style>\n",
       "<table border=\"1\" class=\"dataframe\">\n",
       "  <thead>\n",
       "    <tr style=\"text-align: right;\">\n",
       "      <th></th>\n",
       "      <th>date</th>\n",
       "      <th>price</th>\n",
       "      <th>price_direction</th>\n",
       "    </tr>\n",
       "  </thead>\n",
       "  <tbody>\n",
       "    <tr>\n",
       "      <th>0</th>\n",
       "      <td>2016-01-01</td>\n",
       "      <td>120.2665</td>\n",
       "      <td>1</td>\n",
       "    </tr>\n",
       "    <tr>\n",
       "      <th>1</th>\n",
       "      <td>2016-01-02</td>\n",
       "      <td>120.8575</td>\n",
       "      <td>1</td>\n",
       "    </tr>\n",
       "    <tr>\n",
       "      <th>2</th>\n",
       "      <td>2016-01-03</td>\n",
       "      <td>113.9180</td>\n",
       "      <td>0</td>\n",
       "    </tr>\n",
       "    <tr>\n",
       "      <th>3</th>\n",
       "      <td>2016-01-04</td>\n",
       "      <td>111.6515</td>\n",
       "      <td>0</td>\n",
       "    </tr>\n",
       "    <tr>\n",
       "      <th>4</th>\n",
       "      <td>2016-01-05</td>\n",
       "      <td>106.4375</td>\n",
       "      <td>0</td>\n",
       "    </tr>\n",
       "  </tbody>\n",
       "</table>\n",
       "</div>"
      ],
      "text/plain": [
       "         date     price price_direction\n",
       "0  2016-01-01  120.2665               1\n",
       "1  2016-01-02  120.8575               1\n",
       "2  2016-01-03  113.9180               0\n",
       "3  2016-01-04  111.6515               0\n",
       "4  2016-01-05  106.4375               0"
      ]
     },
     "execution_count": 17,
     "metadata": {},
     "output_type": "execute_result"
    }
   ],
   "source": [
    "df_usdjpy = pd.read_csv('Data/usdjpy_daily.csv')\n",
    "df_usdjpy = encode_price_direction(df_usdjpy)\n",
    "df_usdjpy.head()"
   ]
  },
  {
   "cell_type": "code",
   "execution_count": 18,
   "id": "ff039ef3",
   "metadata": {},
   "outputs": [
    {
     "name": "stderr",
     "output_type": "stream",
     "text": [
      "/Users/sheetalpandrekar/opt/miniconda3/envs/forextrade/lib/python3.9/site-packages/pandas/core/indexing.py:1637: SettingWithCopyWarning: \n",
      "A value is trying to be set on a copy of a slice from a DataFrame\n",
      "\n",
      "See the caveats in the documentation: https://pandas.pydata.org/pandas-docs/stable/user_guide/indexing.html#returning-a-view-versus-a-copy\n",
      "  self._setitem_single_block(indexer, value, name)\n"
     ]
    },
    {
     "data": {
      "text/html": [
       "<div>\n",
       "<style scoped>\n",
       "    .dataframe tbody tr th:only-of-type {\n",
       "        vertical-align: middle;\n",
       "    }\n",
       "\n",
       "    .dataframe tbody tr th {\n",
       "        vertical-align: top;\n",
       "    }\n",
       "\n",
       "    .dataframe thead th {\n",
       "        text-align: right;\n",
       "    }\n",
       "</style>\n",
       "<table border=\"1\" class=\"dataframe\">\n",
       "  <thead>\n",
       "    <tr style=\"text-align: right;\">\n",
       "      <th></th>\n",
       "      <th>date</th>\n",
       "      <th>price</th>\n",
       "      <th>price_direction</th>\n",
       "    </tr>\n",
       "  </thead>\n",
       "  <tbody>\n",
       "    <tr>\n",
       "      <th>0</th>\n",
       "      <td>2015-12-31 00:00:00</td>\n",
       "      <td>120.2665</td>\n",
       "      <td>1</td>\n",
       "    </tr>\n",
       "    <tr>\n",
       "      <th>1</th>\n",
       "      <td>2016-01-01 00:00:00</td>\n",
       "      <td>120.8575</td>\n",
       "      <td>1</td>\n",
       "    </tr>\n",
       "    <tr>\n",
       "      <th>2</th>\n",
       "      <td>2016-01-02 00:00:00</td>\n",
       "      <td>113.9180</td>\n",
       "      <td>0</td>\n",
       "    </tr>\n",
       "    <tr>\n",
       "      <th>3</th>\n",
       "      <td>2016-01-03 00:00:00</td>\n",
       "      <td>111.6515</td>\n",
       "      <td>0</td>\n",
       "    </tr>\n",
       "    <tr>\n",
       "      <th>4</th>\n",
       "      <td>2016-01-04 00:00:00</td>\n",
       "      <td>106.4375</td>\n",
       "      <td>0</td>\n",
       "    </tr>\n",
       "  </tbody>\n",
       "</table>\n",
       "</div>"
      ],
      "text/plain": [
       "                  date     price price_direction\n",
       "0  2015-12-31 00:00:00  120.2665               1\n",
       "1  2016-01-01 00:00:00  120.8575               1\n",
       "2  2016-01-02 00:00:00  113.9180               0\n",
       "3  2016-01-03 00:00:00  111.6515               0\n",
       "4  2016-01-04 00:00:00  106.4375               0"
      ]
     },
     "execution_count": 18,
     "metadata": {},
     "output_type": "execute_result"
    }
   ],
   "source": [
    "df_usdjpy_ = align_date(df_usdjpy)\n",
    "df_usdjpy_.head()"
   ]
  },
  {
   "cell_type": "code",
   "execution_count": 19,
   "id": "22246959",
   "metadata": {},
   "outputs": [
    {
     "data": {
      "text/html": [
       "<div>\n",
       "<style scoped>\n",
       "    .dataframe tbody tr th:only-of-type {\n",
       "        vertical-align: middle;\n",
       "    }\n",
       "\n",
       "    .dataframe tbody tr th {\n",
       "        vertical-align: top;\n",
       "    }\n",
       "\n",
       "    .dataframe thead th {\n",
       "        text-align: right;\n",
       "    }\n",
       "</style>\n",
       "<table border=\"1\" class=\"dataframe\">\n",
       "  <thead>\n",
       "    <tr style=\"text-align: right;\">\n",
       "      <th></th>\n",
       "      <th>date</th>\n",
       "      <th>combined_text</th>\n",
       "      <th>price</th>\n",
       "      <th>price_direction</th>\n",
       "    </tr>\n",
       "  </thead>\n",
       "  <tbody>\n",
       "    <tr>\n",
       "      <th>0</th>\n",
       "      <td>2015-12-31</td>\n",
       "      <td>vw scandal could kill u s diesel car market c...</td>\n",
       "      <td>120.2665</td>\n",
       "      <td>1</td>\n",
       "    </tr>\n",
       "    <tr>\n",
       "      <th>1</th>\n",
       "      <td>2016-01-01</td>\n",
       "      <td>airbus to sell three a380 superjumbo jets to ...</td>\n",
       "      <td>120.8575</td>\n",
       "      <td>1</td>\n",
       "    </tr>\n",
       "    <tr>\n",
       "      <th>2</th>\n",
       "      <td>2016-01-03</td>\n",
       "      <td>japan central bank turns activist investor to...</td>\n",
       "      <td>111.6515</td>\n",
       "      <td>0</td>\n",
       "    </tr>\n",
       "    <tr>\n",
       "      <th>3</th>\n",
       "      <td>2016-01-05</td>\n",
       "      <td>automakers not silicon valley lead in driverl...</td>\n",
       "      <td>109.4655</td>\n",
       "      <td>1</td>\n",
       "    </tr>\n",
       "    <tr>\n",
       "      <th>4</th>\n",
       "      <td>2016-01-06</td>\n",
       "      <td>japanese u s leaders phone talks over north k...</td>\n",
       "      <td>102.5240</td>\n",
       "      <td>0</td>\n",
       "    </tr>\n",
       "  </tbody>\n",
       "</table>\n",
       "</div>"
      ],
      "text/plain": [
       "        date                                      combined_text     price  \\\n",
       "0 2015-12-31   vw scandal could kill u s diesel car market c...  120.2665   \n",
       "1 2016-01-01   airbus to sell three a380 superjumbo jets to ...  120.8575   \n",
       "2 2016-01-03   japan central bank turns activist investor to...  111.6515   \n",
       "3 2016-01-05   automakers not silicon valley lead in driverl...  109.4655   \n",
       "4 2016-01-06   japanese u s leaders phone talks over north k...  102.5240   \n",
       "\n",
       "  price_direction  \n",
       "0               1  \n",
       "1               1  \n",
       "2               0  \n",
       "3               1  \n",
       "4               0  "
      ]
     },
     "execution_count": 19,
     "metadata": {},
     "output_type": "execute_result"
    }
   ],
   "source": [
    "df_combined_news['date'] = pd.to_datetime(df_combined_news['date'])\n",
    "df_usdjpy_['date'] = pd.to_datetime(df_usdjpy_['date'])\n",
    "df_merged = df_combined_news.merge(df_usdjpy_, on =['date'])\n",
    "df_merged.head()"
   ]
  },
  {
   "cell_type": "code",
   "execution_count": 20,
   "id": "505a45c9",
   "metadata": {},
   "outputs": [
    {
     "data": {
      "text/plain": [
       "(1719, 4)"
      ]
     },
     "execution_count": 20,
     "metadata": {},
     "output_type": "execute_result"
    }
   ],
   "source": [
    "df_merged.shape"
   ]
  },
  {
   "cell_type": "code",
   "execution_count": 23,
   "id": "33842b96",
   "metadata": {},
   "outputs": [
    {
     "name": "stdout",
     "output_type": "stream",
     "text": [
      "Loaded model from disk\n"
     ]
    }
   ],
   "source": [
    "vad = get_vad_features(df_merged)"
   ]
  },
  {
   "cell_type": "code",
   "execution_count": 38,
   "id": "54377231",
   "metadata": {},
   "outputs": [],
   "source": [
    "from sklearn.model_selection import train_test_split\n",
    "\n",
    "X = vad\n",
    "y = df_merged[['price_direction']]\n",
    "\n",
    "X_train, X_test , y_train, y_test = train_test_split(X, y , test_size = 0.20)\n",
    "y_train = np.asarray(y_train).astype(np.float32)\n",
    "y_test = np.asarray(y_test).astype(np.float32)"
   ]
  },
  {
   "cell_type": "code",
   "execution_count": 60,
   "id": "dd35abb4",
   "metadata": {},
   "outputs": [
    {
     "name": "stdout",
     "output_type": "stream",
     "text": [
      "Test AUC is 0.5172508591065292 \n"
     ]
    },
    {
     "name": "stderr",
     "output_type": "stream",
     "text": [
      "/Users/sheetalpandrekar/opt/miniconda3/envs/forextrade/lib/python3.9/site-packages/sklearn/utils/validation.py:63: DataConversionWarning: A column-vector y was passed when a 1d array was expected. Please change the shape of y to (n_samples, ), for example using ravel().\n",
      "  return f(*args, **kwargs)\n"
     ]
    }
   ],
   "source": [
    "logistic_regression(X_train,X_test,y_train,y_test)"
   ]
  },
  {
   "cell_type": "code",
   "execution_count": 56,
   "id": "0ac8df79",
   "metadata": {},
   "outputs": [
    {
     "name": "stdout",
     "output_type": "stream",
     "text": [
      "Test AUC is 0.4231099656357389 \n"
     ]
    }
   ],
   "source": [
    "randomforest_classifier(X_train,X_test,y_train,y_test)"
   ]
  }
 ],
 "metadata": {
  "kernelspec": {
   "display_name": "Python 3",
   "language": "python",
   "name": "python3"
  },
  "language_info": {
   "codemirror_mode": {
    "name": "ipython",
    "version": 3
   },
   "file_extension": ".py",
   "mimetype": "text/x-python",
   "name": "python",
   "nbconvert_exporter": "python",
   "pygments_lexer": "ipython3",
   "version": "3.9.4"
  }
 },
 "nbformat": 4,
 "nbformat_minor": 5
}
