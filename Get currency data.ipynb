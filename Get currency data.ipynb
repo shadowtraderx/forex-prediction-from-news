{
 "cells": [
  {
   "cell_type": "code",
   "execution_count": 2,
   "id": "36f50a6a",
   "metadata": {},
   "outputs": [],
   "source": [
    "import yfinance as yf\n",
    "import pandas as pd"
   ]
  },
  {
   "cell_type": "code",
   "execution_count": 3,
   "id": "b3e176de",
   "metadata": {},
   "outputs": [
    {
     "name": "stdout",
     "output_type": "stream",
     "text": [
      "[*********************100%***********************]  1 of 1 completed\n",
      "                  Open        High         Low       Close   Adj Close  Volume\n",
      "Date                                                                          \n",
      "2016-06-01  110.650002  110.823997   99.973000  102.778000  102.778000       0\n",
      "2016-07-01  103.053001  107.484001  100.096001  102.332001  102.332001       0\n",
      "2016-08-01  102.347000  103.519997   99.572998  102.867996  102.867996       0\n",
      "2016-09-01  103.306999  104.285004  100.100998  101.198997  101.198997       0\n",
      "2016-10-01  101.330002  105.495003  101.188004  104.565002  104.565002       0\n",
      "...                ...         ...         ...         ...         ...     ...\n",
      "2021-02-01  104.719002  106.681999  104.417999  106.529999  106.529999       0\n",
      "2021-03-01  106.473999  110.953003  106.375999  110.305000  110.305000       0\n",
      "2021-04-01  110.737999  110.845001  107.470001  108.903999  108.903999       0\n",
      "2021-05-01  109.170998  109.777000  108.347000  109.664001  109.664001       0\n",
      "2021-05-14  109.433998  109.655998  109.269997  109.318001  109.318001       0\n",
      "\n",
      "[61 rows x 6 columns]\n"
     ]
    }
   ],
   "source": [
    "data = yf.download(         \n",
    "\t\ttickers=['USDJPY=X'], \n",
    "\t\t# use \"period\" instead of start/end\n",
    "\t\t# valid periods: 1d,5d,1mo,3mo,6mo,1y,2y,5y,10y,ytd,max\n",
    "\t\t# (optional, default is '1mo')\n",
    "\t\tperiod=\"5y\",\n",
    "\t\t# fetch data by interval (including intraday if period < 60 days)\n",
    "\t\t# valid intervals: 1m,2m,5m,15m,30m,60m,90m,1h,1d,5d,1wk,1mo,3mo\n",
    "       \t# (optional, default is '1d')\n",
    "\t\tinterval=\"1mo\") \n",
    "\n",
    "print(data)"
   ]
  },
  {
   "cell_type": "code",
   "execution_count": 5,
   "id": "960aa5bc",
   "metadata": {},
   "outputs": [
    {
     "name": "stdout",
     "output_type": "stream",
     "text": [
      "[*********************100%***********************]  1 of 1 completed\n",
      "\n",
      "1 Failed download:\n",
      "- USDJPY=X: 1h data not available for startTime=1463303226 and endTime=1620983226. The requested range must be within the last 730 days.\n",
      "Empty DataFrame\n",
      "Columns: [Open, High, Low, Close, Adj Close, Volume]\n",
      "Index: []\n"
     ]
    }
   ],
   "source": [
    "data = yf.download(         \n",
    "\t\ttickers=['USDJPY=X'], \n",
    "\t\t# use \"period\" instead of start/end\n",
    "\t\t# valid periods: 1d,5d,1mo,3mo,6mo,1y,2y,5y,10y,ytd,max\n",
    "\t\t# (optional, default is '1mo')\n",
    "\t\tperiod=\"5y\",\n",
    "\t\t# fetch data by interval (including intraday if period < 60 days)\n",
    "\t\t# valid intervals: 1m,2m,5m,15m,30m,60m,90m,1h,1d,5d,1wk,1mo,3mo\n",
    "       \t# (optional, default is '1d')\n",
    "\t\tinterval=\"1h\") \n",
    "\n",
    "print(data[:20])"
   ]
  },
  {
   "cell_type": "code",
   "execution_count": 8,
   "id": "faae5d53",
   "metadata": {},
   "outputs": [
    {
     "name": "stdout",
     "output_type": "stream",
     "text": [
      "[*********************100%***********************]  1 of 1 completed\n",
      "\n",
      "1 Failed download:\n",
      "- FTAWORLDSR: No data found, symbol may be delisted\n",
      "Empty DataFrame\n",
      "Columns: [Open, High, Low, Close, Adj Close, Volume]\n",
      "Index: []\n"
     ]
    }
   ],
   "source": [
    "data = yf.download(         \n",
    "\t\ttickers=['FTAWORLDSR'], \n",
    "\t\t# use \"period\" instead of start/end\n",
    "\t\t# valid periods: 1d,5d,1mo,3mo,6mo,1y,2y,5y,10y,ytd,max\n",
    "\t\t# (optional, default is '1mo')\n",
    "\t\tperiod=\"1mo\",\n",
    "\t\t# fetch data by interval (including intraday if period < 60 days)\n",
    "\t\t# valid intervals: 1m,2m,5m,15m,30m,60m,90m,1h,1d,5d,1wk,1mo,3mo\n",
    "       \t# (optional, default is '1d')\n",
    "\t\tinterval=\"1d\") \n",
    "\n",
    "print(data)"
   ]
  },
  {
   "cell_type": "code",
   "execution_count": null,
   "id": "a1952dd6",
   "metadata": {},
   "outputs": [],
   "source": []
  }
 ],
 "metadata": {
  "kernelspec": {
   "display_name": "Python 3",
   "language": "python",
   "name": "python3"
  },
  "language_info": {
   "codemirror_mode": {
    "name": "ipython",
    "version": 3
   },
   "file_extension": ".py",
   "mimetype": "text/x-python",
   "name": "python",
   "nbconvert_exporter": "python",
   "pygments_lexer": "ipython3",
   "version": "3.9.4"
  }
 },
 "nbformat": 4,
 "nbformat_minor": 5
}
