{
 "cells": [
  {
   "cell_type": "code",
   "execution_count": 34,
   "id": "f3c4173e",
   "metadata": {},
   "outputs": [],
   "source": [
    "import pandas as pd\n",
    "from datetime import datetime"
   ]
  },
  {
   "cell_type": "code",
   "execution_count": 35,
   "id": "1c8fea57",
   "metadata": {},
   "outputs": [
    {
     "data": {
      "text/html": [
       "<div>\n",
       "<style scoped>\n",
       "    .dataframe tbody tr th:only-of-type {\n",
       "        vertical-align: middle;\n",
       "    }\n",
       "\n",
       "    .dataframe tbody tr th {\n",
       "        vertical-align: top;\n",
       "    }\n",
       "\n",
       "    .dataframe thead th {\n",
       "        text-align: right;\n",
       "    }\n",
       "</style>\n",
       "<table border=\"1\" class=\"dataframe\">\n",
       "  <thead>\n",
       "    <tr style=\"text-align: right;\">\n",
       "      <th></th>\n",
       "      <th>links</th>\n",
       "      <th>title</th>\n",
       "      <th>descr</th>\n",
       "      <th>display_time</th>\n",
       "      <th>time_gmt</th>\n",
       "      <th>category</th>\n",
       "      <th>subcategory</th>\n",
       "    </tr>\n",
       "  </thead>\n",
       "  <tbody>\n",
       "    <tr>\n",
       "      <th>0</th>\n",
       "      <td>https://www.reuters.com/article/us-olympics-io...</td>\n",
       "      <td>Olympics IOC confident of successful Tokyo Gam...</td>\n",
       "      <td>Reuters The International Olympic Committee IO...</td>\n",
       "      <td>3:01PM EDT</td>\n",
       "      <td>2021-05-12T15:18:06.489Z</td>\n",
       "      <td>Lifestyle</td>\n",
       "      <td>Sports</td>\n",
       "    </tr>\n",
       "    <tr>\n",
       "      <th>1</th>\n",
       "      <td>https://www.reuters.com/article/us-seven-i-hld...</td>\n",
       "      <td>Exclusive ValueAct takes stake in 7 Eleven own...</td>\n",
       "      <td>Reuters Activist investor ValueAct Capital has...</td>\n",
       "      <td>1:30PM EDT</td>\n",
       "      <td>2021-05-12T15:35:03Z</td>\n",
       "      <td>Business</td>\n",
       "      <td>Retails &amp; Consumer</td>\n",
       "    </tr>\n",
       "    <tr>\n",
       "      <th>2</th>\n",
       "      <td>https://www.reuters.com/article/us-olympics-20...</td>\n",
       "      <td>US athletics team cancels pre Olympics camp in...</td>\n",
       "      <td>TOKYO Reuters The United States track and fiel...</td>\n",
       "      <td>10:22AM EDT</td>\n",
       "      <td>2021-05-12T03:25:51.298Z</td>\n",
       "      <td>World</td>\n",
       "      <td>Asia Pacific</td>\n",
       "    </tr>\n",
       "    <tr>\n",
       "      <th>3</th>\n",
       "      <td>https://www.reuters.com/article/us-health-coro...</td>\n",
       "      <td>Japan s coronavirus vaccine booking system cra...</td>\n",
       "      <td>Technical problems derailed Japan s coronaviru...</td>\n",
       "      <td>6:33AM EDT</td>\n",
       "      <td>2021-05-12T06:01:50.125Z</td>\n",
       "      <td>World</td>\n",
       "      <td>Asia Pacific</td>\n",
       "    </tr>\n",
       "    <tr>\n",
       "      <th>4</th>\n",
       "      <td>https://www.reuters.com/article/us-toyota-resu...</td>\n",
       "      <td>Toyota unfazed by chip shortage forecasts rebo...</td>\n",
       "      <td>TOKYO Reuters Toyota Motor Corp forecast its p...</td>\n",
       "      <td>5:59AM EDT</td>\n",
       "      <td>2021-05-12T04:35:53Z</td>\n",
       "      <td>Business</td>\n",
       "      <td>Autos</td>\n",
       "    </tr>\n",
       "  </tbody>\n",
       "</table>\n",
       "</div>"
      ],
      "text/plain": [
       "                                               links  \\\n",
       "0  https://www.reuters.com/article/us-olympics-io...   \n",
       "1  https://www.reuters.com/article/us-seven-i-hld...   \n",
       "2  https://www.reuters.com/article/us-olympics-20...   \n",
       "3  https://www.reuters.com/article/us-health-coro...   \n",
       "4  https://www.reuters.com/article/us-toyota-resu...   \n",
       "\n",
       "                                               title  \\\n",
       "0  Olympics IOC confident of successful Tokyo Gam...   \n",
       "1  Exclusive ValueAct takes stake in 7 Eleven own...   \n",
       "2  US athletics team cancels pre Olympics camp in...   \n",
       "3  Japan s coronavirus vaccine booking system cra...   \n",
       "4  Toyota unfazed by chip shortage forecasts rebo...   \n",
       "\n",
       "                                               descr display_time  \\\n",
       "0  Reuters The International Olympic Committee IO...   3:01PM EDT   \n",
       "1  Reuters Activist investor ValueAct Capital has...   1:30PM EDT   \n",
       "2  TOKYO Reuters The United States track and fiel...  10:22AM EDT   \n",
       "3  Technical problems derailed Japan s coronaviru...   6:33AM EDT   \n",
       "4  TOKYO Reuters Toyota Motor Corp forecast its p...   5:59AM EDT   \n",
       "\n",
       "                   time_gmt   category         subcategory  \n",
       "0  2021-05-12T15:18:06.489Z  Lifestyle              Sports  \n",
       "1      2021-05-12T15:35:03Z   Business  Retails & Consumer  \n",
       "2  2021-05-12T03:25:51.298Z      World        Asia Pacific  \n",
       "3  2021-05-12T06:01:50.125Z      World        Asia Pacific  \n",
       "4      2021-05-12T04:35:53Z   Business               Autos  "
      ]
     },
     "execution_count": 35,
     "metadata": {},
     "output_type": "execute_result"
    }
   ],
   "source": [
    "df_news = pd.read_csv(\"Data Collection/scraped_news.csv\", header=None)\n",
    "df_news.columns = ['links','title','descr','display_time','time_gmt','category','subcategory']\n",
    "df_news.head()"
   ]
  },
  {
   "cell_type": "code",
   "execution_count": 36,
   "id": "9440999a",
   "metadata": {},
   "outputs": [
    {
     "name": "stdout",
     "output_type": "stream",
     "text": [
      "<class 'pandas.core.frame.DataFrame'>\n",
      "RangeIndex: 7660 entries, 0 to 7659\n",
      "Data columns (total 7 columns):\n",
      " #   Column        Non-Null Count  Dtype \n",
      "---  ------        --------------  ----- \n",
      " 0   links         7660 non-null   object\n",
      " 1   title         7660 non-null   object\n",
      " 2   descr         7660 non-null   object\n",
      " 3   display_time  7660 non-null   object\n",
      " 4   time_gmt      7660 non-null   object\n",
      " 5   category      7660 non-null   object\n",
      " 6   subcategory   7650 non-null   object\n",
      "dtypes: object(7)\n",
      "memory usage: 419.0+ KB\n"
     ]
    }
   ],
   "source": [
    "df_news.info()"
   ]
  },
  {
   "cell_type": "code",
   "execution_count": 50,
   "id": "a9d0825e",
   "metadata": {},
   "outputs": [],
   "source": [
    "def cleanText(text):\n",
    "    \"\"\"\n",
    "    Replaces non-alphanumeric characters in text with a space\n",
    "    \"\"\"\n",
    "    import re\n",
    "    text = re.sub('[^0-9a-zA-Z]+', ' ', text)\n",
    "    text = text.strip()\n",
    "    \n",
    "    text = text.lower()\n",
    "    \n",
    "    return text\n",
    "\n",
    "def add_Date_Hr(df):\n",
    "    df['time_gmt'] = pd.to_datetime(df['time_gmt'])\n",
    "\n",
    "    date_list = []\n",
    "    hr_list = []\n",
    "\n",
    "    for i in range(df.shape[0]):\n",
    "        date_list.append(datetime.strftime(df['time_gmt'].iloc[i],'%Y-%m-%d'))\n",
    "        hr_list.append(datetime.strftime(df['time_gmt'].iloc[i],'%H'))\n",
    "\n",
    "    df['time_gmt_date'] = pd.Series(date_list, index=df.index)\n",
    "    df['time_gmt_hr'] = pd.Series(hr_list, index=df.index)\n",
    "    \n",
    "    df['time_gmt_date'] = pd.to_datetime(df['time_gmt_date'])\n",
    "    df['time_gmt_hr'] = df['time_gmt_hr'].astype(\"float\")\n",
    "    \n",
    "    return df\n",
    "\n",
    "def groupbyDate(df):\n",
    "    \n",
    "    dates = list(set(df['time_gmt_date'].to_list()))\n",
    "    \n",
    "    rows = []\n",
    "    \n",
    "    for dt in dates:\n",
    "        \n",
    "        df_date = df[df['time_gmt_date']==dt]\n",
    "        text = \"\"\n",
    "        \n",
    "        for i in range(df_date.shape[0]):\n",
    "            text = text+\" \"+df_date['title'].iloc[i]\n",
    "            \n",
    "        rows.append([dt, text])\n",
    "    \n",
    "    df_ = pd.DataFrame(rows)\n",
    "    df_.columns=[\"date\",\"combined_text\"]\n",
    "    \n",
    "    df_.sort(['date'], ascending = True, inplace=True)\n",
    "    \n",
    "    return df_"
   ]
  },
  {
   "cell_type": "code",
   "execution_count": null,
   "id": "3367243c",
   "metadata": {},
   "outputs": [
    {
     "name": "stderr",
     "output_type": "stream",
     "text": [
      "/Users/sheetalpandrekar/opt/miniconda3/envs/forextrade/lib/python3.9/site-packages/pandas/core/indexing.py:1637: SettingWithCopyWarning: \n",
      "A value is trying to be set on a copy of a slice from a DataFrame\n",
      "\n",
      "See the caveats in the documentation: https://pandas.pydata.org/pandas-docs/stable/user_guide/indexing.html#returning-a-view-versus-a-copy\n",
      "  self._setitem_single_block(indexer, value, name)\n"
     ]
    }
   ],
   "source": [
    "for i in range(df_news.shape[0]):\n",
    "    df_news['title'].iloc[i] = cleanText(df_news['title'].iloc[i])\n",
    "    df_news['descr'].iloc[i] = cleanText(df_news['descr'].iloc[i])"
   ]
  },
  {
   "cell_type": "code",
   "execution_count": 39,
   "id": "a5053574",
   "metadata": {},
   "outputs": [
    {
     "name": "stdout",
     "output_type": "stream",
     "text": [
      "                                               links  \\\n",
      "0  https://www.reuters.com/article/us-olympics-io...   \n",
      "1  https://www.reuters.com/article/us-seven-i-hld...   \n",
      "2  https://www.reuters.com/article/us-olympics-20...   \n",
      "3  https://www.reuters.com/article/us-health-coro...   \n",
      "4  https://www.reuters.com/article/us-toyota-resu...   \n",
      "\n",
      "                                               title  \\\n",
      "0  olympics ioc confident of successful tokyo gam...   \n",
      "1  exclusive valueact takes stake in 7 eleven own...   \n",
      "2  us athletics team cancels pre olympics camp in...   \n",
      "3  japan s coronavirus vaccine booking system cra...   \n",
      "4  toyota unfazed by chip shortage forecasts rebo...   \n",
      "\n",
      "                                               descr display_time  \\\n",
      "0  reuters the international olympic committee io...   3:01PM EDT   \n",
      "1  reuters activist investor valueact capital has...   1:30PM EDT   \n",
      "2  tokyo reuters the united states track and fiel...  10:22AM EDT   \n",
      "3  technical problems derailed japan s coronaviru...   6:33AM EDT   \n",
      "4  tokyo reuters toyota motor corp forecast its p...   5:59AM EDT   \n",
      "\n",
      "                          time_gmt   category         subcategory  \\\n",
      "0 2021-05-12 15:18:06.489000+00:00  Lifestyle              Sports   \n",
      "1        2021-05-12 15:35:03+00:00   Business  Retails & Consumer   \n",
      "2 2021-05-12 03:25:51.298000+00:00      World        Asia Pacific   \n",
      "3 2021-05-12 06:01:50.125000+00:00      World        Asia Pacific   \n",
      "4        2021-05-12 04:35:53+00:00   Business               Autos   \n",
      "\n",
      "  time_gmt_date  time_gmt_hr  \n",
      "0    2021-05-12         15.0  \n",
      "1    2021-05-12         15.0  \n",
      "2    2021-05-12          3.0  \n",
      "3    2021-05-12          6.0  \n",
      "4    2021-05-12          4.0  \n",
      "<class 'pandas.core.frame.DataFrame'>\n",
      "RangeIndex: 7660 entries, 0 to 7659\n",
      "Data columns (total 9 columns):\n",
      " #   Column         Non-Null Count  Dtype              \n",
      "---  ------         --------------  -----              \n",
      " 0   links          7660 non-null   object             \n",
      " 1   title          7660 non-null   object             \n",
      " 2   descr          7660 non-null   object             \n",
      " 3   display_time   7660 non-null   object             \n",
      " 4   time_gmt       7660 non-null   datetime64[ns, UTC]\n",
      " 5   category       7660 non-null   object             \n",
      " 6   subcategory    7650 non-null   object             \n",
      " 7   time_gmt_date  7660 non-null   datetime64[ns]     \n",
      " 8   time_gmt_hr    7660 non-null   float64            \n",
      "dtypes: datetime64[ns, UTC](1), datetime64[ns](1), float64(1), object(6)\n",
      "memory usage: 538.7+ KB\n",
      "None\n"
     ]
    }
   ],
   "source": [
    "df_news = add_Date_Hr(df_news)\n",
    "print(df_news.head())\n",
    "print(df_news.info())"
   ]
  },
  {
   "cell_type": "code",
   "execution_count": 47,
   "id": "995cce51",
   "metadata": {},
   "outputs": [
    {
     "data": {
      "text/html": [
       "<div>\n",
       "<style scoped>\n",
       "    .dataframe tbody tr th:only-of-type {\n",
       "        vertical-align: middle;\n",
       "    }\n",
       "\n",
       "    .dataframe tbody tr th {\n",
       "        vertical-align: top;\n",
       "    }\n",
       "\n",
       "    .dataframe thead th {\n",
       "        text-align: right;\n",
       "    }\n",
       "</style>\n",
       "<table border=\"1\" class=\"dataframe\">\n",
       "  <thead>\n",
       "    <tr style=\"text-align: right;\">\n",
       "      <th></th>\n",
       "      <th>date</th>\n",
       "      <th>combined_text</th>\n",
       "    </tr>\n",
       "  </thead>\n",
       "  <tbody>\n",
       "    <tr>\n",
       "      <th>0</th>\n",
       "      <td>2019-10-16</td>\n",
       "      <td>hundreds of dignitaries to attend as japan s ...</td>\n",
       "    </tr>\n",
       "    <tr>\n",
       "      <th>1</th>\n",
       "      <td>2018-06-17</td>\n",
       "      <td>magnitude 6 1 quake in japan s osaka area kil...</td>\n",
       "    </tr>\n",
       "    <tr>\n",
       "      <th>2</th>\n",
       "      <td>2016-05-19</td>\n",
       "      <td>u s man charged over japanese woman s death a...</td>\n",
       "    </tr>\n",
       "    <tr>\n",
       "      <th>3</th>\n",
       "      <td>2019-03-29</td>\n",
       "      <td>buddhist nun prays for vietnamese workers who...</td>\n",
       "    </tr>\n",
       "    <tr>\n",
       "      <th>4</th>\n",
       "      <td>2017-06-01</td>\n",
       "      <td>after goldman storm venezuela congress blasts...</td>\n",
       "    </tr>\n",
       "  </tbody>\n",
       "</table>\n",
       "</div>"
      ],
      "text/plain": [
       "        date                                      combined_text\n",
       "0 2019-10-16   hundreds of dignitaries to attend as japan s ...\n",
       "1 2018-06-17   magnitude 6 1 quake in japan s osaka area kil...\n",
       "2 2016-05-19   u s man charged over japanese woman s death a...\n",
       "3 2019-03-29   buddhist nun prays for vietnamese workers who...\n",
       "4 2017-06-01   after goldman storm venezuela congress blasts..."
      ]
     },
     "execution_count": 47,
     "metadata": {},
     "output_type": "execute_result"
    }
   ],
   "source": [
    "df_combined = groupbyDate(df_news)\n",
    "df_combined.head()"
   ]
  },
  {
   "cell_type": "code",
   "execution_count": 48,
   "id": "8c7ed967",
   "metadata": {},
   "outputs": [
    {
     "data": {
      "text/plain": [
       "(1753, 2)"
      ]
     },
     "execution_count": 48,
     "metadata": {},
     "output_type": "execute_result"
    }
   ],
   "source": [
    "df_combined.shape"
   ]
  },
  {
   "cell_type": "code",
   "execution_count": null,
   "id": "85dd5b95",
   "metadata": {},
   "outputs": [],
   "source": []
  }
 ],
 "metadata": {
  "kernelspec": {
   "display_name": "Python 3",
   "language": "python",
   "name": "python3"
  },
  "language_info": {
   "codemirror_mode": {
    "name": "ipython",
    "version": 3
   },
   "file_extension": ".py",
   "mimetype": "text/x-python",
   "name": "python",
   "nbconvert_exporter": "python",
   "pygments_lexer": "ipython3",
   "version": "3.9.4"
  }
 },
 "nbformat": 4,
 "nbformat_minor": 5
}
