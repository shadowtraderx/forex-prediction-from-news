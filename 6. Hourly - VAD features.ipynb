{
 "cells": [
  {
   "cell_type": "code",
   "execution_count": 1,
   "id": "bccf2dee",
   "metadata": {},
   "outputs": [],
   "source": [
    "import numpy as np\n",
    "import pandas as pd\n",
    "from datetime import datetime, timedelta"
   ]
  },
  {
   "cell_type": "code",
   "execution_count": 2,
   "id": "7aabe0a6",
   "metadata": {},
   "outputs": [],
   "source": [
    "def groupby_Date_Hr(df,delta):\n",
    "    \n",
    "    df['time_gmt_datetime'] = pd.Series(index=df.index)\n",
    "    \n",
    "    for i in range(df.shape[0]):\n",
    "        x = df['time_gmt_date'].iloc[i]\n",
    "        x = datetime.strptime(x,\"%Y-%m-%d\")\n",
    "        x = x+timedelta(hours=df['time_gmt_hr'].iloc[i])\n",
    "        df['time_gmt_datetime'].iloc[i] = x\n",
    "    \n",
    "    dates = list(set(df['time_gmt_datetime'].to_list()))\n",
    "    \n",
    "    rows = []\n",
    "    \n",
    "    for dt in dates:\n",
    "        \n",
    "        dt_ = dt-timedelta(hours=delta)\n",
    "        df_datetime = df.loc[(df['time_gmt_datetime'] > dt_) & (df['time_gmt_datetime'] <= dt)]\n",
    "        \n",
    "        text = \"\"\n",
    "        for i in range(df_datetime.shape[0]):\n",
    "            text = text+\" \"+df_datetime['title'].iloc[i]\n",
    "            \n",
    "        rows.append([dt, text])\n",
    "    \n",
    "    df_ = pd.DataFrame(rows)\n",
    "    df_.columns=[\"time_gmt_date_hr\",\"combined_text\"]\n",
    "    df_.sort_values(by='time_gmt_date_hr', ascending=True, inplace=True)\n",
    "    \n",
    "    return df_\n",
    "\n",
    "def encode_price_direction(df):\n",
    "    \n",
    "    for i in range(df.shape[0]):\n",
    "        \n",
    "        val = df['price_direction'].iloc[i]\n",
    "        \n",
    "        if val == 'up':\n",
    "            df['price_direction'].iloc[i] = 1\n",
    "        else: \n",
    "            df['price_direction'].iloc[i] = 0\n",
    "            \n",
    "    return df\n",
    "\n",
    "def align_datetime(df, delta):\n",
    "    \n",
    "    for i in range(df.shape[0]):\n",
    "        x = df['date'].iloc[i]\n",
    "        x = datetime.strptime(x,\"%Y-%m-%d %H:%M:%S\")\n",
    "        x = x-timedelta(hours=delta) \n",
    "        df['date'].iloc[i] = x\n",
    "    \n",
    "    df.rename(columns={\"date\": \"time_gmt_date_hr\"}, inplace=True)\n",
    "\n",
    "    return df"
   ]
  },
  {
   "cell_type": "code",
   "execution_count": 20,
   "id": "4aaf0c5f",
   "metadata": {},
   "outputs": [],
   "source": [
    "import matplotlib.pyplot as plt\n",
    "import seaborn as sns\n",
    "from sklearn import metrics\n",
    "    \n",
    "def plotLossCurve(estimator):\n",
    "    # Plot model loss over epochs\n",
    "    plt.plot(estimator.history['loss'])\n",
    "    plt.plot(estimator.history['val_loss'])\n",
    "    plt.title('model loss')\n",
    "    plt.ylabel('loss')\n",
    "    plt.xlabel('epoch')\n",
    "    plt.legend(['train', 'valid'], loc='upper left')\n",
    "    plt.show()\n",
    "\n",
    "def get_vad_features(df):\n",
    "    \n",
    "    from tensorflow.keras.models import load_model\n",
    "\n",
    "    # load model\n",
    "    model = load_model('Model/model-glove-embedding-uscaled.h5')\n",
    "    print(\"Loaded model from disk\")\n",
    "    \n",
    "    import pickle\n",
    "\n",
    "    # loading\n",
    "    with open('Model/tokenizer.pickle', 'rb') as handle:\n",
    "        tokenizer = pickle.load(handle)\n",
    "    \n",
    "    \n",
    "    from tensorflow.keras.preprocessing.sequence import pad_sequences\n",
    "\n",
    "    max_length =  200 #Maximum length of each row\n",
    "    padding_type = \"post\"\n",
    "    trunction_type=\"post\"\n",
    "\n",
    "    X_test_sequences = tokenizer.texts_to_sequences(df['combined_text'])\n",
    "    X_test_padded = pad_sequences(X_test_sequences,maxlen=max_length,\n",
    "                                   padding=padding_type, truncating=trunction_type)\n",
    "    \n",
    "    vad = model.predict(X_test_padded)\n",
    "    \n",
    "    return vad\n",
    "\n",
    "def logistic_regression(X_train,X_test,y_train,y_test):\n",
    "    from sklearn.linear_model import LogisticRegression\n",
    "    \n",
    "    logisticRegr = LogisticRegression()\n",
    "    logisticRegr.fit(X_train, y_train.ravel())\n",
    "    \n",
    "    pred = logisticRegr.predict(X_test)\n",
    "    \n",
    "    p = logisticRegr.predict_proba(X_test)\n",
    "    \n",
    "    pred = p[:,1]\n",
    "    fpr, tpr, thresholds = metrics.roc_curve(y_test, pred, pos_label=1)\n",
    "    \n",
    "    auc = metrics.auc(fpr, tpr)\n",
    "    \n",
    "    print('Test AUC is {} '.format(auc))\n",
    "    \n",
    "def randomforest_classifier(X_train,X_test,y_train,y_test):\n",
    "    \n",
    "    from sklearn.ensemble import RandomForestClassifier\n",
    "    \n",
    "    clf = RandomForestClassifier(max_depth=2, random_state=0)\n",
    "    clf.fit(X_train, y_train.ravel())\n",
    "    p = clf.predict_proba(X_test)\n",
    "    pred = p[:,1]\n",
    "    fpr, tpr, thresholds = metrics.roc_curve(y_test, pred, pos_label=1)\n",
    "    auc = metrics.auc(fpr, tpr)\n",
    "    \n",
    "    print('Test AUC is {} '.format(auc))"
   ]
  },
  {
   "cell_type": "markdown",
   "id": "1800b3b3",
   "metadata": {},
   "source": [
    "# Delta = 1 Hr"
   ]
  },
  {
   "cell_type": "code",
   "execution_count": 4,
   "id": "3ae97bd1",
   "metadata": {},
   "outputs": [
    {
     "name": "stderr",
     "output_type": "stream",
     "text": [
      "<ipython-input-2-03c321cc2c8b>:3: DeprecationWarning: The default dtype for empty Series will be 'object' instead of 'float64' in a future version. Specify a dtype explicitly to silence this warning.\n",
      "  df['time_gmt_datetime'] = pd.Series(index=df.index)\n",
      "/Users/sheetalpandrekar/opt/miniconda3/envs/forextrade/lib/python3.9/site-packages/pandas/core/indexing.py:1637: SettingWithCopyWarning: \n",
      "A value is trying to be set on a copy of a slice from a DataFrame\n",
      "\n",
      "See the caveats in the documentation: https://pandas.pydata.org/pandas-docs/stable/user_guide/indexing.html#returning-a-view-versus-a-copy\n",
      "  self._setitem_single_block(indexer, value, name)\n"
     ]
    },
    {
     "data": {
      "text/html": [
       "<div>\n",
       "<style scoped>\n",
       "    .dataframe tbody tr th:only-of-type {\n",
       "        vertical-align: middle;\n",
       "    }\n",
       "\n",
       "    .dataframe tbody tr th {\n",
       "        vertical-align: top;\n",
       "    }\n",
       "\n",
       "    .dataframe thead th {\n",
       "        text-align: right;\n",
       "    }\n",
       "</style>\n",
       "<table border=\"1\" class=\"dataframe\">\n",
       "  <thead>\n",
       "    <tr style=\"text-align: right;\">\n",
       "      <th></th>\n",
       "      <th>time_gmt_date_hr</th>\n",
       "      <th>combined_text</th>\n",
       "    </tr>\n",
       "  </thead>\n",
       "  <tbody>\n",
       "    <tr>\n",
       "      <th>1917</th>\n",
       "      <td>2015-12-28 00:00:00</td>\n",
       "      <td>japan output retail sales slump dampen recove...</td>\n",
       "    </tr>\n",
       "    <tr>\n",
       "      <th>4671</th>\n",
       "      <td>2015-12-28 04:00:00</td>\n",
       "      <td>japan business lobby head won t commit to hig...</td>\n",
       "    </tr>\n",
       "    <tr>\n",
       "      <th>4360</th>\n",
       "      <td>2015-12-28 07:00:00</td>\n",
       "      <td>south korea japan agree to irreversibly end c...</td>\n",
       "    </tr>\n",
       "    <tr>\n",
       "      <th>5160</th>\n",
       "      <td>2015-12-28 08:00:00</td>\n",
       "      <td>japan firms cold on abe s calls for wage hike...</td>\n",
       "    </tr>\n",
       "    <tr>\n",
       "      <th>1711</th>\n",
       "      <td>2015-12-28 10:00:00</td>\n",
       "      <td>for japan and south korea comfort women bronz...</td>\n",
       "    </tr>\n",
       "  </tbody>\n",
       "</table>\n",
       "</div>"
      ],
      "text/plain": [
       "        time_gmt_date_hr                                      combined_text\n",
       "1917 2015-12-28 00:00:00   japan output retail sales slump dampen recove...\n",
       "4671 2015-12-28 04:00:00   japan business lobby head won t commit to hig...\n",
       "4360 2015-12-28 07:00:00   south korea japan agree to irreversibly end c...\n",
       "5160 2015-12-28 08:00:00   japan firms cold on abe s calls for wage hike...\n",
       "1711 2015-12-28 10:00:00   for japan and south korea comfort women bronz..."
      ]
     },
     "execution_count": 4,
     "metadata": {},
     "output_type": "execute_result"
    }
   ],
   "source": [
    "df_news = pd.read_csv('Data/news_data.csv')\n",
    "df_combined_news = groupby_Date_Hr(df_news, delta=1)\n",
    "df_combined_news.head(5)"
   ]
  },
  {
   "cell_type": "code",
   "execution_count": 7,
   "id": "cccdee76",
   "metadata": {},
   "outputs": [
    {
     "name": "stderr",
     "output_type": "stream",
     "text": [
      "/Users/sheetalpandrekar/opt/miniconda3/envs/forextrade/lib/python3.9/site-packages/pandas/core/indexing.py:1637: SettingWithCopyWarning: \n",
      "A value is trying to be set on a copy of a slice from a DataFrame\n",
      "\n",
      "See the caveats in the documentation: https://pandas.pydata.org/pandas-docs/stable/user_guide/indexing.html#returning-a-view-versus-a-copy\n",
      "  self._setitem_single_block(indexer, value, name)\n"
     ]
    },
    {
     "data": {
      "text/html": [
       "<div>\n",
       "<style scoped>\n",
       "    .dataframe tbody tr th:only-of-type {\n",
       "        vertical-align: middle;\n",
       "    }\n",
       "\n",
       "    .dataframe tbody tr th {\n",
       "        vertical-align: top;\n",
       "    }\n",
       "\n",
       "    .dataframe thead th {\n",
       "        text-align: right;\n",
       "    }\n",
       "</style>\n",
       "<table border=\"1\" class=\"dataframe\">\n",
       "  <thead>\n",
       "    <tr style=\"text-align: right;\">\n",
       "      <th></th>\n",
       "      <th>date</th>\n",
       "      <th>price</th>\n",
       "      <th>price_direction</th>\n",
       "    </tr>\n",
       "  </thead>\n",
       "  <tbody>\n",
       "    <tr>\n",
       "      <th>0</th>\n",
       "      <td>2016-01-01 00:00:00</td>\n",
       "      <td>120.2665</td>\n",
       "      <td>1</td>\n",
       "    </tr>\n",
       "    <tr>\n",
       "      <th>1</th>\n",
       "      <td>2016-01-01 01:00:00</td>\n",
       "      <td>120.2665</td>\n",
       "      <td>1</td>\n",
       "    </tr>\n",
       "    <tr>\n",
       "      <th>2</th>\n",
       "      <td>2016-01-01 02:00:00</td>\n",
       "      <td>120.2665</td>\n",
       "      <td>1</td>\n",
       "    </tr>\n",
       "    <tr>\n",
       "      <th>3</th>\n",
       "      <td>2016-01-01 03:00:00</td>\n",
       "      <td>120.2665</td>\n",
       "      <td>1</td>\n",
       "    </tr>\n",
       "    <tr>\n",
       "      <th>4</th>\n",
       "      <td>2016-01-01 04:00:00</td>\n",
       "      <td>120.2665</td>\n",
       "      <td>1</td>\n",
       "    </tr>\n",
       "  </tbody>\n",
       "</table>\n",
       "</div>"
      ],
      "text/plain": [
       "                  date     price price_direction\n",
       "0  2016-01-01 00:00:00  120.2665               1\n",
       "1  2016-01-01 01:00:00  120.2665               1\n",
       "2  2016-01-01 02:00:00  120.2665               1\n",
       "3  2016-01-01 03:00:00  120.2665               1\n",
       "4  2016-01-01 04:00:00  120.2665               1"
      ]
     },
     "execution_count": 7,
     "metadata": {},
     "output_type": "execute_result"
    }
   ],
   "source": [
    "df_usdjpy = pd.read_csv('Data/usdjpy_hourly.csv')\n",
    "df_usdjpy = encode_price_direction(df_usdjpy)\n",
    "df_usdjpy.head()"
   ]
  },
  {
   "cell_type": "code",
   "execution_count": 8,
   "id": "509f3247",
   "metadata": {},
   "outputs": [
    {
     "name": "stderr",
     "output_type": "stream",
     "text": [
      "/Users/sheetalpandrekar/opt/miniconda3/envs/forextrade/lib/python3.9/site-packages/pandas/core/indexing.py:1637: SettingWithCopyWarning: \n",
      "A value is trying to be set on a copy of a slice from a DataFrame\n",
      "\n",
      "See the caveats in the documentation: https://pandas.pydata.org/pandas-docs/stable/user_guide/indexing.html#returning-a-view-versus-a-copy\n",
      "  self._setitem_single_block(indexer, value, name)\n"
     ]
    },
    {
     "data": {
      "text/html": [
       "<div>\n",
       "<style scoped>\n",
       "    .dataframe tbody tr th:only-of-type {\n",
       "        vertical-align: middle;\n",
       "    }\n",
       "\n",
       "    .dataframe tbody tr th {\n",
       "        vertical-align: top;\n",
       "    }\n",
       "\n",
       "    .dataframe thead th {\n",
       "        text-align: right;\n",
       "    }\n",
       "</style>\n",
       "<table border=\"1\" class=\"dataframe\">\n",
       "  <thead>\n",
       "    <tr style=\"text-align: right;\">\n",
       "      <th></th>\n",
       "      <th>time_gmt_date_hr</th>\n",
       "      <th>price</th>\n",
       "      <th>price_direction</th>\n",
       "    </tr>\n",
       "  </thead>\n",
       "  <tbody>\n",
       "    <tr>\n",
       "      <th>0</th>\n",
       "      <td>2015-12-31 23:00:00</td>\n",
       "      <td>120.2665</td>\n",
       "      <td>1</td>\n",
       "    </tr>\n",
       "    <tr>\n",
       "      <th>1</th>\n",
       "      <td>2016-01-01 00:00:00</td>\n",
       "      <td>120.2665</td>\n",
       "      <td>1</td>\n",
       "    </tr>\n",
       "    <tr>\n",
       "      <th>2</th>\n",
       "      <td>2016-01-01 01:00:00</td>\n",
       "      <td>120.2665</td>\n",
       "      <td>1</td>\n",
       "    </tr>\n",
       "    <tr>\n",
       "      <th>3</th>\n",
       "      <td>2016-01-01 02:00:00</td>\n",
       "      <td>120.2665</td>\n",
       "      <td>1</td>\n",
       "    </tr>\n",
       "    <tr>\n",
       "      <th>4</th>\n",
       "      <td>2016-01-01 03:00:00</td>\n",
       "      <td>120.2665</td>\n",
       "      <td>1</td>\n",
       "    </tr>\n",
       "  </tbody>\n",
       "</table>\n",
       "</div>"
      ],
      "text/plain": [
       "      time_gmt_date_hr     price price_direction\n",
       "0  2015-12-31 23:00:00  120.2665               1\n",
       "1  2016-01-01 00:00:00  120.2665               1\n",
       "2  2016-01-01 01:00:00  120.2665               1\n",
       "3  2016-01-01 02:00:00  120.2665               1\n",
       "4  2016-01-01 03:00:00  120.2665               1"
      ]
     },
     "execution_count": 8,
     "metadata": {},
     "output_type": "execute_result"
    }
   ],
   "source": [
    "df_usdjpy_ = align_datetime(df_usdjpy, delta = 1)\n",
    "df_usdjpy_.head()"
   ]
  },
  {
   "cell_type": "code",
   "execution_count": 9,
   "id": "2d455fc5",
   "metadata": {},
   "outputs": [
    {
     "data": {
      "text/html": [
       "<div>\n",
       "<style scoped>\n",
       "    .dataframe tbody tr th:only-of-type {\n",
       "        vertical-align: middle;\n",
       "    }\n",
       "\n",
       "    .dataframe tbody tr th {\n",
       "        vertical-align: top;\n",
       "    }\n",
       "\n",
       "    .dataframe thead th {\n",
       "        text-align: right;\n",
       "    }\n",
       "</style>\n",
       "<table border=\"1\" class=\"dataframe\">\n",
       "  <thead>\n",
       "    <tr style=\"text-align: right;\">\n",
       "      <th></th>\n",
       "      <th>time_gmt_date_hr</th>\n",
       "      <th>combined_text</th>\n",
       "      <th>price</th>\n",
       "      <th>price_direction</th>\n",
       "    </tr>\n",
       "  </thead>\n",
       "  <tbody>\n",
       "    <tr>\n",
       "      <th>0</th>\n",
       "      <td>2016-01-01 20:00:00</td>\n",
       "      <td>airbus to sell three a380 superjumbo jets to ...</td>\n",
       "      <td>120.2665</td>\n",
       "      <td>1</td>\n",
       "    </tr>\n",
       "    <tr>\n",
       "      <th>1</th>\n",
       "      <td>2016-01-01 21:00:00</td>\n",
       "      <td>airbus to sell three a380 superjumbo jets to ...</td>\n",
       "      <td>120.2665</td>\n",
       "      <td>1</td>\n",
       "    </tr>\n",
       "    <tr>\n",
       "      <th>2</th>\n",
       "      <td>2016-01-03 21:00:00</td>\n",
       "      <td>japan central bank turns activist investor to...</td>\n",
       "      <td>114.0480</td>\n",
       "      <td>1</td>\n",
       "    </tr>\n",
       "    <tr>\n",
       "      <th>3</th>\n",
       "      <td>2016-01-05 18:00:00</td>\n",
       "      <td>automakers not silicon valley lead in driverl...</td>\n",
       "      <td>106.3350</td>\n",
       "      <td>1</td>\n",
       "    </tr>\n",
       "    <tr>\n",
       "      <th>4</th>\n",
       "      <td>2016-01-06 04:00:00</td>\n",
       "      <td>japan says to make firm response to north kor...</td>\n",
       "      <td>109.9575</td>\n",
       "      <td>0</td>\n",
       "    </tr>\n",
       "  </tbody>\n",
       "</table>\n",
       "</div>"
      ],
      "text/plain": [
       "     time_gmt_date_hr                                      combined_text  \\\n",
       "0 2016-01-01 20:00:00   airbus to sell three a380 superjumbo jets to ...   \n",
       "1 2016-01-01 21:00:00   airbus to sell three a380 superjumbo jets to ...   \n",
       "2 2016-01-03 21:00:00   japan central bank turns activist investor to...   \n",
       "3 2016-01-05 18:00:00   automakers not silicon valley lead in driverl...   \n",
       "4 2016-01-06 04:00:00   japan says to make firm response to north kor...   \n",
       "\n",
       "      price price_direction  \n",
       "0  120.2665               1  \n",
       "1  120.2665               1  \n",
       "2  114.0480               1  \n",
       "3  106.3350               1  \n",
       "4  109.9575               0  "
      ]
     },
     "execution_count": 9,
     "metadata": {},
     "output_type": "execute_result"
    }
   ],
   "source": [
    "df_combined_news['time_gmt_date_hr'] = pd.to_datetime(df_combined_news['time_gmt_date_hr'])\n",
    "df_usdjpy_['time_gmt_date_hr'] = pd.to_datetime(df_usdjpy_['time_gmt_date_hr'])\n",
    "df_merged = df_combined_news.merge(df_usdjpy_, on =['time_gmt_date_hr'])\n",
    "df_merged.head()"
   ]
  },
  {
   "cell_type": "code",
   "execution_count": 10,
   "id": "2c3486d7",
   "metadata": {},
   "outputs": [
    {
     "data": {
      "text/plain": [
       "(6357, 4)"
      ]
     },
     "execution_count": 10,
     "metadata": {},
     "output_type": "execute_result"
    }
   ],
   "source": [
    "df_merged.shape"
   ]
  },
  {
   "cell_type": "code",
   "execution_count": 14,
   "id": "f81e13dd",
   "metadata": {},
   "outputs": [
    {
     "name": "stdout",
     "output_type": "stream",
     "text": [
      "Loaded model from disk\n"
     ]
    }
   ],
   "source": [
    "vad = get_vad_features(df_merged)"
   ]
  },
  {
   "cell_type": "code",
   "execution_count": 15,
   "id": "b552f766",
   "metadata": {},
   "outputs": [],
   "source": [
    "from sklearn.model_selection import train_test_split\n",
    "\n",
    "X = vad\n",
    "y = df_merged[['price_direction']]\n",
    "\n",
    "X_train, X_test , y_train, y_test = train_test_split(X, y , test_size = 0.20)\n",
    "y_train = np.asarray(y_train).astype(np.float32)\n",
    "y_test = np.asarray(y_test).astype(np.float32)"
   ]
  },
  {
   "cell_type": "code",
   "execution_count": 21,
   "id": "9571c51c",
   "metadata": {},
   "outputs": [
    {
     "name": "stdout",
     "output_type": "stream",
     "text": [
      "Test AUC is 0.477940301756322 \n"
     ]
    }
   ],
   "source": [
    "logistic_regression(X_train,X_test,y_train,y_test)"
   ]
  },
  {
   "cell_type": "code",
   "execution_count": 17,
   "id": "4f2d23b3",
   "metadata": {},
   "outputs": [
    {
     "name": "stdout",
     "output_type": "stream",
     "text": [
      "Test AUC is 0.48345427715920797 \n"
     ]
    }
   ],
   "source": [
    "randomforest_classifier(X_train,X_test,y_train,y_test)"
   ]
  },
  {
   "cell_type": "markdown",
   "id": "16950ccb",
   "metadata": {},
   "source": [
    "# Delta = 2Hr"
   ]
  },
  {
   "cell_type": "code",
   "execution_count": 34,
   "id": "2faea394",
   "metadata": {},
   "outputs": [
    {
     "name": "stderr",
     "output_type": "stream",
     "text": [
      "<ipython-input-2-03c321cc2c8b>:3: DeprecationWarning: The default dtype for empty Series will be 'object' instead of 'float64' in a future version. Specify a dtype explicitly to silence this warning.\n",
      "  df['time_gmt_datetime'] = pd.Series(index=df.index)\n",
      "/Users/sheetalpandrekar/opt/miniconda3/envs/forextrade/lib/python3.9/site-packages/pandas/core/indexing.py:1637: SettingWithCopyWarning: \n",
      "A value is trying to be set on a copy of a slice from a DataFrame\n",
      "\n",
      "See the caveats in the documentation: https://pandas.pydata.org/pandas-docs/stable/user_guide/indexing.html#returning-a-view-versus-a-copy\n",
      "  self._setitem_single_block(indexer, value, name)\n"
     ]
    },
    {
     "data": {
      "text/html": [
       "<div>\n",
       "<style scoped>\n",
       "    .dataframe tbody tr th:only-of-type {\n",
       "        vertical-align: middle;\n",
       "    }\n",
       "\n",
       "    .dataframe tbody tr th {\n",
       "        vertical-align: top;\n",
       "    }\n",
       "\n",
       "    .dataframe thead th {\n",
       "        text-align: right;\n",
       "    }\n",
       "</style>\n",
       "<table border=\"1\" class=\"dataframe\">\n",
       "  <thead>\n",
       "    <tr style=\"text-align: right;\">\n",
       "      <th></th>\n",
       "      <th>time_gmt_date_hr</th>\n",
       "      <th>combined_text</th>\n",
       "    </tr>\n",
       "  </thead>\n",
       "  <tbody>\n",
       "    <tr>\n",
       "      <th>1917</th>\n",
       "      <td>2015-12-28 00:00:00</td>\n",
       "      <td>japan output retail sales slump dampen recove...</td>\n",
       "    </tr>\n",
       "    <tr>\n",
       "      <th>4671</th>\n",
       "      <td>2015-12-28 04:00:00</td>\n",
       "      <td>japan business lobby head won t commit to hig...</td>\n",
       "    </tr>\n",
       "    <tr>\n",
       "      <th>4360</th>\n",
       "      <td>2015-12-28 07:00:00</td>\n",
       "      <td>south korea japan agree to irreversibly end c...</td>\n",
       "    </tr>\n",
       "    <tr>\n",
       "      <th>5160</th>\n",
       "      <td>2015-12-28 08:00:00</td>\n",
       "      <td>south korea japan agree to irreversibly end c...</td>\n",
       "    </tr>\n",
       "    <tr>\n",
       "      <th>1711</th>\n",
       "      <td>2015-12-28 10:00:00</td>\n",
       "      <td>for japan and south korea comfort women bronz...</td>\n",
       "    </tr>\n",
       "  </tbody>\n",
       "</table>\n",
       "</div>"
      ],
      "text/plain": [
       "        time_gmt_date_hr                                      combined_text\n",
       "1917 2015-12-28 00:00:00   japan output retail sales slump dampen recove...\n",
       "4671 2015-12-28 04:00:00   japan business lobby head won t commit to hig...\n",
       "4360 2015-12-28 07:00:00   south korea japan agree to irreversibly end c...\n",
       "5160 2015-12-28 08:00:00   south korea japan agree to irreversibly end c...\n",
       "1711 2015-12-28 10:00:00   for japan and south korea comfort women bronz..."
      ]
     },
     "execution_count": 34,
     "metadata": {},
     "output_type": "execute_result"
    }
   ],
   "source": [
    "df_news = pd.read_csv('Data/news_data.csv')\n",
    "df_combined_news = groupby_Date_Hr(df_news, delta=2)\n",
    "df_combined_news.head(5)"
   ]
  },
  {
   "cell_type": "code",
   "execution_count": 37,
   "id": "07912bba",
   "metadata": {},
   "outputs": [
    {
     "data": {
      "text/html": [
       "<div>\n",
       "<style scoped>\n",
       "    .dataframe tbody tr th:only-of-type {\n",
       "        vertical-align: middle;\n",
       "    }\n",
       "\n",
       "    .dataframe tbody tr th {\n",
       "        vertical-align: top;\n",
       "    }\n",
       "\n",
       "    .dataframe thead th {\n",
       "        text-align: right;\n",
       "    }\n",
       "</style>\n",
       "<table border=\"1\" class=\"dataframe\">\n",
       "  <thead>\n",
       "    <tr style=\"text-align: right;\">\n",
       "      <th></th>\n",
       "      <th>date</th>\n",
       "      <th>price</th>\n",
       "      <th>price_direction</th>\n",
       "    </tr>\n",
       "  </thead>\n",
       "  <tbody>\n",
       "    <tr>\n",
       "      <th>0</th>\n",
       "      <td>2016-01-01 00:00:00</td>\n",
       "      <td>120.2665</td>\n",
       "      <td>1</td>\n",
       "    </tr>\n",
       "    <tr>\n",
       "      <th>1</th>\n",
       "      <td>2016-01-01 01:00:00</td>\n",
       "      <td>120.2665</td>\n",
       "      <td>1</td>\n",
       "    </tr>\n",
       "    <tr>\n",
       "      <th>2</th>\n",
       "      <td>2016-01-01 02:00:00</td>\n",
       "      <td>120.2665</td>\n",
       "      <td>1</td>\n",
       "    </tr>\n",
       "    <tr>\n",
       "      <th>3</th>\n",
       "      <td>2016-01-01 03:00:00</td>\n",
       "      <td>120.2665</td>\n",
       "      <td>1</td>\n",
       "    </tr>\n",
       "    <tr>\n",
       "      <th>4</th>\n",
       "      <td>2016-01-01 04:00:00</td>\n",
       "      <td>120.2665</td>\n",
       "      <td>1</td>\n",
       "    </tr>\n",
       "  </tbody>\n",
       "</table>\n",
       "</div>"
      ],
      "text/plain": [
       "                  date     price price_direction\n",
       "0  2016-01-01 00:00:00  120.2665               1\n",
       "1  2016-01-01 01:00:00  120.2665               1\n",
       "2  2016-01-01 02:00:00  120.2665               1\n",
       "3  2016-01-01 03:00:00  120.2665               1\n",
       "4  2016-01-01 04:00:00  120.2665               1"
      ]
     },
     "execution_count": 37,
     "metadata": {},
     "output_type": "execute_result"
    }
   ],
   "source": [
    "df_usdjpy = pd.read_csv('Data/usdjpy_hourly.csv')\n",
    "df_usdjpy = encode_price_direction(df_usdjpy)\n",
    "df_usdjpy.head()"
   ]
  },
  {
   "cell_type": "code",
   "execution_count": 38,
   "id": "64f52323",
   "metadata": {},
   "outputs": [
    {
     "name": "stderr",
     "output_type": "stream",
     "text": [
      "/Users/sheetalpandrekar/opt/miniconda3/envs/forextrade/lib/python3.9/site-packages/pandas/core/indexing.py:1637: SettingWithCopyWarning: \n",
      "A value is trying to be set on a copy of a slice from a DataFrame\n",
      "\n",
      "See the caveats in the documentation: https://pandas.pydata.org/pandas-docs/stable/user_guide/indexing.html#returning-a-view-versus-a-copy\n",
      "  self._setitem_single_block(indexer, value, name)\n"
     ]
    },
    {
     "data": {
      "text/html": [
       "<div>\n",
       "<style scoped>\n",
       "    .dataframe tbody tr th:only-of-type {\n",
       "        vertical-align: middle;\n",
       "    }\n",
       "\n",
       "    .dataframe tbody tr th {\n",
       "        vertical-align: top;\n",
       "    }\n",
       "\n",
       "    .dataframe thead th {\n",
       "        text-align: right;\n",
       "    }\n",
       "</style>\n",
       "<table border=\"1\" class=\"dataframe\">\n",
       "  <thead>\n",
       "    <tr style=\"text-align: right;\">\n",
       "      <th></th>\n",
       "      <th>time_gmt_date_hr</th>\n",
       "      <th>price</th>\n",
       "      <th>price_direction</th>\n",
       "    </tr>\n",
       "  </thead>\n",
       "  <tbody>\n",
       "    <tr>\n",
       "      <th>0</th>\n",
       "      <td>2015-12-31 22:00:00</td>\n",
       "      <td>120.2665</td>\n",
       "      <td>1</td>\n",
       "    </tr>\n",
       "    <tr>\n",
       "      <th>1</th>\n",
       "      <td>2015-12-31 23:00:00</td>\n",
       "      <td>120.2665</td>\n",
       "      <td>1</td>\n",
       "    </tr>\n",
       "    <tr>\n",
       "      <th>2</th>\n",
       "      <td>2016-01-01 00:00:00</td>\n",
       "      <td>120.2665</td>\n",
       "      <td>1</td>\n",
       "    </tr>\n",
       "    <tr>\n",
       "      <th>3</th>\n",
       "      <td>2016-01-01 01:00:00</td>\n",
       "      <td>120.2665</td>\n",
       "      <td>1</td>\n",
       "    </tr>\n",
       "    <tr>\n",
       "      <th>4</th>\n",
       "      <td>2016-01-01 02:00:00</td>\n",
       "      <td>120.2665</td>\n",
       "      <td>1</td>\n",
       "    </tr>\n",
       "  </tbody>\n",
       "</table>\n",
       "</div>"
      ],
      "text/plain": [
       "      time_gmt_date_hr     price price_direction\n",
       "0  2015-12-31 22:00:00  120.2665               1\n",
       "1  2015-12-31 23:00:00  120.2665               1\n",
       "2  2016-01-01 00:00:00  120.2665               1\n",
       "3  2016-01-01 01:00:00  120.2665               1\n",
       "4  2016-01-01 02:00:00  120.2665               1"
      ]
     },
     "execution_count": 38,
     "metadata": {},
     "output_type": "execute_result"
    }
   ],
   "source": [
    "df_usdjpy_ = align_datetime(df_usdjpy, delta = 2)\n",
    "df_usdjpy_.head()"
   ]
  },
  {
   "cell_type": "code",
   "execution_count": 39,
   "id": "1373950a",
   "metadata": {},
   "outputs": [
    {
     "data": {
      "text/html": [
       "<div>\n",
       "<style scoped>\n",
       "    .dataframe tbody tr th:only-of-type {\n",
       "        vertical-align: middle;\n",
       "    }\n",
       "\n",
       "    .dataframe tbody tr th {\n",
       "        vertical-align: top;\n",
       "    }\n",
       "\n",
       "    .dataframe thead th {\n",
       "        text-align: right;\n",
       "    }\n",
       "</style>\n",
       "<table border=\"1\" class=\"dataframe\">\n",
       "  <thead>\n",
       "    <tr style=\"text-align: right;\">\n",
       "      <th></th>\n",
       "      <th>time_gmt_date_hr</th>\n",
       "      <th>combined_text</th>\n",
       "      <th>price</th>\n",
       "      <th>price_direction</th>\n",
       "    </tr>\n",
       "  </thead>\n",
       "  <tbody>\n",
       "    <tr>\n",
       "      <th>0</th>\n",
       "      <td>2016-01-01 20:00:00</td>\n",
       "      <td>airbus to sell three a380 superjumbo jets to ...</td>\n",
       "      <td>120.2665</td>\n",
       "      <td>1</td>\n",
       "    </tr>\n",
       "    <tr>\n",
       "      <th>1</th>\n",
       "      <td>2016-01-01 21:00:00</td>\n",
       "      <td>airbus to sell three a380 superjumbo jets to ...</td>\n",
       "      <td>120.2665</td>\n",
       "      <td>1</td>\n",
       "    </tr>\n",
       "    <tr>\n",
       "      <th>2</th>\n",
       "      <td>2016-01-03 21:00:00</td>\n",
       "      <td>japan central bank turns activist investor to...</td>\n",
       "      <td>113.9180</td>\n",
       "      <td>0</td>\n",
       "    </tr>\n",
       "    <tr>\n",
       "      <th>3</th>\n",
       "      <td>2016-01-05 18:00:00</td>\n",
       "      <td>automakers not silicon valley lead in driverl...</td>\n",
       "      <td>106.3350</td>\n",
       "      <td>1</td>\n",
       "    </tr>\n",
       "    <tr>\n",
       "      <th>4</th>\n",
       "      <td>2016-01-06 04:00:00</td>\n",
       "      <td>japan says to make firm response to north kor...</td>\n",
       "      <td>110.0615</td>\n",
       "      <td>1</td>\n",
       "    </tr>\n",
       "  </tbody>\n",
       "</table>\n",
       "</div>"
      ],
      "text/plain": [
       "     time_gmt_date_hr                                      combined_text  \\\n",
       "0 2016-01-01 20:00:00   airbus to sell three a380 superjumbo jets to ...   \n",
       "1 2016-01-01 21:00:00   airbus to sell three a380 superjumbo jets to ...   \n",
       "2 2016-01-03 21:00:00   japan central bank turns activist investor to...   \n",
       "3 2016-01-05 18:00:00   automakers not silicon valley lead in driverl...   \n",
       "4 2016-01-06 04:00:00   japan says to make firm response to north kor...   \n",
       "\n",
       "      price price_direction  \n",
       "0  120.2665               1  \n",
       "1  120.2665               1  \n",
       "2  113.9180               0  \n",
       "3  106.3350               1  \n",
       "4  110.0615               1  "
      ]
     },
     "execution_count": 39,
     "metadata": {},
     "output_type": "execute_result"
    }
   ],
   "source": [
    "df_combined_news['time_gmt_date_hr'] = pd.to_datetime(df_combined_news['time_gmt_date_hr'])\n",
    "df_usdjpy_['time_gmt_date_hr'] = pd.to_datetime(df_usdjpy_['time_gmt_date_hr'])\n",
    "df_merged = df_combined_news.merge(df_usdjpy_, on =['time_gmt_date_hr'])\n",
    "df_merged.head()"
   ]
  },
  {
   "cell_type": "code",
   "execution_count": 40,
   "id": "d1dee4b0",
   "metadata": {},
   "outputs": [
    {
     "name": "stdout",
     "output_type": "stream",
     "text": [
      "Loaded model from disk\n"
     ]
    }
   ],
   "source": [
    "vad = get_vad_features(df_merged)"
   ]
  },
  {
   "cell_type": "code",
   "execution_count": 41,
   "id": "ce23d876",
   "metadata": {},
   "outputs": [],
   "source": [
    "from sklearn.model_selection import train_test_split\n",
    "\n",
    "X = vad\n",
    "y = df_merged[['price_direction']]\n",
    "\n",
    "X_train, X_test , y_train, y_test = train_test_split(X, y , test_size = 0.20)\n",
    "y_train = np.asarray(y_train).astype(np.float32)\n",
    "y_test = np.asarray(y_test).astype(np.float32)"
   ]
  },
  {
   "cell_type": "code",
   "execution_count": 42,
   "id": "9df3edee",
   "metadata": {},
   "outputs": [
    {
     "name": "stdout",
     "output_type": "stream",
     "text": [
      "Test AUC is 0.5162374693126023 \n"
     ]
    }
   ],
   "source": [
    "logistic_regression(X_train,X_test,y_train,y_test)"
   ]
  },
  {
   "cell_type": "code",
   "execution_count": 43,
   "id": "fcc9124c",
   "metadata": {},
   "outputs": [
    {
     "name": "stdout",
     "output_type": "stream",
     "text": [
      "Test AUC is 0.46884973404255315 \n"
     ]
    }
   ],
   "source": [
    "randomforest_classifier(X_train,X_test,y_train,y_test)"
   ]
  },
  {
   "cell_type": "markdown",
   "id": "7af451ac",
   "metadata": {},
   "source": [
    "# Delta = 5Hr"
   ]
  },
  {
   "cell_type": "code",
   "execution_count": 44,
   "id": "896e76cd",
   "metadata": {},
   "outputs": [
    {
     "name": "stderr",
     "output_type": "stream",
     "text": [
      "<ipython-input-2-03c321cc2c8b>:3: DeprecationWarning: The default dtype for empty Series will be 'object' instead of 'float64' in a future version. Specify a dtype explicitly to silence this warning.\n",
      "  df['time_gmt_datetime'] = pd.Series(index=df.index)\n",
      "/Users/sheetalpandrekar/opt/miniconda3/envs/forextrade/lib/python3.9/site-packages/pandas/core/indexing.py:1637: SettingWithCopyWarning: \n",
      "A value is trying to be set on a copy of a slice from a DataFrame\n",
      "\n",
      "See the caveats in the documentation: https://pandas.pydata.org/pandas-docs/stable/user_guide/indexing.html#returning-a-view-versus-a-copy\n",
      "  self._setitem_single_block(indexer, value, name)\n"
     ]
    },
    {
     "data": {
      "text/html": [
       "<div>\n",
       "<style scoped>\n",
       "    .dataframe tbody tr th:only-of-type {\n",
       "        vertical-align: middle;\n",
       "    }\n",
       "\n",
       "    .dataframe tbody tr th {\n",
       "        vertical-align: top;\n",
       "    }\n",
       "\n",
       "    .dataframe thead th {\n",
       "        text-align: right;\n",
       "    }\n",
       "</style>\n",
       "<table border=\"1\" class=\"dataframe\">\n",
       "  <thead>\n",
       "    <tr style=\"text-align: right;\">\n",
       "      <th></th>\n",
       "      <th>time_gmt_date_hr</th>\n",
       "      <th>combined_text</th>\n",
       "    </tr>\n",
       "  </thead>\n",
       "  <tbody>\n",
       "    <tr>\n",
       "      <th>1917</th>\n",
       "      <td>2015-12-28 00:00:00</td>\n",
       "      <td>japan output retail sales slump dampen recove...</td>\n",
       "    </tr>\n",
       "    <tr>\n",
       "      <th>4671</th>\n",
       "      <td>2015-12-28 04:00:00</td>\n",
       "      <td>japan business lobby head won t commit to hig...</td>\n",
       "    </tr>\n",
       "    <tr>\n",
       "      <th>4360</th>\n",
       "      <td>2015-12-28 07:00:00</td>\n",
       "      <td>south korea japan agree to irreversibly end c...</td>\n",
       "    </tr>\n",
       "    <tr>\n",
       "      <th>5160</th>\n",
       "      <td>2015-12-28 08:00:00</td>\n",
       "      <td>south korea japan agree to irreversibly end c...</td>\n",
       "    </tr>\n",
       "    <tr>\n",
       "      <th>1711</th>\n",
       "      <td>2015-12-28 10:00:00</td>\n",
       "      <td>south korea japan agree to irreversibly end c...</td>\n",
       "    </tr>\n",
       "  </tbody>\n",
       "</table>\n",
       "</div>"
      ],
      "text/plain": [
       "        time_gmt_date_hr                                      combined_text\n",
       "1917 2015-12-28 00:00:00   japan output retail sales slump dampen recove...\n",
       "4671 2015-12-28 04:00:00   japan business lobby head won t commit to hig...\n",
       "4360 2015-12-28 07:00:00   south korea japan agree to irreversibly end c...\n",
       "5160 2015-12-28 08:00:00   south korea japan agree to irreversibly end c...\n",
       "1711 2015-12-28 10:00:00   south korea japan agree to irreversibly end c..."
      ]
     },
     "execution_count": 44,
     "metadata": {},
     "output_type": "execute_result"
    }
   ],
   "source": [
    "df_news = pd.read_csv('Data/news_data.csv')\n",
    "df_combined_news = groupby_Date_Hr(df_news, delta=5)\n",
    "df_combined_news.head(5)"
   ]
  },
  {
   "cell_type": "code",
   "execution_count": 45,
   "id": "9de44401",
   "metadata": {},
   "outputs": [
    {
     "name": "stderr",
     "output_type": "stream",
     "text": [
      "/Users/sheetalpandrekar/opt/miniconda3/envs/forextrade/lib/python3.9/site-packages/pandas/core/indexing.py:1637: SettingWithCopyWarning: \n",
      "A value is trying to be set on a copy of a slice from a DataFrame\n",
      "\n",
      "See the caveats in the documentation: https://pandas.pydata.org/pandas-docs/stable/user_guide/indexing.html#returning-a-view-versus-a-copy\n",
      "  self._setitem_single_block(indexer, value, name)\n"
     ]
    },
    {
     "data": {
      "text/html": [
       "<div>\n",
       "<style scoped>\n",
       "    .dataframe tbody tr th:only-of-type {\n",
       "        vertical-align: middle;\n",
       "    }\n",
       "\n",
       "    .dataframe tbody tr th {\n",
       "        vertical-align: top;\n",
       "    }\n",
       "\n",
       "    .dataframe thead th {\n",
       "        text-align: right;\n",
       "    }\n",
       "</style>\n",
       "<table border=\"1\" class=\"dataframe\">\n",
       "  <thead>\n",
       "    <tr style=\"text-align: right;\">\n",
       "      <th></th>\n",
       "      <th>date</th>\n",
       "      <th>price</th>\n",
       "      <th>price_direction</th>\n",
       "    </tr>\n",
       "  </thead>\n",
       "  <tbody>\n",
       "    <tr>\n",
       "      <th>0</th>\n",
       "      <td>2016-01-01 00:00:00</td>\n",
       "      <td>120.2665</td>\n",
       "      <td>1</td>\n",
       "    </tr>\n",
       "    <tr>\n",
       "      <th>1</th>\n",
       "      <td>2016-01-01 01:00:00</td>\n",
       "      <td>120.2665</td>\n",
       "      <td>1</td>\n",
       "    </tr>\n",
       "    <tr>\n",
       "      <th>2</th>\n",
       "      <td>2016-01-01 02:00:00</td>\n",
       "      <td>120.2665</td>\n",
       "      <td>1</td>\n",
       "    </tr>\n",
       "    <tr>\n",
       "      <th>3</th>\n",
       "      <td>2016-01-01 03:00:00</td>\n",
       "      <td>120.2665</td>\n",
       "      <td>1</td>\n",
       "    </tr>\n",
       "    <tr>\n",
       "      <th>4</th>\n",
       "      <td>2016-01-01 04:00:00</td>\n",
       "      <td>120.2665</td>\n",
       "      <td>1</td>\n",
       "    </tr>\n",
       "  </tbody>\n",
       "</table>\n",
       "</div>"
      ],
      "text/plain": [
       "                  date     price price_direction\n",
       "0  2016-01-01 00:00:00  120.2665               1\n",
       "1  2016-01-01 01:00:00  120.2665               1\n",
       "2  2016-01-01 02:00:00  120.2665               1\n",
       "3  2016-01-01 03:00:00  120.2665               1\n",
       "4  2016-01-01 04:00:00  120.2665               1"
      ]
     },
     "execution_count": 45,
     "metadata": {},
     "output_type": "execute_result"
    }
   ],
   "source": [
    "df_usdjpy = pd.read_csv('Data/usdjpy_hourly.csv')\n",
    "df_usdjpy = encode_price_direction(df_usdjpy)\n",
    "df_usdjpy.head()"
   ]
  },
  {
   "cell_type": "code",
   "execution_count": 46,
   "id": "03f15ecc",
   "metadata": {},
   "outputs": [
    {
     "name": "stderr",
     "output_type": "stream",
     "text": [
      "/Users/sheetalpandrekar/opt/miniconda3/envs/forextrade/lib/python3.9/site-packages/pandas/core/indexing.py:1637: SettingWithCopyWarning: \n",
      "A value is trying to be set on a copy of a slice from a DataFrame\n",
      "\n",
      "See the caveats in the documentation: https://pandas.pydata.org/pandas-docs/stable/user_guide/indexing.html#returning-a-view-versus-a-copy\n",
      "  self._setitem_single_block(indexer, value, name)\n"
     ]
    },
    {
     "data": {
      "text/html": [
       "<div>\n",
       "<style scoped>\n",
       "    .dataframe tbody tr th:only-of-type {\n",
       "        vertical-align: middle;\n",
       "    }\n",
       "\n",
       "    .dataframe tbody tr th {\n",
       "        vertical-align: top;\n",
       "    }\n",
       "\n",
       "    .dataframe thead th {\n",
       "        text-align: right;\n",
       "    }\n",
       "</style>\n",
       "<table border=\"1\" class=\"dataframe\">\n",
       "  <thead>\n",
       "    <tr style=\"text-align: right;\">\n",
       "      <th></th>\n",
       "      <th>time_gmt_date_hr</th>\n",
       "      <th>price</th>\n",
       "      <th>price_direction</th>\n",
       "    </tr>\n",
       "  </thead>\n",
       "  <tbody>\n",
       "    <tr>\n",
       "      <th>0</th>\n",
       "      <td>2015-12-31 22:00:00</td>\n",
       "      <td>120.2665</td>\n",
       "      <td>1</td>\n",
       "    </tr>\n",
       "    <tr>\n",
       "      <th>1</th>\n",
       "      <td>2015-12-31 23:00:00</td>\n",
       "      <td>120.2665</td>\n",
       "      <td>1</td>\n",
       "    </tr>\n",
       "    <tr>\n",
       "      <th>2</th>\n",
       "      <td>2016-01-01 00:00:00</td>\n",
       "      <td>120.2665</td>\n",
       "      <td>1</td>\n",
       "    </tr>\n",
       "    <tr>\n",
       "      <th>3</th>\n",
       "      <td>2016-01-01 01:00:00</td>\n",
       "      <td>120.2665</td>\n",
       "      <td>1</td>\n",
       "    </tr>\n",
       "    <tr>\n",
       "      <th>4</th>\n",
       "      <td>2016-01-01 02:00:00</td>\n",
       "      <td>120.2665</td>\n",
       "      <td>1</td>\n",
       "    </tr>\n",
       "  </tbody>\n",
       "</table>\n",
       "</div>"
      ],
      "text/plain": [
       "      time_gmt_date_hr     price price_direction\n",
       "0  2015-12-31 22:00:00  120.2665               1\n",
       "1  2015-12-31 23:00:00  120.2665               1\n",
       "2  2016-01-01 00:00:00  120.2665               1\n",
       "3  2016-01-01 01:00:00  120.2665               1\n",
       "4  2016-01-01 02:00:00  120.2665               1"
      ]
     },
     "execution_count": 46,
     "metadata": {},
     "output_type": "execute_result"
    }
   ],
   "source": [
    "df_usdjpy_ = align_datetime(df_usdjpy, delta = 2)\n",
    "df_usdjpy_.head()"
   ]
  },
  {
   "cell_type": "code",
   "execution_count": 47,
   "id": "32578954",
   "metadata": {},
   "outputs": [
    {
     "data": {
      "text/html": [
       "<div>\n",
       "<style scoped>\n",
       "    .dataframe tbody tr th:only-of-type {\n",
       "        vertical-align: middle;\n",
       "    }\n",
       "\n",
       "    .dataframe tbody tr th {\n",
       "        vertical-align: top;\n",
       "    }\n",
       "\n",
       "    .dataframe thead th {\n",
       "        text-align: right;\n",
       "    }\n",
       "</style>\n",
       "<table border=\"1\" class=\"dataframe\">\n",
       "  <thead>\n",
       "    <tr style=\"text-align: right;\">\n",
       "      <th></th>\n",
       "      <th>time_gmt_date_hr</th>\n",
       "      <th>combined_text</th>\n",
       "      <th>price</th>\n",
       "      <th>price_direction</th>\n",
       "    </tr>\n",
       "  </thead>\n",
       "  <tbody>\n",
       "    <tr>\n",
       "      <th>0</th>\n",
       "      <td>2016-01-01 20:00:00</td>\n",
       "      <td>airbus to sell three a380 superjumbo jets to ...</td>\n",
       "      <td>120.2665</td>\n",
       "      <td>1</td>\n",
       "    </tr>\n",
       "    <tr>\n",
       "      <th>1</th>\n",
       "      <td>2016-01-01 21:00:00</td>\n",
       "      <td>airbus to sell three a380 superjumbo jets to ...</td>\n",
       "      <td>120.2665</td>\n",
       "      <td>1</td>\n",
       "    </tr>\n",
       "    <tr>\n",
       "      <th>2</th>\n",
       "      <td>2016-01-03 21:00:00</td>\n",
       "      <td>japan central bank turns activist investor to...</td>\n",
       "      <td>113.9180</td>\n",
       "      <td>0</td>\n",
       "    </tr>\n",
       "    <tr>\n",
       "      <th>3</th>\n",
       "      <td>2016-01-05 18:00:00</td>\n",
       "      <td>automakers not silicon valley lead in driverl...</td>\n",
       "      <td>106.3350</td>\n",
       "      <td>1</td>\n",
       "    </tr>\n",
       "    <tr>\n",
       "      <th>4</th>\n",
       "      <td>2016-01-06 04:00:00</td>\n",
       "      <td>japan says to make firm response to north kor...</td>\n",
       "      <td>110.0615</td>\n",
       "      <td>1</td>\n",
       "    </tr>\n",
       "  </tbody>\n",
       "</table>\n",
       "</div>"
      ],
      "text/plain": [
       "     time_gmt_date_hr                                      combined_text  \\\n",
       "0 2016-01-01 20:00:00   airbus to sell three a380 superjumbo jets to ...   \n",
       "1 2016-01-01 21:00:00   airbus to sell three a380 superjumbo jets to ...   \n",
       "2 2016-01-03 21:00:00   japan central bank turns activist investor to...   \n",
       "3 2016-01-05 18:00:00   automakers not silicon valley lead in driverl...   \n",
       "4 2016-01-06 04:00:00   japan says to make firm response to north kor...   \n",
       "\n",
       "      price price_direction  \n",
       "0  120.2665               1  \n",
       "1  120.2665               1  \n",
       "2  113.9180               0  \n",
       "3  106.3350               1  \n",
       "4  110.0615               1  "
      ]
     },
     "execution_count": 47,
     "metadata": {},
     "output_type": "execute_result"
    }
   ],
   "source": [
    "df_combined_news['time_gmt_date_hr'] = pd.to_datetime(df_combined_news['time_gmt_date_hr'])\n",
    "df_usdjpy_['time_gmt_date_hr'] = pd.to_datetime(df_usdjpy_['time_gmt_date_hr'])\n",
    "df_merged = df_combined_news.merge(df_usdjpy_, on =['time_gmt_date_hr'])\n",
    "df_merged.head()"
   ]
  },
  {
   "cell_type": "code",
   "execution_count": 48,
   "id": "39d45e7e",
   "metadata": {},
   "outputs": [
    {
     "name": "stdout",
     "output_type": "stream",
     "text": [
      "Loaded model from disk\n"
     ]
    }
   ],
   "source": [
    "vad = get_vad_features(df_merged)"
   ]
  },
  {
   "cell_type": "code",
   "execution_count": 49,
   "id": "89dca9ce",
   "metadata": {},
   "outputs": [],
   "source": [
    "from sklearn.model_selection import train_test_split\n",
    "\n",
    "X = vad\n",
    "y = df_merged[['price_direction']]\n",
    "\n",
    "X_train, X_test , y_train, y_test = train_test_split(X, y , test_size = 0.20)\n",
    "y_train = np.asarray(y_train).astype(np.float32)\n",
    "y_test = np.asarray(y_test).astype(np.float32)"
   ]
  },
  {
   "cell_type": "code",
   "execution_count": 50,
   "id": "14fc9fe7",
   "metadata": {},
   "outputs": [
    {
     "name": "stdout",
     "output_type": "stream",
     "text": [
      "Test AUC is 0.5112949805992099 \n"
     ]
    }
   ],
   "source": [
    "logistic_regression(X_train,X_test,y_train,y_test)"
   ]
  },
  {
   "cell_type": "code",
   "execution_count": 51,
   "id": "dfedd9bc",
   "metadata": {},
   "outputs": [
    {
     "name": "stdout",
     "output_type": "stream",
     "text": [
      "Test AUC is 0.4821254559122421 \n"
     ]
    }
   ],
   "source": [
    "randomforest_classifier(X_train,X_test,y_train,y_test)"
   ]
  },
  {
   "cell_type": "code",
   "execution_count": null,
   "id": "730a8bd1",
   "metadata": {},
   "outputs": [],
   "source": []
  }
 ],
 "metadata": {
  "kernelspec": {
   "display_name": "Python 3",
   "language": "python",
   "name": "python3"
  },
  "language_info": {
   "codemirror_mode": {
    "name": "ipython",
    "version": 3
   },
   "file_extension": ".py",
   "mimetype": "text/x-python",
   "name": "python",
   "nbconvert_exporter": "python",
   "pygments_lexer": "ipython3",
   "version": "3.9.4"
  }
 },
 "nbformat": 4,
 "nbformat_minor": 5
}
